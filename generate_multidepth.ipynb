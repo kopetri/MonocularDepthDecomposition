{
 "cells": [
  {
   "cell_type": "code",
   "execution_count": 1,
   "id": "8089b058",
   "metadata": {
    "ExecuteTime": {
     "end_time": "2022-03-09T11:55:01.865509Z",
     "start_time": "2022-03-09T11:54:55.731131Z"
    }
   },
   "outputs": [
    {
     "name": "stdout",
     "output_type": "stream",
     "text": [
      "[Taichi] version 0.8.1, llvm 10.0.0, commit cc2dd342, linux, python 3.9.7\n",
      "[TaiGLSL] version 0.0.11\n"
     ]
    }
   ],
   "source": [
    "from pathlib import Path\n",
    "from tqdm import trange\n",
    "\n",
    "import torch\n",
    "import torch.nn.functional as F\n",
    "\n",
    "import taichi as ti\n",
    "\n",
    "from differender.volume_raycaster import Raycaster\n",
    "from differender.utils import get_rand_pos, in_circles, get_tf\n",
    "\n",
    "from torchvtk.datasets import TorchDataset\n",
    "from torchvtk.utils import TFGenerator, tex_from_pts, make_4d\n",
    "from torchvtk.rendering import show_tf, plot_tf, plot_comp_render_tf\n",
    "\n",
    "import matplotlib.pyplot as plt"
   ]
  },
  {
   "cell_type": "code",
   "execution_count": null,
   "id": "a55221e7",
   "metadata": {
    "ExecuteTime": {
     "end_time": "2022-03-09T11:55:01.887729Z",
     "start_time": "2022-03-09T11:54:56.189Z"
    }
   },
   "outputs": [],
   "source": [
    "def show_im(im, axs=None):\n",
    "    if axs is None:\n",
    "        fig, axs = plt.subplot_mosaic([['rgb', 'alpha', 'wysiwyp'],\n",
    "                                        ['depth1', 'depth2', 'depth3'],\n",
    "                                        ['alpha1', 'alpha2', 'alpha3'],\n",
    "                                        ['sorted1','sorted2','sorted3'],\n",
    "                                        ['diff1','diff2','diff3']], figsize=(15,25))\n",
    "    axs['rgb'].imshow(im.squeeze()[:3].permute(1,2,0).cpu().numpy())\n",
    "    axs['rgb'].set_title('Color')\n",
    "    axs['rgb'].set_axis_off()\n",
    "    axs['alpha'].imshow(im.squeeze()[[3,3,3]].permute(1,2,0).cpu().numpy())\n",
    "    axs['alpha'].set_title('Alpha')\n",
    "    axs['alpha'].set_axis_off()\n",
    "    axs['wysiwyp'].imshow(im.squeeze()[[4]].permute(1,2,0).cpu().numpy())\n",
    "    axs['wysiwyp'].set_title('WYSIWYP')\n",
    "    axs['wysiwyp'].set_axis_off()    \n",
    "    \n",
    "    axs['depth1'].imshow(im.squeeze()[[4]].permute(1,2,0).cpu().numpy())\n",
    "    axs['depth1'].set_title('Interval 1')\n",
    "    axs['depth1'].set_axis_off()\n",
    "    axs['depth2'].imshow(im.squeeze()[[5]].permute(1,2,0).cpu().numpy())\n",
    "    axs['depth2'].set_title('Interval 2')\n",
    "    axs['depth2'].set_axis_off()\n",
    "    axs['depth3'].imshow(im.squeeze()[[6]].permute(1,2,0).cpu().numpy())\n",
    "    axs['depth3'].set_title('Interval 3')\n",
    "    axs['depth3'].set_axis_off()\n",
    "    axs['alpha1'].imshow(im.squeeze()[[7]].permute(1,2,0).cpu().numpy())\n",
    "    axs['alpha1'].set_title('Alpha at I1')\n",
    "    axs['alpha1'].set_axis_off()\n",
    "    axs['alpha2'].imshow(im.squeeze()[[8]].permute(1,2,0).cpu().numpy())\n",
    "    axs['alpha2'].set_title('Alpha at I2')\n",
    "    axs['alpha2'].set_axis_off()\n",
    "    axs['alpha3'].imshow(im.squeeze()[[9]].permute(1,2,0).cpu().numpy())\n",
    "    axs['alpha3'].set_title('Alpha at I3')\n",
    "    axs['alpha3'].set_axis_off()\n",
    "\n",
    "    \n",
    "    sorted_depth, idx = rgbad[4:7].sort(dim=0)\n",
    "    axs['sorted1'].imshow(sorted_depth[[0]].permute(1,2,0).cpu().numpy())\n",
    "    axs['sorted1'].set_title('Sorted Depth 1')\n",
    "    axs['sorted1'].set_axis_off()\n",
    "    axs['sorted2'].imshow(sorted_depth[[1]].permute(1,2,0).cpu().numpy())\n",
    "    axs['sorted2'].set_title('Sorted Depth 2')\n",
    "    axs['sorted2'].set_axis_off()\n",
    "    axs['sorted3'].imshow(sorted_depth[[2]].permute(1,2,0).cpu().numpy())\n",
    "    axs['sorted3'].set_title('Sorted Depth 3')\n",
    "    axs['sorted3'].set_axis_off()\n",
    "    \n",
    "    if 'diff1' in axs:\n",
    "        diff1 = sorted_depth[1] - sorted_depth[0]\n",
    "        diff2 = sorted_depth[2] - sorted_depth[1]\n",
    "        diff3 = sorted_depth[2] - sorted_depth[0]\n",
    "        axs['diff1'].imshow(diff1[None].permute(1,2,0).cpu().numpy())\n",
    "        axs['diff1'].set_title('Sorted 2 - 1')\n",
    "        axs['diff1'].set_axis_off()\n",
    "        axs['diff2'].imshow(diff2[None].permute(1,2,0).cpu().numpy())\n",
    "        axs['diff2'].set_title('Sorted 3 - 2')\n",
    "        axs['diff2'].set_axis_off()\n",
    "        axs['diff3'].imshow(diff3[None].permute(1,2,0).cpu().numpy())\n",
    "        axs['diff3'].set_title('Sorted 3 - 1')\n",
    "        axs['diff3'].set_axis_off()\n",
    "    \n",
    "    \n",
    "    \n",
    "    \n",
    "def show_hist(im, ax=None, title='Histogram', show_percentages=True):\n",
    "    tit = f'{title}'\n",
    "    x = torch.linspace(0.0, 1.0, BINS)\n",
    "    hst = torch.histc(im, BINS, min=0.0, max=1.0).cpu()\n",
    "    \n",
    "    if show_percentages:\n",
    "        tit = f'{tit}: Transparent: {hst[1:-1].sum()/im.numel():.1%}'\n",
    "        tit = f'{tit} | Opaque: {hst[-1]/im.numel():.1%}'\n",
    "        tit = f'{tit} | Visible: {1.0 - hst[0]/im.numel():.1%}'\n",
    "    if ax is None:\n",
    "        fig, ax = plt.subplots(1,1, figsize=(5,5))\n",
    "        fig.title(tit)\n",
    "    else:\n",
    "        ax.set_title(tit)\n",
    "    \n",
    "    ax.bar(x, hst, width=1/BINS)\n",
    "    "
   ]
  },
  {
   "cell_type": "code",
   "execution_count": 4,
   "id": "f1c4476b",
   "metadata": {
    "ExecuteTime": {
     "end_time": "2022-03-09T11:55:16.079629Z",
     "start_time": "2022-03-09T11:55:16.075542Z"
    }
   },
   "outputs": [],
   "source": [
    "N_ITEMS = 100000\n",
    "W, H = 512, 512\n",
    "TF_RES = 256\n",
    "BINS = 51\n",
    "SR = 16.0 # Sampling rate\n",
    "\n",
    "out_dir = Path('/run/media/dome/Cluster/STDepth_data_multi')\n",
    "ds = TorchDataset('/run/media/dome/Data/data/torchvtk/CQ500')\n",
    "# ds = TorchDataset('/mnt/hdd/shared_datasets/torchvtk/CQ500')\n",
    "N_VOLUMES = len(ds)"
   ]
  },
  {
   "cell_type": "code",
   "execution_count": 2,
   "id": "81be4b2b",
   "metadata": {
    "ExecuteTime": {
     "end_time": "2022-03-09T11:55:02.989968Z",
     "start_time": "2022-03-09T11:55:02.982915Z"
    }
   },
   "outputs": [],
   "source": [
    "tfgen = TFGenerator(colors='distinguishable', peakgen_kwargs={\n",
    "    'max_num_peaks': 3,\n",
    "    'height_range': (0.02, 0.4),\n",
    "    'width_range': (0.005, 0.05),\n",
    "    'use_hist': False\n",
    "})"
   ]
  },
  {
   "cell_type": "code",
   "execution_count": 3,
   "id": "bcaa2e89",
   "metadata": {
    "ExecuteTime": {
     "end_time": "2022-03-09T11:55:07.491368Z",
     "start_time": "2022-03-09T11:55:07.432265Z"
    },
    "scrolled": false
   },
   "outputs": [
    {
     "ename": "NameError",
     "evalue": "name 'TF_RES' is not defined",
     "output_type": "error",
     "traceback": [
      "\u001b[0;31m---------------------------------------------------------------------------\u001b[0m",
      "\u001b[0;31mNameError\u001b[0m                                 Traceback (most recent call last)",
      "\u001b[0;32m<ipython-input-3-4471b5ef5c12>\u001b[0m in \u001b[0;36m<module>\u001b[0;34m\u001b[0m\n\u001b[1;32m      6\u001b[0m \u001b[0;32mfor\u001b[0m \u001b[0mi\u001b[0m \u001b[0;32min\u001b[0m \u001b[0mrange\u001b[0m\u001b[0;34m(\u001b[0m\u001b[0mn_peaks\u001b[0m\u001b[0;34m)\u001b[0m\u001b[0;34m:\u001b[0m\u001b[0;34m\u001b[0m\u001b[0;34m\u001b[0m\u001b[0m\n\u001b[1;32m      7\u001b[0m     \u001b[0mpeak\u001b[0m \u001b[0;34m=\u001b[0m \u001b[0mtorch\u001b[0m\u001b[0;34m.\u001b[0m\u001b[0mcat\u001b[0m\u001b[0;34m(\u001b[0m\u001b[0;34m[\u001b[0m\u001b[0mtf\u001b[0m\u001b[0;34m[\u001b[0m\u001b[0;34m[\u001b[0m\u001b[0;36m0\u001b[0m\u001b[0;34m]\u001b[0m\u001b[0;34m]\u001b[0m\u001b[0;34m,\u001b[0m \u001b[0mtf\u001b[0m\u001b[0;34m[\u001b[0m\u001b[0;36m6\u001b[0m\u001b[0;34m*\u001b[0m\u001b[0mi\u001b[0m\u001b[0;34m+\u001b[0m\u001b[0;36m1\u001b[0m \u001b[0;34m:\u001b[0m \u001b[0;36m6\u001b[0m\u001b[0;34m*\u001b[0m\u001b[0;34m(\u001b[0m\u001b[0mi\u001b[0m\u001b[0;34m+\u001b[0m\u001b[0;36m1\u001b[0m\u001b[0;34m)\u001b[0m\u001b[0;34m+\u001b[0m\u001b[0;36m1\u001b[0m\u001b[0;34m]\u001b[0m\u001b[0;34m,\u001b[0m \u001b[0mtf\u001b[0m\u001b[0;34m[\u001b[0m\u001b[0;34m[\u001b[0m\u001b[0;34m-\u001b[0m\u001b[0;36m1\u001b[0m\u001b[0;34m]\u001b[0m\u001b[0;34m]\u001b[0m\u001b[0;34m]\u001b[0m\u001b[0;34m,\u001b[0m \u001b[0mdim\u001b[0m\u001b[0;34m=\u001b[0m\u001b[0;36m0\u001b[0m\u001b[0;34m)\u001b[0m\u001b[0;34m\u001b[0m\u001b[0;34m\u001b[0m\u001b[0m\n\u001b[0;32m----> 8\u001b[0;31m     \u001b[0msingle_peaks\u001b[0m\u001b[0;34m.\u001b[0m\u001b[0mappend\u001b[0m\u001b[0;34m(\u001b[0m\u001b[0;34m{\u001b[0m\u001b[0;34m'pts'\u001b[0m\u001b[0;34m:\u001b[0m \u001b[0mpeak\u001b[0m\u001b[0;34m,\u001b[0m \u001b[0;34m'tex'\u001b[0m\u001b[0;34m:\u001b[0m \u001b[0mtex_from_pts\u001b[0m\u001b[0;34m(\u001b[0m\u001b[0mpeak\u001b[0m\u001b[0;34m,\u001b[0m \u001b[0mTF_RES\u001b[0m\u001b[0;34m)\u001b[0m\u001b[0;34m}\u001b[0m\u001b[0;34m)\u001b[0m\u001b[0;34m\u001b[0m\u001b[0;34m\u001b[0m\u001b[0m\n\u001b[0m\u001b[1;32m      9\u001b[0m \u001b[0;34m\u001b[0m\u001b[0m\n\u001b[1;32m     10\u001b[0m rgbad_full = raycaster.raycast_nondiff(vol.float().cuda(), tex_from_pts(tf, TF_RES).float().cuda(),\n",
      "\u001b[0;31mNameError\u001b[0m: name 'TF_RES' is not defined"
     ]
    }
   ],
   "source": [
    "tf = tfgen.generate()\n",
    "while len(tf) == 8: # single peak\n",
    "    tf = tfgen.generate()\n",
    "n_peaks = (len(tf)-2)//6\n",
    "single_peaks = []\n",
    "for i in range(n_peaks):\n",
    "    peak = torch.cat([tf[[0]], tf[6*i+1 : 6*(i+1)+1], tf[[-1]]], dim=0)\n",
    "    single_peaks.append({'pts': peak, 'tex': tex_from_pts(peak, TF_RES)})\n",
    "    \n",
    "rgbad_full = raycaster.raycast_nondiff(vol.float().cuda(), tex_from_pts(tf, TF_RES).float().cuda(),\n",
    "                                       lf.float().cuda(), sampling_rate=SR).squeeze(0).detach().cpu()\n",
    "rgbad_full[4:][(rgbad_full[4:] == 0.0)] = 1.0\n",
    "show_im(rgbad_full)\n",
    "\n",
    "single_peak_renders = []\n",
    "for p in single_peaks:\n",
    "    rgbad = raycaster.raycast_nondiff(vol.float().cuda(), p['tex'].float().cuda(), \n",
    "                                      lf.float().cuda(), sampling_rate=SR).squeeze(0)\n",
    "    \n",
    "    rgbad[4:][(rgbad[4:] == 0.0)] = 1.0\n",
    "    \n",
    "    single_peak_renders.append(rgbad.detach().cpu())\n",
    "    fig, ax = plt.subplot_mosaic([['hist', 'hist', 'tf1'], \n",
    "                                  ['hist', 'hist', 'tf2'], \n",
    "                                  ['rgb', 'alpha', 'wysiwyp'],\n",
    "                                  ['depth1', 'depth2', 'depth3'],\n",
    "                                  ['alpha1', 'alpha2', 'alpha3'],\n",
    "                                  ['sorted1', 'sorted2', 'sorted3']], figsize=(15,25), gridspec_kw={\n",
    "        'width_ratios': [1.0, 1.0, 1.0], 'height_ratios': [0.5, 0.5, 1.0, 1.0, 1.0, 1.0]\n",
    "    })\n",
    "    show_hist(rgbad[3], ax['hist'], title='Alpha Histogram')\n",
    "    show_tf(p['pts'], ax=ax['tf1'], title='Current TF Peak')\n",
    "    show_tf(tf, ax=ax['tf2'], title='Full Transfer Function')\n",
    "    show_im(rgbad, axs=ax)\n",
    "    \n",
    "    fig.show()\n",
    "\n",
    "for r, p in zip(single_peak_renders, single_peaks):\n",
    "    abs_diff = torch.abs(r[:4] - rgbad_full[:4])\n",
    "    abs_ddif = torch.abs(r[[4]] - rgbad_full[[4]])\n",
    "    mae = abs_diff.mean()\n",
    "    pct = (abs_diff.max(dim=0).values > 0.1).float().mean().item()\n",
    "    fig, ax = plt.subplot_mosaic([['single', 'full', 'diff'],\n",
    "                                  ['sdepth', 'fdepth', 'ddepth'],\n",
    "                                  ['salpha', 'falpha', 'dalpha'],\n",
    "                                  ['tf1', 'tf2', 'hist']], figsize=(15,12), gridspec_kw={\n",
    "        'width_ratios': [1.0, 1.0, 1.0], 'height_ratios': [5.0, 5.0, 5.0, 2.0]\n",
    "    })\n",
    "    ax['single'].imshow(r[:3].permute(1,2,0))\n",
    "    ax['single'].set_title('Partial RGB')\n",
    "    ax['single'].set_axis_off()\n",
    "    \n",
    "    ax['full'].imshow(rgbad_full[:3].permute(1,2,0))\n",
    "    ax['full'].set_title('Full RGB')\n",
    "    ax['full'].set_axis_off()\n",
    "    ax['diff'].imshow(abs_diff[:3].permute(1,2,0))\n",
    "    ax['diff'].set_title(f'Abs RGB Difference. Pct: {pct:.1%}')\n",
    "    ax['diff'].set_axis_off()\n",
    "    \n",
    "    ax['sdepth'].imshow(r[[4,4,4]].permute(1,2,0))\n",
    "    ax['sdepth'].set_title('Partial Depth')\n",
    "    ax['sdepth'].set_axis_off()\n",
    "    ax['fdepth'].imshow(rgbad_full[[4,4,4]].permute(1,2,0))\n",
    "    ax['fdepth'].set_title('Full Depth')\n",
    "    ax['fdepth'].set_axis_off()\n",
    "    ax['ddepth'].imshow(abs_ddif.permute(1,2,0))\n",
    "    ax['ddepth'].set_title('Depth Difference')\n",
    "    ax['ddepth'].set_axis_off()\n",
    "    show_tf(p['pts'], ax=ax['tf1'], title='Partial TF')\n",
    "    show_tf(tf, ax=ax['tf2'], title='Full TF')\n",
    "    show_hist(abs_diff.max(dim=0).values, ax['hist'], title='Difference Histogram', show_percentages=False)\n",
    "    \n",
    "    fig.show()\n",
    "    "
   ]
  },
  {
   "cell_type": "code",
   "execution_count": 11,
   "id": "fc11baa1",
   "metadata": {
    "ExecuteTime": {
     "end_time": "2022-02-22T08:21:29.149064Z",
     "start_time": "2022-02-22T08:21:27.605041Z"
    }
   },
   "outputs": [
    {
     "name": "stdout",
     "output_type": "stream",
     "text": [
      "Percentage 0.02 < Alpha < 0.9:  17.7%\n",
      "Percentage        Alpha > 0.98: 5.5%\n",
      "Percentage visible (>=0.02):    23.2%\n"
     ]
    },
    {
     "data": {
      "image/png": "[encoded data removed]",
      "text/plain": [
       "<Figure size 432x288 with 1 Axes>"
      ]
     },
     "metadata": {
      "needs_background": "light"
     },
     "output_type": "display_data"
    },
    {
     "data": {
      "image/png": "[encoded data removed]",
      "text/plain": [
       "<Figure size 432x288 with 1 Axes>"
      ]
     },
     "metadata": {
      "needs_background": "light"
     },
     "output_type": "display_data"
    },
    {
     "data": {
      "image/png": "[encoded data removed]",
      "text/plain": [
       "<Figure size 1080x720 with 6 Axes>"
      ]
     },
     "metadata": {
      "needs_background": "light"
     },
     "output_type": "display_data"
    }
   ],
   "source": [
    "lf = in_circles(4.7)\n",
    "tf = tex_from_pts(tfgen.generate(), TF_RES).float().to('cuda')\n",
    "rgbad = raycaster.raycast_nondiff(vol, tf, lf, sampling_rate=SR).squeeze(0)\n",
    "x = torch.linspace(0.0, 1.0, BINS)\n",
    "hst = torch.histc(rgbad[3], BINS, min=0.0, max=1.0).cpu()\n",
    "print(f'Percentage 0.02 < Alpha < 0.9:  {hst[1:-1].sum()/rgbad[3].numel():.1%}')\n",
    "print(f'Percentage        Alpha > 0.98: {hst[-1]/rgbad[3].numel():.1%}')\n",
    "print(f'Percentage visible (>=0.02):    {1.0 - hst[0]/rgbad[3].numel():.1%}')\n",
    "plt.bar(x, hst, width=1/BINS)\n",
    "plt.title('Alpha Histogram')\n",
    "plt.show()\n",
    "plot_tf(tf, title='Transfer Function')\n",
    "show_im(rgbad)"
   ]
  },
  {
   "cell_type": "code",
   "execution_count": null,
   "id": "cda2b3ac",
   "metadata": {},
   "outputs": [],
   "source": [
    "!ls /"
   ]
  },
  {
   "cell_type": "code",
   "execution_count": null,
   "id": "6f84d738",
   "metadata": {
    "ExecuteTime": {
     "start_time": "2022-03-09T11:55:39.309Z"
    },
    "scrolled": false
   },
   "outputs": [
    {
     "name": "stderr",
     "output_type": "stream",
     "text": [
      "\r",
      "  0%|          | 0/395 [00:00<?, ?it/s]"
     ]
    },
    {
     "name": "stdout",
     "output_type": "stream",
     "text": [
      "[Taichi] Starting on arch=cuda\n"
     ]
    },
    {
     "name": "stderr",
     "output_type": "stream",
     "text": [
      "\n",
      "  0%|          | 0/253 [00:00<?, ?it/s]\u001b[A"
     ]
    },
    {
     "name": "stdout",
     "output_type": "stream",
     "text": [
      "Skipping another useless render (1)\n",
      "Skipping another useless render (2)\n",
      "Skipping another useless render (3)\n",
      "Skipping another useless render (4)\n",
      "Skipping another useless render (5)\n",
      "Skipping another useless render (6)\n",
      "Skipping another useless render (7)\n",
      "Skipping another useless render (8)\n",
      "Skipping another useless render (9)\n",
      "Skipping another useless render (10)\n"
     ]
    },
    {
     "name": "stderr",
     "output_type": "stream",
     "text": [
      "\n",
      "  0%|          | 1/253 [00:12<53:06, 12.65s/it]\u001b[A"
     ]
    },
    {
     "name": "stdout",
     "output_type": "stream",
     "text": [
      "Skipping another useless render (11)\n",
      "Skipping another useless render (12)\n",
      "Skipping another useless render (13)\n",
      "Skipping another useless render (14)\n",
      "Skipping another useless render (15)\n",
      "Skipping another useless render (16)\n"
     ]
    },
    {
     "name": "stderr",
     "output_type": "stream",
     "text": [
      "\n",
      "  1%|          | 2/253 [00:17<34:17,  8.20s/it]\u001b[A"
     ]
    },
    {
     "name": "stdout",
     "output_type": "stream",
     "text": [
      "Skipping another useless render (17)\n"
     ]
    },
    {
     "name": "stderr",
     "output_type": "stream",
     "text": [
      "\n",
      "  1%|          | 3/253 [00:19<21:46,  5.23s/it]\u001b[A"
     ]
    },
    {
     "name": "stdout",
     "output_type": "stream",
     "text": [
      "Skipping another useless render (18)\n",
      "Skipping another useless render (19)\n",
      "Skipping another useless render (20)\n",
      "Skipping another useless render (21)\n",
      "Skipping another useless render (22)\n"
     ]
    },
    {
     "name": "stderr",
     "output_type": "stream",
     "text": [
      "\n",
      "  2%|▏         | 4/253 [00:23<20:27,  4.93s/it]\u001b[A"
     ]
    },
    {
     "name": "stdout",
     "output_type": "stream",
     "text": [
      "Skipping another useless render (23)\n",
      "Skipping another useless render (24)\n",
      "Skipping another useless render (25)\n",
      "Skipping another useless render (26)\n",
      "Skipping another useless render (27)\n"
     ]
    },
    {
     "name": "stderr",
     "output_type": "stream",
     "text": [
      "\n",
      "  2%|▏         | 5/253 [00:28<19:56,  4.82s/it]\u001b[A\n",
      "  2%|▏         | 6/253 [00:29<14:04,  3.42s/it]\u001b[A"
     ]
    },
    {
     "name": "stdout",
     "output_type": "stream",
     "text": [
      "Skipping another useless render (28)\n",
      "Skipping another useless render (29)\n",
      "Skipping another useless render (30)\n",
      "Skipping another useless render (31)\n",
      "Skipping another useless render (32)\n",
      "Skipping another useless render (33)\n",
      "Skipping another useless render (34)\n",
      "Skipping another useless render (35)\n",
      "Skipping another useless render (36)\n",
      "Skipping another useless render (37)\n",
      "Skipping another useless render (38)\n",
      "Skipping another useless render (39)\n",
      "Skipping another useless render (40)\n",
      "Skipping another useless render (41)\n",
      "Skipping another useless render (42)\n",
      "Skipping another useless render (43)\n",
      "Skipping another useless render (44)\n",
      "Skipping another useless render (45)\n",
      "Skipping another useless render (46)\n",
      "Skipping another useless render (47)\n",
      "Skipping another useless render (48)\n",
      "Skipping another useless render (49)\n",
      "Skipping another useless render (50)\n",
      "Skipping another useless render (51)\n",
      "Skipping another useless render (52)\n",
      "Skipping another useless render (53)\n",
      "Skipping another useless render (54)\n",
      "Skipping another useless render (55)\n",
      "Skipping another useless render (56)\n",
      "Skipping another useless render (57)\n",
      "Skipping another useless render (58)\n",
      "Skipping another useless render (59)\n",
      "Skipping another useless render (60)\n",
      "Skipping another useless render (61)\n",
      "Skipping another useless render (62)\n",
      "Skipping another useless render (63)\n",
      "Skipping another useless render (64)\n",
      "Skipping another useless render (65)\n",
      "Skipping another useless render (66)\n",
      "Skipping another useless render (67)\n",
      "Skipping another useless render (68)\n",
      "Skipping another useless render (69)\n",
      "Skipping another useless render (70)\n",
      "Skipping another useless render (71)\n"
     ]
    },
    {
     "name": "stderr",
     "output_type": "stream",
     "text": [
      "\n",
      "  3%|▎         | 7/253 [01:02<54:32, 13.30s/it]\u001b[A"
     ]
    },
    {
     "name": "stdout",
     "output_type": "stream",
     "text": [
      "Skipping another useless render (72)\n",
      "Skipping another useless render (73)\n",
      "Skipping another useless render (74)\n",
      "Skipping another useless render (75)\n",
      "Skipping another useless render (76)\n",
      "Skipping another useless render (77)\n",
      "Skipping another useless render (78)\n",
      "Skipping another useless render (79)\n",
      "Skipping another useless render (80)\n",
      "Skipping another useless render (81)\n",
      "Skipping another useless render (82)\n",
      "Skipping another useless render (83)\n"
     ]
    },
    {
     "name": "stderr",
     "output_type": "stream",
     "text": [
      "\n",
      "  3%|▎         | 8/253 [01:12<49:12, 12.05s/it]\u001b[A"
     ]
    },
    {
     "name": "stdout",
     "output_type": "stream",
     "text": [
      "Skipping another useless render (84)\n",
      "Skipping another useless render (85)\n",
      "Skipping another useless render (86)\n",
      "Skipping another useless render (87)\n",
      "Skipping another useless render (88)\n",
      "Skipping another useless render (89)\n",
      "Skipping another useless render (90)\n",
      "Skipping another useless render (91)\n",
      "Skipping another useless render (92)\n",
      "Skipping another useless render (93)\n"
     ]
    },
    {
     "name": "stderr",
     "output_type": "stream",
     "text": [
      "\n",
      "  4%|▎         | 9/253 [01:20<44:05, 10.84s/it]\u001b[A"
     ]
    },
    {
     "name": "stdout",
     "output_type": "stream",
     "text": [
      "Skipping another useless render (94)\n",
      "Skipping another useless render (95)\n",
      "Skipping another useless render (96)\n",
      "Skipping another useless render (97)\n",
      "Skipping another useless render (98)\n",
      "Skipping another useless render (99)\n",
      "Skipping another useless render (100)\n",
      "Skipping another useless render (101)\n",
      "Skipping another useless render (102)\n",
      "Skipping another useless render (103)\n",
      "Skipping another useless render (104)\n",
      "Skipping another useless render (105)\n",
      "Skipping another useless render (106)\n",
      "Skipping another useless render (107)\n",
      "Skipping another useless render (108)\n",
      "Skipping another useless render (109)\n",
      "Skipping another useless render (110)\n"
     ]
    },
    {
     "name": "stderr",
     "output_type": "stream",
     "text": [
      "\n",
      "  4%|▍         | 10/253 [01:33<46:53, 11.58s/it]\u001b[A"
     ]
    },
    {
     "name": "stdout",
     "output_type": "stream",
     "text": [
      "Skipping another useless render (111)\n",
      "Skipping another useless render (112)\n"
     ]
    },
    {
     "name": "stderr",
     "output_type": "stream",
     "text": [
      "\n",
      "  4%|▍         | 11/253 [01:36<35:41,  8.85s/it]\u001b[A"
     ]
    },
    {
     "name": "stdout",
     "output_type": "stream",
     "text": [
      "Skipping another useless render (113)\n",
      "Skipping another useless render (114)\n",
      "Skipping another useless render (115)\n",
      "Skipping another useless render (116)\n",
      "Skipping another useless render (117)\n",
      "Skipping another useless render (118)\n",
      "Skipping another useless render (119)\n",
      "Skipping another useless render (120)\n",
      "Skipping another useless render (121)\n",
      "Skipping another useless render (122)\n",
      "Skipping another useless render (123)\n",
      "Skipping another useless render (124)\n",
      "Skipping another useless render (125)\n",
      "Skipping another useless render (126)\n",
      "Skipping another useless render (127)\n",
      "Skipping another useless render (128)\n",
      "Skipping another useless render (129)\n",
      "Skipping another useless render (130)\n",
      "Skipping another useless render (131)\n",
      "Skipping another useless render (132)\n",
      "Skipping another useless render (133)\n",
      "Skipping another useless render (134)\n",
      "Skipping another useless render (135)\n",
      "Skipping another useless render (136)\n",
      "Skipping another useless render (137)\n",
      "Skipping another useless render (138)\n",
      "Skipping another useless render (139)\n",
      "Skipping another useless render (140)\n",
      "Skipping another useless render (141)\n",
      "Skipping another useless render (142)\n",
      "Skipping another useless render (143)\n",
      "Skipping another useless render (144)\n",
      "Skipping another useless render (145)\n",
      "Skipping another useless render (146)\n",
      "Skipping another useless render (147)\n"
     ]
    },
    {
     "name": "stderr",
     "output_type": "stream",
     "text": [
      "\n",
      "  5%|▍         | 12/253 [02:04<58:35, 14.59s/it]\u001b[A"
     ]
    },
    {
     "name": "stdout",
     "output_type": "stream",
     "text": [
      "Skipping another useless render (148)\n",
      "Skipping another useless render (149)\n"
     ]
    },
    {
     "name": "stderr",
     "output_type": "stream",
     "text": [
      "\n",
      "  5%|▌         | 13/253 [02:06<43:19, 10.83s/it]\u001b[A"
     ]
    },
    {
     "name": "stdout",
     "output_type": "stream",
     "text": [
      "Skipping another useless render (150)\n",
      "Skipping another useless render (151)\n",
      "Skipping another useless render (152)\n",
      "Skipping another useless render (153)\n",
      "Skipping another useless render (154)\n",
      "Skipping another useless render (155)\n",
      "Skipping another useless render (156)\n",
      "Skipping another useless render (157)\n",
      "Skipping another useless render (158)\n",
      "Skipping another useless render (159)\n",
      "Skipping another useless render (160)\n",
      "Skipping another useless render (161)\n",
      "Skipping another useless render (162)\n",
      "Skipping another useless render (163)\n",
      "Skipping another useless render (164)\n",
      "Skipping another useless render (165)\n",
      "Skipping another useless render (166)\n",
      "Skipping another useless render (167)\n"
     ]
    },
    {
     "name": "stderr",
     "output_type": "stream",
     "text": [
      "\n",
      "  6%|▌         | 14/253 [02:20<47:50, 12.01s/it]\u001b[A"
     ]
    },
    {
     "name": "stdout",
     "output_type": "stream",
     "text": [
      "Skipping another useless render (168)\n",
      "Skipping another useless render (169)\n",
      "Skipping another useless render (170)\n",
      "Skipping another useless render (171)\n",
      "Skipping another useless render (172)\n",
      "Skipping another useless render (173)\n",
      "Skipping another useless render (174)\n",
      "Skipping another useless render (175)\n",
      "Skipping another useless render (176)\n",
      "Skipping another useless render (177)\n",
      "Skipping another useless render (178)\n",
      "Skipping another useless render (179)\n",
      "Skipping another useless render (180)\n",
      "Skipping another useless render (181)\n",
      "Skipping another useless render (182)\n",
      "Skipping another useless render (183)\n"
     ]
    },
    {
     "name": "stderr",
     "output_type": "stream",
     "text": [
      "\n",
      "  6%|▌         | 15/253 [02:34<48:54, 12.33s/it]\u001b[A"
     ]
    },
    {
     "name": "stdout",
     "output_type": "stream",
     "text": [
      "Skipping another useless render (184)\n",
      "Skipping another useless render (185)\n",
      "Skipping another useless render (186)\n",
      "Skipping another useless render (187)\n",
      "Skipping another useless render (188)\n",
      "Skipping another useless render (189)\n",
      "Skipping another useless render (190)\n",
      "Skipping another useless render (191)\n",
      "Skipping another useless render (192)\n",
      "Skipping another useless render (193)\n",
      "Skipping another useless render (194)\n",
      "Skipping another useless render (195)\n",
      "Skipping another useless render (196)\n",
      "Skipping another useless render (197)\n",
      "Skipping another useless render (198)\n",
      "Skipping another useless render (199)\n",
      "Skipping another useless render (200)\n",
      "Skipping another useless render (201)\n",
      "Skipping another useless render (202)\n",
      "Skipping another useless render (203)\n"
     ]
    },
    {
     "name": "stderr",
     "output_type": "stream",
     "text": [
      "\n",
      "  6%|▋         | 16/253 [02:50<53:28, 13.54s/it]\u001b[A"
     ]
    },
    {
     "name": "stdout",
     "output_type": "stream",
     "text": [
      "Skipping another useless render (204)\n",
      "Skipping another useless render (205)\n",
      "Skipping another useless render (206)\n",
      "Skipping another useless render (207)\n",
      "Skipping another useless render (208)\n"
     ]
    },
    {
     "name": "stderr",
     "output_type": "stream",
     "text": [
      "\n",
      "  7%|▋         | 17/253 [02:55<43:10, 10.98s/it]\u001b[A"
     ]
    },
    {
     "name": "stdout",
     "output_type": "stream",
     "text": [
      "Skipping another useless render (209)\n",
      "Skipping another useless render (210)\n"
     ]
    },
    {
     "name": "stderr",
     "output_type": "stream",
     "text": [
      "\n",
      "  7%|▋         | 18/253 [02:57<33:04,  8.45s/it]\u001b[A"
     ]
    },
    {
     "name": "stdout",
     "output_type": "stream",
     "text": [
      "Skipping another useless render (211)\n",
      "Skipping another useless render (212)\n",
      "Skipping another useless render (213)\n",
      "Skipping another useless render (214)\n",
      "Skipping another useless render (215)\n",
      "Skipping another useless render (216)\n",
      "Skipping another useless render (217)\n",
      "Skipping another useless render (218)\n",
      "Skipping another useless render (219)\n",
      "Skipping another useless render (220)\n",
      "Skipping another useless render (221)\n",
      "Skipping another useless render (222)\n",
      "Skipping another useless render (223)\n",
      "Skipping another useless render (224)\n",
      "Skipping another useless render (225)\n",
      "Skipping another useless render (226)\n",
      "Skipping another useless render (227)\n",
      "Skipping another useless render (228)\n",
      "Skipping another useless render (229)\n",
      "Skipping another useless render (230)\n",
      "Skipping another useless render (231)\n",
      "Skipping another useless render (232)\n"
     ]
    },
    {
     "name": "stderr",
     "output_type": "stream",
     "text": [
      "\n",
      "  8%|▊         | 19/253 [03:15<43:05, 11.05s/it]\u001b[A"
     ]
    },
    {
     "name": "stdout",
     "output_type": "stream",
     "text": [
      "Skipping another useless render (233)\n",
      "Skipping another useless render (234)\n",
      "Skipping another useless render (235)\n",
      "Skipping another useless render (236)\n",
      "Skipping another useless render (237)\n",
      "Skipping another useless render (238)\n",
      "Skipping another useless render (239)\n",
      "Skipping another useless render (240)\n",
      "Skipping another useless render (241)\n",
      "Skipping another useless render (242)\n",
      "Skipping another useless render (243)\n",
      "Skipping another useless render (244)\n",
      "Skipping another useless render (245)\n",
      "Skipping another useless render (246)\n",
      "Skipping another useless render (247)\n",
      "Skipping another useless render (248)\n",
      "Skipping another useless render (249)\n",
      "Skipping another useless render (250)\n",
      "Skipping another useless render (251)\n",
      "Skipping another useless render (252)\n",
      "Skipping another useless render (253)\n",
      "Skipping another useless render (254)\n",
      "Skipping another useless render (255)\n",
      "Skipping another useless render (256)\n",
      "Skipping another useless render (257)\n",
      "Skipping another useless render (258)\n",
      "Skipping another useless render (259)\n",
      "Skipping another useless render (260)\n",
      "Skipping another useless render (261)\n",
      "Skipping another useless render (262)\n",
      "Skipping another useless render (263)\n",
      "Skipping another useless render (264)\n",
      "Skipping another useless render (265)\n",
      "Skipping another useless render (266)\n",
      "Skipping another useless render (267)\n",
      "Skipping another useless render (268)\n",
      "Skipping another useless render (269)\n",
      "Skipping another useless render (270)\n",
      "Skipping another useless render (271)\n",
      "Skipping another useless render (272)\n",
      "Skipping another useless render (273)\n",
      "Skipping another useless render (274)\n",
      "Skipping another useless render (275)\n",
      "Skipping another useless render (276)\n",
      "Skipping another useless render (277)\n"
     ]
    },
    {
     "name": "stderr",
     "output_type": "stream",
     "text": [
      "\n",
      "  8%|▊         | 20/253 [03:49<1:10:38, 18.19s/it]\u001b[A\n",
      "  8%|▊         | 21/253 [03:50<50:02, 12.94s/it]  \u001b[A"
     ]
    },
    {
     "name": "stdout",
     "output_type": "stream",
     "text": [
      "Skipping another useless render (278)\n",
      "Skipping another useless render (279)\n",
      "Skipping another useless render (280)\n",
      "Skipping another useless render (281)\n",
      "Skipping another useless render (282)\n",
      "Skipping another useless render (283)\n",
      "Skipping another useless render (284)\n",
      "Skipping another useless render (285)\n",
      "Skipping another useless render (286)\n",
      "Skipping another useless render (287)\n"
     ]
    },
    {
     "name": "stderr",
     "output_type": "stream",
     "text": [
      "\n",
      "  9%|▊         | 22/253 [03:58<44:04, 11.45s/it]\u001b[A"
     ]
    },
    {
     "name": "stdout",
     "output_type": "stream",
     "text": [
      "Skipping another useless render (288)\n",
      "Skipping another useless render (289)\n",
      "Skipping another useless render (290)\n",
      "Skipping another useless render (291)\n",
      "Skipping another useless render (292)\n",
      "Skipping another useless render (293)\n",
      "Skipping another useless render (294)\n"
     ]
    },
    {
     "name": "stderr",
     "output_type": "stream",
     "text": [
      "\n",
      "  9%|▉         | 23/253 [04:04<37:18,  9.73s/it]\u001b[A\n",
      "  9%|▉         | 24/253 [04:05<26:52,  7.04s/it]\u001b[A"
     ]
    },
    {
     "name": "stdout",
     "output_type": "stream",
     "text": [
      "Skipping another useless render (295)\n",
      "Skipping another useless render (296)\n"
     ]
    },
    {
     "name": "stderr",
     "output_type": "stream",
     "text": [
      "\n",
      " 10%|▉         | 25/253 [04:07<21:39,  5.70s/it]\u001b[A"
     ]
    },
    {
     "name": "stdout",
     "output_type": "stream",
     "text": [
      "Skipping another useless render (297)\n",
      "Skipping another useless render (298)\n",
      "Skipping another useless render (299)\n",
      "Skipping another useless render (300)\n",
      "Skipping another useless render (301)\n",
      "Skipping another useless render (302)\n",
      "Skipping another useless render (303)\n",
      "Skipping another useless render (304)\n",
      "Skipping another useless render (305)\n",
      "Skipping another useless render (306)\n",
      "Skipping another useless render (307)\n",
      "Skipping another useless render (308)\n",
      "Skipping another useless render (309)\n",
      "Skipping another useless render (310)\n",
      "Skipping another useless render (311)\n",
      "Skipping another useless render (312)\n",
      "Skipping another useless render (313)\n"
     ]
    },
    {
     "name": "stderr",
     "output_type": "stream",
     "text": [
      "\n",
      " 10%|█         | 26/253 [04:21<30:55,  8.17s/it]\u001b[A"
     ]
    },
    {
     "name": "stdout",
     "output_type": "stream",
     "text": [
      "Skipping another useless render (314)\n"
     ]
    },
    {
     "name": "stderr",
     "output_type": "stream",
     "text": [
      "\n",
      " 11%|█         | 27/253 [04:23<23:13,  6.16s/it]\u001b[A"
     ]
    },
    {
     "name": "stdout",
     "output_type": "stream",
     "text": [
      "Skipping another useless render (315)\n",
      "Skipping another useless render (316)\n",
      "Skipping another useless render (317)\n",
      "Skipping another useless render (318)\n",
      "Skipping another useless render (319)\n",
      "Skipping another useless render (320)\n",
      "Skipping another useless render (321)\n",
      "Skipping another useless render (322)\n"
     ]
    },
    {
     "name": "stderr",
     "output_type": "stream",
     "text": [
      "\n",
      " 11%|█         | 28/253 [04:29<23:59,  6.40s/it]\u001b[A"
     ]
    },
    {
     "name": "stdout",
     "output_type": "stream",
     "text": [
      "Skipping another useless render (323)\n",
      "Skipping another useless render (324)\n",
      "Skipping another useless render (325)\n",
      "Skipping another useless render (326)\n",
      "Skipping another useless render (327)\n",
      "Skipping another useless render (328)\n",
      "Skipping another useless render (329)\n",
      "Skipping another useless render (330)\n",
      "Skipping another useless render (331)\n",
      "Skipping another useless render (332)\n",
      "Skipping another useless render (333)\n",
      "Skipping another useless render (334)\n",
      "Skipping another useless render (335)\n",
      "Skipping another useless render (336)\n",
      "Skipping another useless render (337)\n",
      "Skipping another useless render (338)\n",
      "Skipping another useless render (339)\n",
      "Skipping another useless render (340)\n",
      "Skipping another useless render (341)\n",
      "Skipping another useless render (342)\n",
      "Skipping another useless render (343)\n",
      "Skipping another useless render (344)\n",
      "Skipping another useless render (345)\n",
      "Skipping another useless render (346)\n",
      "Skipping another useless render (347)\n",
      "Skipping another useless render (348)\n",
      "Skipping another useless render (349)\n",
      "Skipping another useless render (350)\n",
      "Skipping another useless render (351)\n",
      "Skipping another useless render (352)\n",
      "Skipping another useless render (353)\n",
      "Skipping another useless render (354)\n",
      "Skipping another useless render (355)\n",
      "Skipping another useless render (356)\n",
      "Skipping another useless render (357)\n",
      "Skipping another useless render (358)\n",
      "Skipping another useless render (359)\n",
      "Skipping another useless render (360)\n"
     ]
    },
    {
     "name": "stderr",
     "output_type": "stream",
     "text": [
      "\n",
      " 11%|█▏        | 29/253 [04:59<49:36, 13.29s/it]\u001b[A"
     ]
    },
    {
     "name": "stdout",
     "output_type": "stream",
     "text": [
      "Skipping another useless render (361)\n",
      "Skipping another useless render (362)\n",
      "Skipping another useless render (363)\n",
      "Skipping another useless render (364)\n",
      "Skipping another useless render (365)\n",
      "Skipping another useless render (366)\n",
      "Skipping another useless render (367)\n",
      "Skipping another useless render (368)\n",
      "Skipping another useless render (369)\n",
      "Skipping another useless render (370)\n",
      "Skipping another useless render (371)\n",
      "Skipping another useless render (372)\n",
      "Skipping another useless render (373)\n",
      "Skipping another useless render (374)\n",
      "Skipping another useless render (375)\n",
      "Skipping another useless render (376)\n",
      "Skipping another useless render (377)\n",
      "Skipping another useless render (378)\n",
      "Skipping another useless render (379)\n",
      "Skipping another useless render (380)\n",
      "Skipping another useless render (381)\n",
      "Skipping another useless render (382)\n",
      "Skipping another useless render (383)\n",
      "Skipping another useless render (384)\n",
      "Skipping another useless render (385)\n",
      "Skipping another useless render (386)\n",
      "Skipping another useless render (387)\n",
      "Skipping another useless render (388)\n",
      "Skipping another useless render (389)\n",
      "Skipping another useless render (390)\n"
     ]
    },
    {
     "name": "stderr",
     "output_type": "stream",
     "text": [
      "\n",
      " 12%|█▏        | 30/253 [05:22<1:00:32, 16.29s/it]\u001b[A\n",
      " 12%|█▏        | 31/253 [05:23<43:02, 11.63s/it]  \u001b[A"
     ]
    },
    {
     "name": "stdout",
     "output_type": "stream",
     "text": [
      "Skipping another useless render (391)\n",
      "Skipping another useless render (392)\n",
      "Skipping another useless render (393)\n",
      "Skipping another useless render (394)\n",
      "Skipping another useless render (395)\n",
      "Skipping another useless render (396)\n",
      "Skipping another useless render (397)\n",
      "Skipping another useless render (398)\n",
      "Skipping another useless render (399)\n",
      "Skipping another useless render (400)\n",
      "Skipping another useless render (401)\n",
      "Skipping another useless render (402)\n",
      "Skipping another useless render (403)\n",
      "Skipping another useless render (404)\n",
      "Skipping another useless render (405)\n",
      "Skipping another useless render (406)\n",
      "Skipping another useless render (407)\n",
      "Skipping another useless render (408)\n",
      "Skipping another useless render (409)\n"
     ]
    },
    {
     "name": "stderr",
     "output_type": "stream",
     "text": [
      "\n",
      " 13%|█▎        | 32/253 [05:38<47:00, 12.76s/it]\u001b[A"
     ]
    },
    {
     "name": "stdout",
     "output_type": "stream",
     "text": [
      "Skipping another useless render (410)\n",
      "Skipping another useless render (411)\n",
      "Skipping another useless render (412)\n",
      "Skipping another useless render (413)\n"
     ]
    },
    {
     "name": "stderr",
     "output_type": "stream",
     "text": [
      "\n",
      " 13%|█▎        | 33/253 [05:42<36:58, 10.08s/it]\u001b[A"
     ]
    },
    {
     "name": "stdout",
     "output_type": "stream",
     "text": [
      "Skipping another useless render (414)\n",
      "Skipping another useless render (415)\n",
      "Skipping another useless render (416)\n",
      "Skipping another useless render (417)\n"
     ]
    },
    {
     "name": "stderr",
     "output_type": "stream",
     "text": [
      "\n",
      " 13%|█▎        | 34/253 [05:46<29:41,  8.14s/it]\u001b[A"
     ]
    },
    {
     "name": "stdout",
     "output_type": "stream",
     "text": [
      "Skipping another useless render (418)\n",
      "Skipping another useless render (419)\n",
      "Skipping another useless render (420)\n",
      "Skipping another useless render (421)\n",
      "Skipping another useless render (422)\n",
      "Skipping another useless render (423)\n",
      "Skipping another useless render (424)\n",
      "Skipping another useless render (425)\n",
      "Skipping another useless render (426)\n",
      "Skipping another useless render (427)\n",
      "Skipping another useless render (428)\n",
      "Skipping another useless render (429)\n",
      "Skipping another useless render (430)\n",
      "Skipping another useless render (431)\n",
      "Skipping another useless render (432)\n",
      "Skipping another useless render (433)\n",
      "Skipping another useless render (434)\n",
      "Skipping another useless render (435)\n",
      "Skipping another useless render (436)\n",
      "Skipping another useless render (437)\n",
      "Skipping another useless render (438)\n",
      "Skipping another useless render (439)\n",
      "Skipping another useless render (440)\n",
      "Skipping another useless render (441)\n",
      "Skipping another useless render (442)\n",
      "Skipping another useless render (443)\n",
      "Skipping another useless render (444)\n",
      "Skipping another useless render (445)\n",
      "Skipping another useless render (446)\n",
      "Skipping another useless render (447)\n",
      "Skipping another useless render (448)\n",
      "Skipping another useless render (449)\n",
      "Skipping another useless render (450)\n",
      "Skipping another useless render (451)\n",
      "Skipping another useless render (452)\n",
      "Skipping another useless render (453)\n",
      "Skipping another useless render (454)\n",
      "Skipping another useless render (455)\n",
      "Skipping another useless render (456)\n",
      "Skipping another useless render (457)\n"
     ]
    },
    {
     "name": "stderr",
     "output_type": "stream",
     "text": [
      "\n",
      " 14%|█▍        | 35/253 [06:17<55:13, 15.20s/it]\u001b[A"
     ]
    },
    {
     "name": "stdout",
     "output_type": "stream",
     "text": [
      "Skipping another useless render (458)\n",
      "Skipping another useless render (459)\n",
      "Skipping another useless render (460)\n",
      "Skipping another useless render (461)\n",
      "Skipping another useless render (462)\n",
      "Skipping another useless render (463)\n",
      "Skipping another useless render (464)\n",
      "Skipping another useless render (465)\n",
      "Skipping another useless render (466)\n",
      "Skipping another useless render (467)\n",
      "Skipping another useless render (468)\n"
     ]
    },
    {
     "name": "stderr",
     "output_type": "stream",
     "text": [
      "\n",
      " 14%|█▍        | 36/253 [06:26<48:11, 13.32s/it]\u001b[A"
     ]
    },
    {
     "name": "stdout",
     "output_type": "stream",
     "text": [
      "Skipping another useless render (469)\n",
      "Skipping another useless render (470)\n",
      "Skipping another useless render (471)\n",
      "Skipping another useless render (472)\n",
      "Skipping another useless render (473)\n",
      "Skipping another useless render (474)\n",
      "Skipping another useless render (475)\n",
      "Skipping another useless render (476)\n",
      "Skipping another useless render (477)\n",
      "Skipping another useless render (478)\n"
     ]
    },
    {
     "name": "stderr",
     "output_type": "stream",
     "text": [
      "\n",
      " 15%|█▍        | 37/253 [06:35<42:46, 11.88s/it]\u001b[A"
     ]
    },
    {
     "name": "stdout",
     "output_type": "stream",
     "text": [
      "Skipping another useless render (479)\n",
      "Skipping another useless render (480)\n",
      "Skipping another useless render (481)\n",
      "Skipping another useless render (482)\n",
      "Skipping another useless render (483)\n",
      "Skipping another useless render (484)\n",
      "Skipping another useless render (485)\n",
      "Skipping another useless render (486)\n",
      "Skipping another useless render (487)\n",
      "Skipping another useless render (488)\n",
      "Skipping another useless render (489)\n",
      "Skipping another useless render (490)\n",
      "Skipping another useless render (491)\n",
      "Skipping another useless render (492)\n",
      "Skipping another useless render (493)\n",
      "Skipping another useless render (494)\n",
      "Skipping another useless render (495)\n",
      "Skipping another useless render (496)\n"
     ]
    },
    {
     "name": "stderr",
     "output_type": "stream",
     "text": [
      "\n",
      " 15%|█▌        | 38/253 [06:49<45:23, 12.67s/it]\u001b[A"
     ]
    },
    {
     "name": "stdout",
     "output_type": "stream",
     "text": [
      "Skipping another useless render (497)\n",
      "Skipping another useless render (498)\n",
      "Skipping another useless render (499)\n",
      "Skipping another useless render (500)\n",
      "Skipping another useless render (501)\n",
      "Skipping another useless render (502)\n"
     ]
    },
    {
     "name": "stderr",
     "output_type": "stream",
     "text": [
      "\n",
      " 15%|█▌        | 39/253 [06:55<37:29, 10.51s/it]\u001b[A"
     ]
    },
    {
     "name": "stdout",
     "output_type": "stream",
     "text": [
      "Skipping another useless render (503)\n",
      "Skipping another useless render (504)\n"
     ]
    },
    {
     "name": "stderr",
     "output_type": "stream",
     "text": [
      "\n",
      " 16%|█▌        | 40/253 [06:57<28:30,  8.03s/it]\u001b[A"
     ]
    },
    {
     "name": "stdout",
     "output_type": "stream",
     "text": [
      "Skipping another useless render (505)\n",
      "Skipping another useless render (506)\n",
      "Skipping another useless render (507)\n",
      "Skipping another useless render (508)\n",
      "Skipping another useless render (509)\n",
      "Skipping another useless render (510)\n",
      "Skipping another useless render (511)\n"
     ]
    },
    {
     "name": "stderr",
     "output_type": "stream",
     "text": [
      "\n",
      " 16%|█▌        | 41/253 [07:03<26:11,  7.41s/it]\u001b[A\n",
      " 17%|█▋        | 42/253 [07:04<18:59,  5.40s/it]\u001b[A"
     ]
    },
    {
     "name": "stdout",
     "output_type": "stream",
     "text": [
      "Skipping another useless render (512)\n",
      "Skipping another useless render (513)\n",
      "Skipping another useless render (514)\n",
      "Skipping another useless render (515)\n",
      "Skipping another useless render (516)\n",
      "Skipping another useless render (517)\n",
      "Skipping another useless render (518)\n",
      "Skipping another useless render (519)\n",
      "Skipping another useless render (520)\n",
      "Skipping another useless render (521)\n",
      "Skipping another useless render (522)\n",
      "Skipping another useless render (523)\n"
     ]
    },
    {
     "name": "stderr",
     "output_type": "stream",
     "text": [
      "\n",
      " 17%|█▋        | 43/253 [07:13<23:07,  6.61s/it]\u001b[A"
     ]
    },
    {
     "name": "stdout",
     "output_type": "stream",
     "text": [
      "Skipping another useless render (524)\n",
      "Skipping another useless render (525)\n",
      "Skipping another useless render (526)\n",
      "Skipping another useless render (527)\n",
      "Skipping another useless render (528)\n",
      "Skipping another useless render (529)\n",
      "Skipping another useless render (530)\n",
      "Skipping another useless render (531)\n",
      "Skipping another useless render (532)\n",
      "Skipping another useless render (533)\n",
      "Skipping another useless render (534)\n",
      "Skipping another useless render (535)\n",
      "Skipping another useless render (536)\n",
      "Skipping another useless render (537)\n",
      "Skipping another useless render (538)\n",
      "Skipping another useless render (539)\n",
      "Skipping another useless render (540)\n",
      "Skipping another useless render (541)\n",
      "Skipping another useless render (542)\n",
      "Skipping another useless render (543)\n",
      "Skipping another useless render (544)\n",
      "Skipping another useless render (545)\n",
      "Skipping another useless render (546)\n",
      "Skipping another useless render (547)\n",
      "Skipping another useless render (548)\n",
      "Skipping another useless render (549)\n",
      "Skipping another useless render (550)\n",
      "Skipping another useless render (551)\n",
      "Skipping another useless render (552)\n",
      "Skipping another useless render (553)\n",
      "Skipping another useless render (554)\n"
     ]
    },
    {
     "name": "stderr",
     "output_type": "stream",
     "text": [
      "\n",
      " 17%|█▋        | 44/253 [07:37<41:06, 11.80s/it]\u001b[A"
     ]
    },
    {
     "name": "stdout",
     "output_type": "stream",
     "text": [
      "Skipping another useless render (555)\n",
      "Skipping another useless render (556)\n",
      "Skipping another useless render (557)\n"
     ]
    },
    {
     "name": "stderr",
     "output_type": "stream",
     "text": [
      "\n",
      " 18%|█▊        | 45/253 [07:40<31:51,  9.19s/it]\u001b[A\n",
      " 18%|█▊        | 46/253 [07:41<23:14,  6.74s/it]\u001b[A"
     ]
    },
    {
     "name": "stdout",
     "output_type": "stream",
     "text": [
      "Skipping another useless render (558)\n",
      "Skipping another useless render (559)\n",
      "Skipping another useless render (560)\n",
      "Skipping another useless render (561)\n",
      "Skipping another useless render (562)\n",
      "Skipping another useless render (563)\n",
      "Skipping another useless render (564)\n",
      "Skipping another useless render (565)\n",
      "Skipping another useless render (566)\n",
      "Skipping another useless render (567)\n",
      "Skipping another useless render (568)\n",
      "Skipping another useless render (569)\n",
      "Skipping another useless render (570)\n",
      "Skipping another useless render (571)\n",
      "Skipping another useless render (572)\n",
      "Skipping another useless render (573)\n",
      "Skipping another useless render (574)\n",
      "Skipping another useless render (575)\n",
      "Skipping another useless render (576)\n",
      "Skipping another useless render (577)\n",
      "Skipping another useless render (578)\n",
      "Skipping another useless render (579)\n",
      "Skipping another useless render (580)\n",
      "Skipping another useless render (581)\n",
      "Skipping another useless render (582)\n",
      "Skipping another useless render (583)\n",
      "Skipping another useless render (584)\n",
      "Skipping another useless render (585)\n",
      "Skipping another useless render (586)\n",
      "Skipping another useless render (587)\n",
      "Skipping another useless render (588)\n",
      "Skipping another useless render (589)\n",
      "Skipping another useless render (590)\n",
      "Skipping another useless render (591)\n",
      "Skipping another useless render (592)\n",
      "Skipping another useless render (593)\n",
      "Skipping another useless render (594)\n",
      "Skipping another useless render (595)\n"
     ]
    },
    {
     "name": "stderr",
     "output_type": "stream",
     "text": [
      "\n",
      " 19%|█▊        | 47/253 [08:10<45:44, 13.32s/it]\u001b[A"
     ]
    },
    {
     "name": "stdout",
     "output_type": "stream",
     "text": [
      "Skipping another useless render (596)\n"
     ]
    },
    {
     "name": "stderr",
     "output_type": "stream",
     "text": [
      "\n",
      " 19%|█▉        | 48/253 [08:12<33:38,  9.85s/it]\u001b[A"
     ]
    },
    {
     "name": "stdout",
     "output_type": "stream",
     "text": [
      "Skipping another useless render (597)\n",
      "Skipping another useless render (598)\n",
      "Skipping another useless render (599)\n",
      "Skipping another useless render (600)\n",
      "Skipping another useless render (601)\n",
      "Skipping another useless render (602)\n",
      "Skipping another useless render (603)\n",
      "Skipping another useless render (604)\n",
      "Skipping another useless render (605)\n",
      "Skipping another useless render (606)\n",
      "Skipping another useless render (607)\n",
      "Skipping another useless render (608)\n",
      "Skipping another useless render (609)\n",
      "Skipping another useless render (610)\n",
      "Skipping another useless render (611)\n",
      "Skipping another useless render (612)\n",
      "Skipping another useless render (613)\n",
      "Skipping another useless render (614)\n",
      "Skipping another useless render (615)\n",
      "Skipping another useless render (616)\n",
      "Skipping another useless render (617)\n",
      "Skipping another useless render (618)\n",
      "Skipping another useless render (619)\n",
      "Skipping another useless render (620)\n",
      "Skipping another useless render (621)\n",
      "Skipping another useless render (622)\n",
      "Skipping another useless render (623)\n",
      "Skipping another useless render (624)\n",
      "Skipping another useless render (625)\n",
      "Skipping another useless render (626)\n",
      "Skipping another useless render (627)\n",
      "Skipping another useless render (628)\n"
     ]
    },
    {
     "name": "stderr",
     "output_type": "stream",
     "text": [
      "\n",
      " 19%|█▉        | 49/253 [08:37<49:13, 14.48s/it]\u001b[A"
     ]
    },
    {
     "name": "stdout",
     "output_type": "stream",
     "text": [
      "Skipping another useless render (629)\n",
      "Skipping another useless render (630)\n",
      "Skipping another useless render (631)\n",
      "Skipping another useless render (632)\n"
     ]
    },
    {
     "name": "stderr",
     "output_type": "stream",
     "text": [
      "\n",
      " 20%|█▉        | 50/253 [08:40<37:51, 11.19s/it]\u001b[A"
     ]
    },
    {
     "name": "stdout",
     "output_type": "stream",
     "text": [
      "Skipping another useless render (633)\n",
      "Skipping another useless render (634)\n",
      "Skipping another useless render (635)\n",
      "Skipping another useless render (636)\n",
      "Skipping another useless render (637)\n",
      "Skipping another useless render (638)\n",
      "Skipping another useless render (639)\n",
      "Skipping another useless render (640)\n"
     ]
    },
    {
     "name": "stderr",
     "output_type": "stream",
     "text": [
      "\n",
      " 20%|██        | 51/253 [08:47<33:06,  9.84s/it]\u001b[A"
     ]
    },
    {
     "name": "stdout",
     "output_type": "stream",
     "text": [
      "Skipping another useless render (641)\n",
      "Skipping another useless render (642)\n",
      "Skipping another useless render (643)\n",
      "Skipping another useless render (644)\n",
      "Skipping another useless render (645)\n",
      "Skipping another useless render (646)\n",
      "Skipping another useless render (647)\n",
      "Skipping another useless render (648)\n",
      "Skipping another useless render (649)\n",
      "Skipping another useless render (650)\n",
      "Skipping another useless render (651)\n"
     ]
    },
    {
     "name": "stderr",
     "output_type": "stream",
     "text": [
      "\n",
      " 21%|██        | 52/253 [08:56<32:25,  9.68s/it]\u001b[A"
     ]
    },
    {
     "name": "stdout",
     "output_type": "stream",
     "text": [
      "Skipping another useless render (652)\n"
     ]
    },
    {
     "name": "stderr",
     "output_type": "stream",
     "text": [
      "\n",
      " 21%|██        | 53/253 [08:58<24:19,  7.30s/it]\u001b[A"
     ]
    },
    {
     "name": "stdout",
     "output_type": "stream",
     "text": [
      "Skipping another useless render (653)\n",
      "Skipping another useless render (654)\n",
      "Skipping another useless render (655)\n",
      "Skipping another useless render (656)\n",
      "Skipping another useless render (657)\n",
      "Skipping another useless render (658)\n",
      "Skipping another useless render (659)\n",
      "Skipping another useless render (660)\n",
      "Skipping another useless render (661)\n",
      "Skipping another useless render (662)\n"
     ]
    },
    {
     "name": "stderr",
     "output_type": "stream",
     "text": [
      "\n",
      " 21%|██▏       | 54/253 [09:07<25:21,  7.64s/it]\u001b[A"
     ]
    },
    {
     "name": "stdout",
     "output_type": "stream",
     "text": [
      "Skipping another useless render (663)\n",
      "Skipping another useless render (664)\n",
      "Skipping another useless render (665)\n",
      "Skipping another useless render (666)\n",
      "Skipping another useless render (667)\n",
      "Skipping another useless render (668)\n",
      "Skipping another useless render (669)\n",
      "Skipping another useless render (670)\n",
      "Skipping another useless render (671)\n",
      "Skipping another useless render (672)\n",
      "Skipping another useless render (673)\n",
      "Skipping another useless render (674)\n",
      "Skipping another useless render (675)\n",
      "Skipping another useless render (676)\n",
      "Skipping another useless render (677)\n",
      "Skipping another useless render (678)\n",
      "Skipping another useless render (679)\n",
      "Skipping another useless render (680)\n",
      "Skipping another useless render (681)\n",
      "Skipping another useless render (682)\n",
      "Skipping another useless render (683)\n",
      "Skipping another useless render (684)\n",
      "Skipping another useless render (685)\n",
      "Skipping another useless render (686)\n",
      "Skipping another useless render (687)\n",
      "Skipping another useless render (688)\n",
      "Skipping another useless render (689)\n",
      "Skipping another useless render (690)\n",
      "Skipping another useless render (691)\n",
      "Skipping another useless render (692)\n",
      "Skipping another useless render (693)\n",
      "Skipping another useless render (694)\n",
      "Skipping another useless render (695)\n",
      "Skipping another useless render (696)\n",
      "Skipping another useless render (697)\n",
      "Skipping another useless render (698)\n",
      "Skipping another useless render (699)\n",
      "Skipping another useless render (700)\n",
      "Skipping another useless render (701)\n",
      "Skipping another useless render (702)\n",
      "Skipping another useless render (703)\n",
      "Skipping another useless render (704)\n",
      "Skipping another useless render (705)\n"
     ]
    },
    {
     "name": "stderr",
     "output_type": "stream",
     "text": [
      "\n",
      " 22%|██▏       | 55/253 [09:41<51:20, 15.56s/it]\u001b[A"
     ]
    },
    {
     "name": "stdout",
     "output_type": "stream",
     "text": [
      "Skipping another useless render (706)\n",
      "Skipping another useless render (707)\n",
      "Skipping another useless render (708)\n",
      "Skipping another useless render (709)\n",
      "Skipping another useless render (710)\n",
      "Skipping another useless render (711)\n",
      "Skipping another useless render (712)\n",
      "Skipping another useless render (713)\n"
     ]
    },
    {
     "name": "stderr",
     "output_type": "stream",
     "text": [
      "\n",
      " 22%|██▏       | 56/253 [09:47<42:25, 12.92s/it]\u001b[A"
     ]
    },
    {
     "name": "stdout",
     "output_type": "stream",
     "text": [
      "Skipping another useless render (714)\n",
      "Skipping another useless render (715)\n"
     ]
    },
    {
     "name": "stderr",
     "output_type": "stream",
     "text": [
      "\n",
      " 23%|██▎       | 57/253 [09:50<31:43,  9.71s/it]\u001b[A"
     ]
    },
    {
     "name": "stdout",
     "output_type": "stream",
     "text": [
      "Skipping another useless render (716)\n",
      "Skipping another useless render (717)\n",
      "Skipping another useless render (718)\n"
     ]
    },
    {
     "name": "stderr",
     "output_type": "stream",
     "text": [
      "\n",
      " 23%|██▎       | 58/253 [09:53<25:13,  7.76s/it]\u001b[A"
     ]
    },
    {
     "name": "stdout",
     "output_type": "stream",
     "text": [
      "Skipping another useless render (719)\n",
      "Skipping another useless render (720)\n",
      "Skipping another useless render (721)\n",
      "Skipping another useless render (722)\n",
      "Skipping another useless render (723)\n",
      "Skipping another useless render (724)\n",
      "Skipping another useless render (725)\n",
      "Skipping another useless render (726)\n"
     ]
    },
    {
     "name": "stderr",
     "output_type": "stream",
     "text": [
      "\n",
      " 23%|██▎       | 59/253 [10:01<24:59,  7.73s/it]\u001b[A\n",
      " 24%|██▎       | 60/253 [10:01<18:07,  5.64s/it]\u001b[A"
     ]
    },
    {
     "name": "stdout",
     "output_type": "stream",
     "text": [
      "Skipping another useless render (727)\n",
      "Skipping another useless render (728)\n",
      "Skipping another useless render (729)\n",
      "Skipping another useless render (730)\n"
     ]
    },
    {
     "name": "stderr",
     "output_type": "stream",
     "text": [
      "\n",
      " 24%|██▍       | 61/253 [10:05<16:37,  5.20s/it]\u001b[A"
     ]
    },
    {
     "name": "stdout",
     "output_type": "stream",
     "text": [
      "Skipping another useless render (731)\n",
      "Skipping another useless render (732)\n",
      "Skipping another useless render (733)\n",
      "Skipping another useless render (734)\n",
      "Skipping another useless render (735)\n",
      "Skipping another useless render (736)\n",
      "Skipping another useless render (737)\n",
      "Skipping another useless render (738)\n",
      "Skipping another useless render (739)\n",
      "Skipping another useless render (740)\n"
     ]
    },
    {
     "name": "stderr",
     "output_type": "stream",
     "text": [
      "\n",
      " 25%|██▍       | 62/253 [10:14<19:23,  6.09s/it]\u001b[A"
     ]
    },
    {
     "name": "stdout",
     "output_type": "stream",
     "text": [
      "Skipping another useless render (741)\n",
      "Skipping another useless render (742)\n",
      "Skipping another useless render (743)\n",
      "Skipping another useless render (744)\n",
      "Skipping another useless render (745)\n",
      "Skipping another useless render (746)\n",
      "Skipping another useless render (747)\n"
     ]
    },
    {
     "name": "stderr",
     "output_type": "stream",
     "text": [
      "\n",
      " 25%|██▍       | 63/253 [10:20<19:16,  6.09s/it]\u001b[A"
     ]
    },
    {
     "name": "stdout",
     "output_type": "stream",
     "text": [
      "Skipping another useless render (748)\n",
      "Skipping another useless render (749)\n",
      "Skipping another useless render (750)\n",
      "Skipping another useless render (751)\n",
      "Skipping another useless render (752)\n",
      "Skipping another useless render (753)\n",
      "Skipping another useless render (754)\n",
      "Skipping another useless render (755)\n",
      "Skipping another useless render (756)\n",
      "Skipping another useless render (757)\n",
      "Skipping another useless render (758)\n",
      "Skipping another useless render (759)\n",
      "Skipping another useless render (760)\n",
      "Skipping another useless render (761)\n",
      "Skipping another useless render (762)\n",
      "Skipping another useless render (763)\n",
      "Skipping another useless render (764)\n",
      "Skipping another useless render (765)\n",
      "Skipping another useless render (766)\n",
      "Skipping another useless render (767)\n",
      "Skipping another useless render (768)\n",
      "Skipping another useless render (769)\n",
      "Skipping another useless render (770)\n",
      "Skipping another useless render (771)\n",
      "Skipping another useless render (772)\n",
      "Skipping another useless render (773)\n",
      "Skipping another useless render (774)\n",
      "Skipping another useless render (775)\n",
      "Skipping another useless render (776)\n",
      "Skipping another useless render (777)\n"
     ]
    },
    {
     "name": "stderr",
     "output_type": "stream",
     "text": [
      "\n",
      " 25%|██▌       | 64/253 [10:43<35:42, 11.34s/it]\u001b[A"
     ]
    },
    {
     "name": "stdout",
     "output_type": "stream",
     "text": [
      "Skipping another useless render (778)\n",
      "Skipping another useless render (779)\n",
      "Skipping another useless render (780)\n",
      "Skipping another useless render (781)\n",
      "Skipping another useless render (782)\n",
      "Skipping another useless render (783)\n",
      "Skipping another useless render (784)\n",
      "Skipping another useless render (785)\n",
      "Skipping another useless render (786)\n",
      "Skipping another useless render (787)\n",
      "Skipping another useless render (788)\n",
      "Skipping another useless render (789)\n",
      "Skipping another useless render (790)\n",
      "Skipping another useless render (791)\n",
      "Skipping another useless render (792)\n",
      "Skipping another useless render (793)\n",
      "Skipping another useless render (794)\n",
      "Skipping another useless render (795)\n",
      "Skipping another useless render (796)\n",
      "Skipping another useless render (797)\n",
      "Skipping another useless render (798)\n",
      "Skipping another useless render (799)\n",
      "Skipping another useless render (800)\n",
      "Skipping another useless render (801)\n",
      "Skipping another useless render (802)\n",
      "Skipping another useless render (803)\n"
     ]
    },
    {
     "name": "stderr",
     "output_type": "stream",
     "text": [
      "\n",
      " 26%|██▌       | 65/253 [11:03<43:31, 13.89s/it]\u001b[A"
     ]
    },
    {
     "name": "stdout",
     "output_type": "stream",
     "text": [
      "Skipping another useless render (804)\n",
      "Skipping another useless render (805)\n",
      "Skipping another useless render (806)\n",
      "Skipping another useless render (807)\n",
      "Skipping another useless render (808)\n",
      "Skipping another useless render (809)\n",
      "Skipping another useless render (810)\n",
      "Skipping another useless render (811)\n",
      "Skipping another useless render (812)\n",
      "Skipping another useless render (813)\n",
      "Skipping another useless render (814)\n",
      "Skipping another useless render (815)\n",
      "Skipping another useless render (816)\n",
      "Skipping another useless render (817)\n",
      "Skipping another useless render (818)\n",
      "Skipping another useless render (819)\n",
      "Skipping another useless render (820)\n",
      "Skipping another useless render (821)\n",
      "Skipping another useless render (822)\n",
      "Skipping another useless render (823)\n",
      "Skipping another useless render (824)\n",
      "Skipping another useless render (825)\n",
      "Skipping another useless render (826)\n",
      "Skipping another useless render (827)\n",
      "Skipping another useless render (828)\n",
      "Skipping another useless render (829)\n",
      "Skipping another useless render (830)\n",
      "Skipping another useless render (831)\n",
      "Skipping another useless render (832)\n",
      "Skipping another useless render (833)\n",
      "Skipping another useless render (834)\n",
      "Skipping another useless render (835)\n",
      "Skipping another useless render (836)\n",
      "Skipping another useless render (837)\n",
      "Skipping another useless render (838)\n",
      "Skipping another useless render (839)\n",
      "Skipping another useless render (840)\n",
      "Skipping another useless render (841)\n",
      "Skipping another useless render (842)\n",
      "Skipping another useless render (843)\n",
      "Skipping another useless render (844)\n",
      "Skipping another useless render (845)\n",
      "Skipping another useless render (846)\n",
      "Skipping another useless render (847)\n",
      "Skipping another useless render (848)\n",
      "Skipping another useless render (849)\n",
      "Skipping another useless render (850)\n",
      "Skipping another useless render (851)\n",
      "Skipping another useless render (852)\n",
      "Skipping another useless render (853)\n",
      "Skipping another useless render (854)\n",
      "Skipping another useless render (855)\n",
      "Skipping another useless render (856)\n",
      "Skipping another useless render (857)\n",
      "Skipping another useless render (858)\n",
      "Skipping another useless render (859)\n",
      "Skipping another useless render (860)\n",
      "Skipping another useless render (861)\n",
      "Skipping another useless render (862)\n",
      "Skipping another useless render (863)\n",
      "Skipping another useless render (864)\n",
      "Skipping another useless render (865)\n",
      "Skipping another useless render (866)\n",
      "Skipping another useless render (867)\n",
      "Skipping another useless render (868)\n",
      "Skipping another useless render (869)\n",
      "Skipping another useless render (870)\n"
     ]
    },
    {
     "name": "stderr",
     "output_type": "stream",
     "text": [
      "\n",
      " 26%|██▌       | 66/253 [11:55<1:19:01, 25.35s/it]\u001b[A"
     ]
    },
    {
     "name": "stdout",
     "output_type": "stream",
     "text": [
      "Skipping another useless render (871)\n",
      "Skipping another useless render (872)\n"
     ]
    },
    {
     "name": "stderr",
     "output_type": "stream",
     "text": [
      "\n",
      " 26%|██▋       | 67/253 [11:57<56:48, 18.33s/it]  \u001b[A"
     ]
    },
    {
     "name": "stdout",
     "output_type": "stream",
     "text": [
      "Skipping another useless render (873)\n",
      "Skipping another useless render (874)\n",
      "Skipping another useless render (875)\n",
      "Skipping another useless render (876)\n",
      "Skipping another useless render (877)\n",
      "Skipping another useless render (878)\n",
      "Skipping another useless render (879)\n",
      "Skipping another useless render (880)\n",
      "Skipping another useless render (881)\n",
      "Skipping another useless render (882)\n",
      "Skipping another useless render (883)\n",
      "Skipping another useless render (884)\n",
      "Skipping another useless render (885)\n",
      "Skipping another useless render (886)\n"
     ]
    },
    {
     "name": "stderr",
     "output_type": "stream",
     "text": [
      "\n",
      " 27%|██▋       | 68/253 [12:09<50:39, 16.43s/it]\u001b[A"
     ]
    },
    {
     "name": "stdout",
     "output_type": "stream",
     "text": [
      "Skipping another useless render (887)\n",
      "Skipping another useless render (888)\n",
      "Skipping another useless render (889)\n",
      "Skipping another useless render (890)\n",
      "Skipping another useless render (891)\n",
      "Skipping another useless render (892)\n",
      "Skipping another useless render (893)\n",
      "Skipping another useless render (894)\n",
      "Skipping another useless render (895)\n",
      "Skipping another useless render (896)\n",
      "Skipping another useless render (897)\n",
      "Skipping another useless render (898)\n",
      "Skipping another useless render (899)\n",
      "Skipping another useless render (900)\n",
      "Skipping another useless render (901)\n",
      "Skipping another useless render (902)\n",
      "Skipping another useless render (903)\n",
      "Skipping another useless render (904)\n",
      "Skipping another useless render (905)\n",
      "Skipping another useless render (906)\n",
      "Skipping another useless render (907)\n",
      "Skipping another useless render (908)\n",
      "Skipping another useless render (909)\n",
      "Skipping another useless render (910)\n",
      "Skipping another useless render (911)\n"
     ]
    },
    {
     "name": "stderr",
     "output_type": "stream",
     "text": [
      "\n",
      " 27%|██▋       | 69/253 [12:29<53:14, 17.36s/it]\u001b[A"
     ]
    },
    {
     "name": "stdout",
     "output_type": "stream",
     "text": [
      "Skipping another useless render (912)\n",
      "Skipping another useless render (913)\n",
      "Skipping another useless render (914)\n",
      "Skipping another useless render (915)\n",
      "Skipping another useless render (916)\n",
      "Skipping another useless render (917)\n",
      "Skipping another useless render (918)\n",
      "Skipping another useless render (919)\n",
      "Skipping another useless render (920)\n",
      "Skipping another useless render (921)\n",
      "Skipping another useless render (922)\n",
      "Skipping another useless render (923)\n",
      "Skipping another useless render (924)\n",
      "Skipping another useless render (925)\n",
      "Skipping another useless render (926)\n",
      "Skipping another useless render (927)\n",
      "Skipping another useless render (928)\n",
      "Skipping another useless render (929)\n",
      "Skipping another useless render (930)\n",
      "Skipping another useless render (931)\n"
     ]
    },
    {
     "name": "stderr",
     "output_type": "stream",
     "text": [
      "\n",
      " 28%|██▊       | 70/253 [12:45<52:13, 17.12s/it]\u001b[A"
     ]
    },
    {
     "name": "stdout",
     "output_type": "stream",
     "text": [
      "Skipping another useless render (932)\n",
      "Skipping another useless render (933)\n"
     ]
    },
    {
     "name": "stderr",
     "output_type": "stream",
     "text": [
      "\n",
      " 28%|██▊       | 71/253 [12:48<38:31, 12.70s/it]\u001b[A\n",
      " 28%|██▊       | 72/253 [12:48<27:29,  9.11s/it]\u001b[A\n",
      " 29%|██▉       | 73/253 [12:49<19:48,  6.60s/it]\u001b[A"
     ]
    },
    {
     "name": "stdout",
     "output_type": "stream",
     "text": [
      "Skipping another useless render (934)\n",
      "Skipping another useless render (935)\n",
      "Skipping another useless render (936)\n",
      "Skipping another useless render (937)\n",
      "Skipping another useless render (938)\n",
      "Skipping another useless render (939)\n",
      "Skipping another useless render (940)\n",
      "Skipping another useless render (941)\n",
      "Skipping another useless render (942)\n",
      "Skipping another useless render (943)\n",
      "Skipping another useless render (944)\n",
      "Skipping another useless render (945)\n",
      "Skipping another useless render (946)\n",
      "Skipping another useless render (947)\n",
      "Skipping another useless render (948)\n",
      "Skipping another useless render (949)\n",
      "Skipping another useless render (950)\n",
      "Skipping another useless render (951)\n",
      "Skipping another useless render (952)\n",
      "Skipping another useless render (953)\n",
      "Skipping another useless render (954)\n",
      "Skipping another useless render (955)\n",
      "Skipping another useless render (956)\n",
      "Skipping another useless render (957)\n",
      "Skipping another useless render (958)\n",
      "Skipping another useless render (959)\n",
      "Skipping another useless render (960)\n",
      "Skipping another useless render (961)\n",
      "Skipping another useless render (962)\n",
      "Skipping another useless render (963)\n",
      "Skipping another useless render (964)\n",
      "Skipping another useless render (965)\n",
      "Skipping another useless render (966)\n",
      "Skipping another useless render (967)\n",
      "Skipping another useless render (968)\n",
      "Skipping another useless render (969)\n",
      "Skipping another useless render (970)\n",
      "Skipping another useless render (971)\n",
      "Skipping another useless render (972)\n",
      "Skipping another useless render (973)\n",
      "Skipping another useless render (974)\n",
      "Skipping another useless render (975)\n",
      "Skipping another useless render (976)\n",
      "Skipping another useless render (977)\n",
      "Skipping another useless render (978)\n",
      "Skipping another useless render (979)\n",
      "Skipping another useless render (980)\n",
      "Skipping another useless render (981)\n",
      "Skipping another useless render (982)\n",
      "Skipping another useless render (983)\n",
      "Skipping another useless render (984)\n",
      "Skipping another useless render (985)\n",
      "Skipping another useless render (986)\n",
      "Skipping another useless render (987)\n",
      "Skipping another useless render (988)\n",
      "Skipping another useless render (989)\n",
      "Skipping another useless render (990)\n",
      "Skipping another useless render (991)\n",
      "Skipping another useless render (992)\n",
      "Skipping another useless render (993)\n",
      "Skipping another useless render (994)\n",
      "Skipping another useless render (995)\n",
      "Skipping another useless render (996)\n",
      "Skipping another useless render (997)\n",
      "Skipping another useless render (998)\n",
      "Skipping another useless render (999)\n",
      "Skipping another useless render (1000)\n",
      "Skipping another useless render (1001)\n",
      "Skipping another useless render (1002)\n",
      "Skipping another useless render (1003)\n",
      "Skipping another useless render (1004)\n",
      "Skipping another useless render (1005)\n",
      "Skipping another useless render (1006)\n",
      "Skipping another useless render (1007)\n",
      "Skipping another useless render (1008)\n",
      "Skipping another useless render (1009)\n",
      "Skipping another useless render (1010)\n",
      "Skipping another useless render (1011)\n",
      "Skipping another useless render (1012)\n",
      "Skipping another useless render (1013)\n",
      "Skipping another useless render (1014)\n",
      "Skipping another useless render (1015)\n",
      "Skipping another useless render (1016)\n",
      "Skipping another useless render (1017)\n",
      "Skipping another useless render (1018)\n",
      "Skipping another useless render (1019)\n",
      "Skipping another useless render (1020)\n",
      "Skipping another useless render (1021)\n",
      "Skipping another useless render (1022)\n",
      "Skipping another useless render (1023)\n",
      "Skipping another useless render (1024)\n",
      "Skipping another useless render (1025)\n",
      "Skipping another useless render (1026)\n",
      "Skipping another useless render (1027)\n",
      "Skipping another useless render (1028)\n",
      "Skipping another useless render (1029)\n",
      "Skipping another useless render (1030)\n",
      "Skipping another useless render (1031)\n"
     ]
    },
    {
     "name": "stderr",
     "output_type": "stream",
     "text": [
      "\n",
      " 29%|██▉       | 74/253 [14:04<1:20:41, 27.05s/it]\u001b[A"
     ]
    },
    {
     "name": "stdout",
     "output_type": "stream",
     "text": [
      "Skipping another useless render (1032)\n",
      "Skipping another useless render (1033)\n",
      "Skipping another useless render (1034)\n",
      "Skipping another useless render (1035)\n",
      "Skipping another useless render (1036)\n",
      "Skipping another useless render (1037)\n",
      "Skipping another useless render (1038)\n",
      "Skipping another useless render (1039)\n",
      "Skipping another useless render (1040)\n",
      "Skipping another useless render (1041)\n",
      "Skipping another useless render (1042)\n",
      "Skipping another useless render (1043)\n",
      "Skipping another useless render (1044)\n",
      "Skipping another useless render (1045)\n",
      "Skipping another useless render (1046)\n",
      "Skipping another useless render (1047)\n",
      "Skipping another useless render (1048)\n",
      "Skipping another useless render (1049)\n",
      "Skipping another useless render (1050)\n",
      "Skipping another useless render (1051)\n",
      "Skipping another useless render (1052)\n",
      "Skipping another useless render (1053)\n",
      "Skipping another useless render (1054)\n",
      "Skipping another useless render (1055)\n",
      "Skipping another useless render (1056)\n"
     ]
    },
    {
     "name": "stderr",
     "output_type": "stream",
     "text": [
      "\n",
      " 30%|██▉       | 75/253 [14:25<1:14:44, 25.20s/it]\u001b[A"
     ]
    },
    {
     "name": "stdout",
     "output_type": "stream",
     "text": [
      "Skipping another useless render (1057)\n",
      "Skipping another useless render (1058)\n",
      "Skipping another useless render (1059)\n",
      "Skipping another useless render (1060)\n",
      "Skipping another useless render (1061)\n",
      "Skipping another useless render (1062)\n",
      "Skipping another useless render (1063)\n",
      "Skipping another useless render (1064)\n",
      "Skipping another useless render (1065)\n",
      "Skipping another useless render (1066)\n",
      "Skipping another useless render (1067)\n",
      "Skipping another useless render (1068)\n",
      "Skipping another useless render (1069)\n",
      "Skipping another useless render (1070)\n",
      "Skipping another useless render (1071)\n",
      "Skipping another useless render (1072)\n",
      "Skipping another useless render (1073)\n",
      "Skipping another useless render (1074)\n",
      "Skipping another useless render (1075)\n",
      "Skipping another useless render (1076)\n",
      "Skipping another useless render (1077)\n",
      "Skipping another useless render (1078)\n",
      "Skipping another useless render (1079)\n",
      "Skipping another useless render (1080)\n",
      "Skipping another useless render (1081)\n",
      "Skipping another useless render (1082)\n",
      "Skipping another useless render (1083)\n",
      "Skipping another useless render (1084)\n"
     ]
    },
    {
     "name": "stderr",
     "output_type": "stream",
     "text": [
      "\n",
      " 30%|███       | 76/253 [14:48<1:12:09, 24.46s/it]\u001b[A"
     ]
    },
    {
     "name": "stdout",
     "output_type": "stream",
     "text": [
      "Skipping another useless render (1085)\n",
      "Skipping another useless render (1086)\n",
      "Skipping another useless render (1087)\n",
      "Skipping another useless render (1088)\n",
      "Skipping another useless render (1089)\n",
      "Skipping another useless render (1090)\n",
      "Skipping another useless render (1091)\n"
     ]
    },
    {
     "name": "stderr",
     "output_type": "stream",
     "text": [
      "\n",
      " 30%|███       | 77/253 [14:53<55:26, 18.90s/it]  \u001b[A"
     ]
    },
    {
     "name": "stdout",
     "output_type": "stream",
     "text": [
      "Skipping another useless render (1092)\n"
     ]
    },
    {
     "name": "stderr",
     "output_type": "stream",
     "text": [
      "\n",
      " 31%|███       | 78/253 [14:55<39:56, 13.69s/it]\u001b[A"
     ]
    },
    {
     "name": "stdout",
     "output_type": "stream",
     "text": [
      "Skipping another useless render (1093)\n",
      "Skipping another useless render (1094)\n",
      "Skipping another useless render (1095)\n",
      "Skipping another useless render (1096)\n",
      "Skipping another useless render (1097)\n",
      "Skipping another useless render (1098)\n",
      "Skipping another useless render (1099)\n",
      "Skipping another useless render (1100)\n",
      "Skipping another useless render (1101)\n",
      "Skipping another useless render (1102)\n"
     ]
    },
    {
     "name": "stderr",
     "output_type": "stream",
     "text": [
      "\n",
      " 31%|███       | 79/253 [15:03<34:26, 11.88s/it]\u001b[A"
     ]
    },
    {
     "name": "stdout",
     "output_type": "stream",
     "text": [
      "Skipping another useless render (1103)\n",
      "Skipping another useless render (1104)\n",
      "Skipping another useless render (1105)\n",
      "Skipping another useless render (1106)\n",
      "Skipping another useless render (1107)\n",
      "Skipping another useless render (1108)\n",
      "Skipping another useless render (1109)\n",
      "Skipping another useless render (1110)\n",
      "Skipping another useless render (1111)\n",
      "Skipping another useless render (1112)\n",
      "Skipping another useless render (1113)\n",
      "Skipping another useless render (1114)\n"
     ]
    },
    {
     "name": "stderr",
     "output_type": "stream",
     "text": [
      "\n",
      " 32%|███▏      | 80/253 [15:13<32:47, 11.37s/it]\u001b[A"
     ]
    },
    {
     "name": "stdout",
     "output_type": "stream",
     "text": [
      "Skipping another useless render (1115)\n",
      "Skipping another useless render (1116)\n",
      "Skipping another useless render (1117)\n",
      "Skipping another useless render (1118)\n"
     ]
    },
    {
     "name": "stderr",
     "output_type": "stream",
     "text": [
      "\n",
      " 32%|███▏      | 81/253 [15:17<26:04,  9.10s/it]\u001b[A"
     ]
    },
    {
     "name": "stdout",
     "output_type": "stream",
     "text": [
      "Skipping another useless render (1119)\n",
      "Skipping another useless render (1120)\n",
      "Skipping another useless render (1121)\n",
      "Skipping another useless render (1122)\n",
      "Skipping another useless render (1123)\n",
      "Skipping another useless render (1124)\n",
      "Skipping another useless render (1125)\n",
      "Skipping another useless render (1126)\n",
      "Skipping another useless render (1127)\n",
      "Skipping another useless render (1128)\n",
      "Skipping another useless render (1129)\n",
      "Skipping another useless render (1130)\n",
      "Skipping another useless render (1131)\n",
      "Skipping another useless render (1132)\n",
      "Skipping another useless render (1133)\n",
      "Skipping another useless render (1134)\n",
      "Skipping another useless render (1135)\n",
      "Skipping another useless render (1136)\n",
      "Skipping another useless render (1137)\n"
     ]
    },
    {
     "name": "stderr",
     "output_type": "stream",
     "text": [
      "\n",
      " 32%|███▏      | 82/253 [15:33<32:08, 11.28s/it]\u001b[A"
     ]
    },
    {
     "name": "stdout",
     "output_type": "stream",
     "text": [
      "Skipping another useless render (1138)\n",
      "Skipping another useless render (1139)\n",
      "Skipping another useless render (1140)\n",
      "Skipping another useless render (1141)\n",
      "Skipping another useless render (1142)\n",
      "Skipping another useless render (1143)\n",
      "Skipping another useless render (1144)\n",
      "Skipping another useless render (1145)\n",
      "Skipping another useless render (1146)\n",
      "Skipping another useless render (1147)\n"
     ]
    },
    {
     "name": "stderr",
     "output_type": "stream",
     "text": [
      "\n",
      " 33%|███▎      | 83/253 [15:41<29:20, 10.35s/it]\u001b[A"
     ]
    },
    {
     "name": "stdout",
     "output_type": "stream",
     "text": [
      "Skipping another useless render (1148)\n",
      "Skipping another useless render (1149)\n",
      "Skipping another useless render (1150)\n",
      "Skipping another useless render (1151)\n"
     ]
    },
    {
     "name": "stderr",
     "output_type": "stream",
     "text": [
      "\n",
      " 33%|███▎      | 84/253 [15:45<23:40,  8.41s/it]\u001b[A"
     ]
    },
    {
     "name": "stdout",
     "output_type": "stream",
     "text": [
      "Skipping another useless render (1152)\n",
      "Skipping another useless render (1153)\n",
      "Skipping another useless render (1154)\n"
     ]
    },
    {
     "name": "stderr",
     "output_type": "stream",
     "text": [
      "\n",
      " 34%|███▎      | 85/253 [15:48<19:06,  6.83s/it]\u001b[A"
     ]
    },
    {
     "name": "stdout",
     "output_type": "stream",
     "text": [
      "Skipping another useless render (1155)\n",
      "Skipping another useless render (1156)\n",
      "Skipping another useless render (1157)\n",
      "Skipping another useless render (1158)\n",
      "Skipping another useless render (1159)\n",
      "Skipping another useless render (1160)\n",
      "Skipping another useless render (1161)\n",
      "Skipping another useless render (1162)\n",
      "Skipping another useless render (1163)\n",
      "Skipping another useless render (1164)\n",
      "Skipping another useless render (1165)\n",
      "Skipping another useless render (1166)\n",
      "Skipping another useless render (1167)\n",
      "Skipping another useless render (1168)\n",
      "Skipping another useless render (1169)\n",
      "Skipping another useless render (1170)\n",
      "Skipping another useless render (1171)\n",
      "Skipping another useless render (1172)\n",
      "Skipping another useless render (1173)\n",
      "Skipping another useless render (1174)\n",
      "Skipping another useless render (1175)\n",
      "Skipping another useless render (1176)\n",
      "Skipping another useless render (1177)\n",
      "Skipping another useless render (1178)\n",
      "Skipping another useless render (1179)\n",
      "Skipping another useless render (1180)\n",
      "Skipping another useless render (1181)\n",
      "Skipping another useless render (1182)\n"
     ]
    },
    {
     "name": "stderr",
     "output_type": "stream",
     "text": [
      "\n",
      " 34%|███▍      | 86/253 [16:10<31:39, 11.38s/it]\u001b[A"
     ]
    },
    {
     "name": "stdout",
     "output_type": "stream",
     "text": [
      "Skipping another useless render (1183)\n",
      "Skipping another useless render (1184)\n",
      "Skipping another useless render (1185)\n",
      "Skipping another useless render (1186)\n",
      "Skipping another useless render (1187)\n",
      "Skipping another useless render (1188)\n",
      "Skipping another useless render (1189)\n"
     ]
    },
    {
     "name": "stderr",
     "output_type": "stream",
     "text": [
      "\n",
      " 34%|███▍      | 87/253 [16:16<27:05,  9.79s/it]\u001b[A"
     ]
    },
    {
     "name": "stdout",
     "output_type": "stream",
     "text": [
      "Skipping another useless render (1190)\n",
      "Skipping another useless render (1191)\n",
      "Skipping another useless render (1192)\n",
      "Skipping another useless render (1193)\n",
      "Skipping another useless render (1194)\n",
      "Skipping another useless render (1195)\n",
      "Skipping another useless render (1196)\n",
      "Skipping another useless render (1197)\n",
      "Skipping another useless render (1198)\n",
      "Skipping another useless render (1199)\n",
      "Skipping another useless render (1200)\n",
      "Skipping another useless render (1201)\n",
      "Skipping another useless render (1202)\n"
     ]
    },
    {
     "name": "stderr",
     "output_type": "stream",
     "text": [
      "\n",
      " 35%|███▍      | 88/253 [16:27<27:49, 10.12s/it]\u001b[A\n",
      " 35%|███▌      | 89/253 [16:28<19:56,  7.30s/it]\u001b[A"
     ]
    },
    {
     "name": "stdout",
     "output_type": "stream",
     "text": [
      "Skipping another useless render (1203)\n",
      "Skipping another useless render (1204)\n",
      "Skipping another useless render (1205)\n",
      "Skipping another useless render (1206)\n",
      "Skipping another useless render (1207)\n"
     ]
    },
    {
     "name": "stderr",
     "output_type": "stream",
     "text": [
      "\n",
      " 36%|███▌      | 90/253 [16:32<17:37,  6.49s/it]\u001b[A"
     ]
    },
    {
     "name": "stdout",
     "output_type": "stream",
     "text": [
      "Skipping another useless render (1208)\n",
      "Skipping another useless render (1209)\n",
      "Skipping another useless render (1210)\n",
      "Skipping another useless render (1211)\n",
      "Skipping another useless render (1212)\n",
      "Skipping another useless render (1213)\n",
      "Skipping another useless render (1214)\n",
      "Skipping another useless render (1215)\n",
      "Skipping another useless render (1216)\n",
      "Skipping another useless render (1217)\n",
      "Skipping another useless render (1218)\n",
      "Skipping another useless render (1219)\n",
      "Skipping another useless render (1220)\n",
      "Skipping another useless render (1221)\n",
      "Skipping another useless render (1222)\n",
      "Skipping another useless render (1223)\n",
      "Skipping another useless render (1224)\n",
      "Skipping another useless render (1225)\n",
      "Skipping another useless render (1226)\n",
      "Skipping another useless render (1227)\n",
      "Skipping another useless render (1228)\n",
      "Skipping another useless render (1229)\n",
      "Skipping another useless render (1230)\n",
      "Skipping another useless render (1231)\n",
      "Skipping another useless render (1232)\n",
      "Skipping another useless render (1233)\n",
      "Skipping another useless render (1234)\n",
      "Skipping another useless render (1235)\n",
      "Skipping another useless render (1236)\n",
      "Skipping another useless render (1237)\n",
      "Skipping another useless render (1238)\n",
      "Skipping another useless render (1239)\n",
      "Skipping another useless render (1240)\n",
      "Skipping another useless render (1241)\n",
      "Skipping another useless render (1242)\n",
      "Skipping another useless render (1243)\n",
      "Skipping another useless render (1244)\n",
      "Skipping another useless render (1245)\n",
      "Skipping another useless render (1246)\n",
      "Skipping another useless render (1247)\n",
      "Skipping another useless render (1248)\n",
      "Skipping another useless render (1249)\n",
      "Skipping another useless render (1250)\n",
      "Skipping another useless render (1251)\n",
      "Skipping another useless render (1252)\n",
      "Skipping another useless render (1253)\n",
      "Skipping another useless render (1254)\n",
      "Skipping another useless render (1255)\n",
      "Skipping another useless render (1256)\n",
      "Skipping another useless render (1257)\n",
      "Skipping another useless render (1258)\n",
      "Skipping another useless render (1259)\n",
      "Skipping another useless render (1260)\n",
      "Skipping another useless render (1261)\n",
      "Skipping another useless render (1262)\n",
      "Skipping another useless render (1263)\n",
      "Skipping another useless render (1264)\n",
      "Skipping another useless render (1265)\n",
      "Skipping another useless render (1266)\n",
      "Skipping another useless render (1267)\n"
     ]
    },
    {
     "name": "stderr",
     "output_type": "stream",
     "text": [
      "\n",
      " 36%|███▌      | 91/253 [17:18<49:09, 18.21s/it]\u001b[A"
     ]
    },
    {
     "name": "stdout",
     "output_type": "stream",
     "text": [
      "Skipping another useless render (1268)\n"
     ]
    },
    {
     "name": "stderr",
     "output_type": "stream",
     "text": [
      "\n",
      " 36%|███▋      | 92/253 [17:20<35:30, 13.24s/it]\u001b[A"
     ]
    },
    {
     "name": "stdout",
     "output_type": "stream",
     "text": [
      "Skipping another useless render (1269)\n",
      "Skipping another useless render (1270)\n",
      "Skipping another useless render (1271)\n",
      "Skipping another useless render (1272)\n",
      "Skipping another useless render (1273)\n",
      "Skipping another useless render (1274)\n",
      "Skipping another useless render (1275)\n",
      "Skipping another useless render (1276)\n",
      "Skipping another useless render (1277)\n",
      "Skipping another useless render (1278)\n",
      "Skipping another useless render (1279)\n",
      "Skipping another useless render (1280)\n",
      "Skipping another useless render (1281)\n",
      "Skipping another useless render (1282)\n",
      "Skipping another useless render (1283)\n",
      "Skipping another useless render (1284)\n",
      "Skipping another useless render (1285)\n"
     ]
    },
    {
     "name": "stderr",
     "output_type": "stream",
     "text": [
      "\n",
      " 37%|███▋      | 93/253 [17:33<35:41, 13.39s/it]\u001b[A"
     ]
    },
    {
     "name": "stdout",
     "output_type": "stream",
     "text": [
      "Skipping another useless render (1286)\n",
      "Skipping another useless render (1287)\n",
      "Skipping another useless render (1288)\n",
      "Skipping another useless render (1289)\n",
      "Skipping another useless render (1290)\n",
      "Skipping another useless render (1291)\n",
      "Skipping another useless render (1292)\n",
      "Skipping another useless render (1293)\n",
      "Skipping another useless render (1294)\n",
      "Skipping another useless render (1295)\n",
      "Skipping another useless render (1296)\n",
      "Skipping another useless render (1297)\n",
      "Skipping another useless render (1298)\n",
      "Skipping another useless render (1299)\n",
      "Skipping another useless render (1300)\n",
      "Skipping another useless render (1301)\n",
      "Skipping another useless render (1302)\n",
      "Skipping another useless render (1303)\n",
      "Skipping another useless render (1304)\n",
      "Skipping another useless render (1305)\n",
      "Skipping another useless render (1306)\n",
      "Skipping another useless render (1307)\n",
      "Skipping another useless render (1308)\n",
      "Skipping another useless render (1309)\n",
      "Skipping another useless render (1310)\n",
      "Skipping another useless render (1311)\n",
      "Skipping another useless render (1312)\n",
      "Skipping another useless render (1313)\n",
      "Skipping another useless render (1314)\n",
      "Skipping another useless render (1315)\n"
     ]
    },
    {
     "name": "stderr",
     "output_type": "stream",
     "text": [
      "\n",
      " 37%|███▋      | 94/253 [17:58<44:09, 16.66s/it]\u001b[A"
     ]
    },
    {
     "name": "stdout",
     "output_type": "stream",
     "text": [
      "Skipping another useless render (1316)\n",
      "Skipping another useless render (1317)\n",
      "Skipping another useless render (1318)\n",
      "Skipping another useless render (1319)\n",
      "Skipping another useless render (1320)\n",
      "Skipping another useless render (1321)\n"
     ]
    },
    {
     "name": "stderr",
     "output_type": "stream",
     "text": [
      "\n",
      " 38%|███▊      | 95/253 [18:03<34:50, 13.23s/it]\u001b[A"
     ]
    },
    {
     "name": "stdout",
     "output_type": "stream",
     "text": [
      "Skipping another useless render (1322)\n",
      "Skipping another useless render (1323)\n",
      "Skipping another useless render (1324)\n",
      "Skipping another useless render (1325)\n",
      "Skipping another useless render (1326)\n",
      "Skipping another useless render (1327)\n",
      "Skipping another useless render (1328)\n",
      "Skipping another useless render (1329)\n",
      "Skipping another useless render (1330)\n",
      "Skipping another useless render (1331)\n",
      "Skipping another useless render (1332)\n",
      "Skipping another useless render (1333)\n"
     ]
    },
    {
     "name": "stderr",
     "output_type": "stream",
     "text": [
      "\n",
      " 38%|███▊      | 96/253 [18:12<31:43, 12.12s/it]\u001b[A\n",
      " 38%|███▊      | 97/253 [18:13<22:34,  8.68s/it]\u001b[A"
     ]
    },
    {
     "name": "stdout",
     "output_type": "stream",
     "text": [
      "Skipping another useless render (1334)\n",
      "Skipping another useless render (1335)\n",
      "Skipping another useless render (1336)\n",
      "Skipping another useless render (1337)\n",
      "Skipping another useless render (1338)\n",
      "Skipping another useless render (1339)\n",
      "Skipping another useless render (1340)\n",
      "Skipping another useless render (1341)\n",
      "Skipping another useless render (1342)\n",
      "Skipping another useless render (1343)\n"
     ]
    },
    {
     "name": "stderr",
     "output_type": "stream",
     "text": [
      "\n",
      " 39%|███▊      | 98/253 [18:21<21:59,  8.51s/it]\u001b[A"
     ]
    },
    {
     "name": "stdout",
     "output_type": "stream",
     "text": [
      "Skipping another useless render (1344)\n"
     ]
    },
    {
     "name": "stderr",
     "output_type": "stream",
     "text": [
      "\n",
      " 39%|███▉      | 99/253 [18:23<16:30,  6.43s/it]\u001b[A\n",
      " 40%|███▉      | 100/253 [18:23<12:00,  4.71s/it]\u001b[A"
     ]
    },
    {
     "name": "stdout",
     "output_type": "stream",
     "text": [
      "Skipping another useless render (1345)\n",
      "Skipping another useless render (1346)\n",
      "Skipping another useless render (1347)\n"
     ]
    },
    {
     "name": "stderr",
     "output_type": "stream",
     "text": [
      "\n",
      " 40%|███▉      | 101/253 [18:26<10:38,  4.20s/it]\u001b[A"
     ]
    },
    {
     "name": "stdout",
     "output_type": "stream",
     "text": [
      "Skipping another useless render (1348)\n",
      "Skipping another useless render (1349)\n",
      "Skipping another useless render (1350)\n",
      "Skipping another useless render (1351)\n",
      "Skipping another useless render (1352)\n",
      "Skipping another useless render (1353)\n",
      "Skipping another useless render (1354)\n",
      "Skipping another useless render (1355)\n",
      "Skipping another useless render (1356)\n",
      "Skipping another useless render (1357)\n",
      "Skipping another useless render (1358)\n"
     ]
    },
    {
     "name": "stderr",
     "output_type": "stream",
     "text": [
      "\n",
      " 40%|████      | 102/253 [18:36<14:52,  5.91s/it]\u001b[A\n",
      " 41%|████      | 103/253 [18:37<10:54,  4.36s/it]\u001b[A"
     ]
    },
    {
     "name": "stdout",
     "output_type": "stream",
     "text": [
      "Skipping another useless render (1359)\n",
      "Skipping another useless render (1360)\n",
      "Skipping another useless render (1361)\n",
      "Skipping another useless render (1362)\n",
      "Skipping another useless render (1363)\n",
      "Skipping another useless render (1364)\n",
      "Skipping another useless render (1365)\n",
      "Skipping another useless render (1366)\n",
      "Skipping another useless render (1367)\n",
      "Skipping another useless render (1368)\n",
      "Skipping another useless render (1369)\n",
      "Skipping another useless render (1370)\n",
      "Skipping another useless render (1371)\n",
      "Skipping another useless render (1372)\n",
      "Skipping another useless render (1373)\n",
      "Skipping another useless render (1374)\n",
      "Skipping another useless render (1375)\n",
      "Skipping another useless render (1376)\n",
      "Skipping another useless render (1377)\n",
      "Skipping another useless render (1378)\n"
     ]
    },
    {
     "name": "stderr",
     "output_type": "stream",
     "text": [
      "\n",
      " 41%|████      | 104/253 [18:54<20:07,  8.10s/it]\u001b[A"
     ]
    },
    {
     "name": "stdout",
     "output_type": "stream",
     "text": [
      "Skipping another useless render (1379)\n",
      "Skipping another useless render (1380)\n",
      "Skipping another useless render (1381)\n",
      "Skipping another useless render (1382)\n",
      "Skipping another useless render (1383)\n",
      "Skipping another useless render (1384)\n",
      "Skipping another useless render (1385)\n",
      "Skipping another useless render (1386)\n",
      "Skipping another useless render (1387)\n",
      "Skipping another useless render (1388)\n",
      "Skipping another useless render (1389)\n",
      "Skipping another useless render (1390)\n",
      "Skipping another useless render (1391)\n",
      "Skipping another useless render (1392)\n"
     ]
    },
    {
     "name": "stderr",
     "output_type": "stream",
     "text": [
      "\n",
      " 42%|████▏     | 105/253 [19:06<22:56,  9.30s/it]\u001b[A"
     ]
    },
    {
     "name": "stdout",
     "output_type": "stream",
     "text": [
      "Skipping another useless render (1393)\n",
      "Skipping another useless render (1394)\n",
      "Skipping another useless render (1395)\n",
      "Skipping another useless render (1396)\n",
      "Skipping another useless render (1397)\n",
      "Skipping another useless render (1398)\n",
      "Skipping another useless render (1399)\n",
      "Skipping another useless render (1400)\n",
      "Skipping another useless render (1401)\n",
      "Skipping another useless render (1402)\n",
      "Skipping another useless render (1403)\n",
      "Skipping another useless render (1404)\n"
     ]
    },
    {
     "name": "stderr",
     "output_type": "stream",
     "text": [
      "\n",
      " 42%|████▏     | 106/253 [19:16<23:08,  9.45s/it]\u001b[A"
     ]
    },
    {
     "name": "stdout",
     "output_type": "stream",
     "text": [
      "Skipping another useless render (1405)\n",
      "Skipping another useless render (1406)\n",
      "Skipping another useless render (1407)\n",
      "Skipping another useless render (1408)\n",
      "Skipping another useless render (1409)\n",
      "Skipping another useless render (1410)\n",
      "Skipping another useless render (1411)\n",
      "Skipping another useless render (1412)\n"
     ]
    },
    {
     "name": "stderr",
     "output_type": "stream",
     "text": [
      "\n",
      " 42%|████▏     | 107/253 [19:23<21:05,  8.67s/it]\u001b[A"
     ]
    },
    {
     "name": "stdout",
     "output_type": "stream",
     "text": [
      "Skipping another useless render (1413)\n",
      "Skipping another useless render (1414)\n",
      "Skipping another useless render (1415)\n",
      "Skipping another useless render (1416)\n",
      "Skipping another useless render (1417)\n",
      "Skipping another useless render (1418)\n",
      "Skipping another useless render (1419)\n",
      "Skipping another useless render (1420)\n",
      "Skipping another useless render (1421)\n",
      "Skipping another useless render (1422)\n",
      "Skipping another useless render (1423)\n",
      "Skipping another useless render (1424)\n",
      "Skipping another useless render (1425)\n",
      "Skipping another useless render (1426)\n",
      "Skipping another useless render (1427)\n",
      "Skipping another useless render (1428)\n",
      "Skipping another useless render (1429)\n",
      "Skipping another useless render (1430)\n",
      "Skipping another useless render (1431)\n"
     ]
    },
    {
     "name": "stderr",
     "output_type": "stream",
     "text": [
      "\n",
      " 43%|████▎     | 108/253 [19:38<25:57, 10.74s/it]\u001b[A"
     ]
    },
    {
     "name": "stdout",
     "output_type": "stream",
     "text": [
      "Skipping another useless render (1432)\n",
      "Skipping another useless render (1433)\n",
      "Skipping another useless render (1434)\n",
      "Skipping another useless render (1435)\n",
      "Skipping another useless render (1436)\n",
      "Skipping another useless render (1437)\n",
      "Skipping another useless render (1438)\n",
      "Skipping another useless render (1439)\n",
      "Skipping another useless render (1440)\n",
      "Skipping another useless render (1441)\n",
      "Skipping another useless render (1442)\n",
      "Skipping another useless render (1443)\n",
      "Skipping another useless render (1444)\n",
      "Skipping another useless render (1445)\n",
      "Skipping another useless render (1446)\n"
     ]
    },
    {
     "name": "stderr",
     "output_type": "stream",
     "text": [
      "\n",
      " 43%|████▎     | 109/253 [19:51<27:08, 11.31s/it]\u001b[A"
     ]
    },
    {
     "name": "stdout",
     "output_type": "stream",
     "text": [
      "Skipping another useless render (1447)\n",
      "Skipping another useless render (1448)\n",
      "Skipping another useless render (1449)\n",
      "Skipping another useless render (1450)\n",
      "Skipping another useless render (1451)\n",
      "Skipping another useless render (1452)\n",
      "Skipping another useless render (1453)\n",
      "Skipping another useless render (1454)\n",
      "Skipping another useless render (1455)\n",
      "Skipping another useless render (1456)\n",
      "Skipping another useless render (1457)\n",
      "Skipping another useless render (1458)\n",
      "Skipping another useless render (1459)\n",
      "Skipping another useless render (1460)\n",
      "Skipping another useless render (1461)\n",
      "Skipping another useless render (1462)\n",
      "Skipping another useless render (1463)\n",
      "Skipping another useless render (1464)\n",
      "Skipping another useless render (1465)\n",
      "Skipping another useless render (1466)\n",
      "Skipping another useless render (1467)\n",
      "Skipping another useless render (1468)\n",
      "Skipping another useless render (1469)\n",
      "Skipping another useless render (1470)\n",
      "Skipping another useless render (1471)\n",
      "Skipping another useless render (1472)\n"
     ]
    },
    {
     "name": "stderr",
     "output_type": "stream",
     "text": [
      "\n",
      " 43%|████▎     | 110/253 [20:12<33:56, 14.24s/it]\u001b[A"
     ]
    },
    {
     "name": "stdout",
     "output_type": "stream",
     "text": [
      "Skipping another useless render (1473)\n",
      "Skipping another useless render (1474)\n",
      "Skipping another useless render (1475)\n",
      "Skipping another useless render (1476)\n",
      "Skipping another useless render (1477)\n",
      "Skipping another useless render (1478)\n",
      "Skipping another useless render (1479)\n",
      "Skipping another useless render (1480)\n",
      "Skipping another useless render (1481)\n",
      "Skipping another useless render (1482)\n",
      "Skipping another useless render (1483)\n",
      "Skipping another useless render (1484)\n",
      "Skipping another useless render (1485)\n",
      "Skipping another useless render (1486)\n",
      "Skipping another useless render (1487)\n",
      "Skipping another useless render (1488)\n",
      "Skipping another useless render (1489)\n",
      "Skipping another useless render (1490)\n",
      "Skipping another useless render (1491)\n",
      "Skipping another useless render (1492)\n",
      "Skipping another useless render (1493)\n",
      "Skipping another useless render (1494)\n",
      "Skipping another useless render (1495)\n",
      "Skipping another useless render (1496)\n",
      "Skipping another useless render (1497)\n",
      "Skipping another useless render (1498)\n",
      "Skipping another useless render (1499)\n"
     ]
    },
    {
     "name": "stderr",
     "output_type": "stream",
     "text": [
      "\n",
      " 44%|████▍     | 111/253 [20:33<38:46, 16.38s/it]\u001b[A"
     ]
    },
    {
     "name": "stdout",
     "output_type": "stream",
     "text": [
      "Skipping another useless render (1500)\n",
      "Skipping another useless render (1501)\n",
      "Skipping another useless render (1502)\n",
      "Skipping another useless render (1503)\n",
      "Skipping another useless render (1504)\n",
      "Skipping another useless render (1505)\n",
      "Skipping another useless render (1506)\n",
      "Skipping another useless render (1507)\n",
      "Skipping another useless render (1508)\n",
      "Skipping another useless render (1509)\n"
     ]
    },
    {
     "name": "stderr",
     "output_type": "stream",
     "text": [
      "\n",
      " 44%|████▍     | 112/253 [20:43<33:30, 14.26s/it]\u001b[A"
     ]
    },
    {
     "name": "stdout",
     "output_type": "stream",
     "text": [
      "Skipping another useless render (1510)\n",
      "Skipping another useless render (1511)\n",
      "Skipping another useless render (1512)\n",
      "Skipping another useless render (1513)\n",
      "Skipping another useless render (1514)\n",
      "Skipping another useless render (1515)\n",
      "Skipping another useless render (1516)\n",
      "Skipping another useless render (1517)\n",
      "Skipping another useless render (1518)\n",
      "Skipping another useless render (1519)\n",
      "Skipping another useless render (1520)\n",
      "Skipping another useless render (1521)\n",
      "Skipping another useless render (1522)\n",
      "Skipping another useless render (1523)\n",
      "Skipping another useless render (1524)\n",
      "Skipping another useless render (1525)\n",
      "Skipping another useless render (1526)\n",
      "Skipping another useless render (1527)\n",
      "Skipping another useless render (1528)\n",
      "Skipping another useless render (1529)\n",
      "Skipping another useless render (1530)\n",
      "Skipping another useless render (1531)\n",
      "Skipping another useless render (1532)\n",
      "Skipping another useless render (1533)\n",
      "Skipping another useless render (1534)\n",
      "Skipping another useless render (1535)\n",
      "Skipping another useless render (1536)\n",
      "Skipping another useless render (1537)\n",
      "Skipping another useless render (1538)\n",
      "Skipping another useless render (1539)\n",
      "Skipping another useless render (1540)\n",
      "Skipping another useless render (1541)\n",
      "Skipping another useless render (1542)\n",
      "Skipping another useless render (1543)\n",
      "Skipping another useless render (1544)\n",
      "Skipping another useless render (1545)\n"
     ]
    },
    {
     "name": "stderr",
     "output_type": "stream",
     "text": [
      "\n",
      " 45%|████▍     | 113/253 [21:10<42:24, 18.18s/it]\u001b[A"
     ]
    },
    {
     "name": "stdout",
     "output_type": "stream",
     "text": [
      "Skipping another useless render (1546)\n"
     ]
    },
    {
     "name": "stderr",
     "output_type": "stream",
     "text": [
      "\n",
      " 45%|████▌     | 114/253 [21:11<30:29, 13.16s/it]\u001b[A"
     ]
    },
    {
     "name": "stdout",
     "output_type": "stream",
     "text": [
      "Skipping another useless render (1547)\n",
      "Skipping another useless render (1548)\n",
      "Skipping another useless render (1549)\n"
     ]
    },
    {
     "name": "stderr",
     "output_type": "stream",
     "text": [
      "\n",
      " 45%|████▌     | 115/253 [21:15<23:17, 10.13s/it]\u001b[A"
     ]
    },
    {
     "name": "stdout",
     "output_type": "stream",
     "text": [
      "Skipping another useless render (1550)\n",
      "Skipping another useless render (1551)\n",
      "Skipping another useless render (1552)\n",
      "Skipping another useless render (1553)\n",
      "Skipping another useless render (1554)\n",
      "Skipping another useless render (1555)\n",
      "Skipping another useless render (1556)\n",
      "Skipping another useless render (1557)\n",
      "Skipping another useless render (1558)\n",
      "Skipping another useless render (1559)\n",
      "Skipping another useless render (1560)\n"
     ]
    },
    {
     "name": "stderr",
     "output_type": "stream",
     "text": [
      "\n",
      " 46%|████▌     | 116/253 [21:23<22:15,  9.75s/it]\u001b[A"
     ]
    },
    {
     "name": "stdout",
     "output_type": "stream",
     "text": [
      "Skipping another useless render (1561)\n",
      "Skipping another useless render (1562)\n",
      "Skipping another useless render (1563)\n",
      "Skipping another useless render (1564)\n",
      "Skipping another useless render (1565)\n",
      "Skipping another useless render (1566)\n",
      "Skipping another useless render (1567)\n"
     ]
    },
    {
     "name": "stderr",
     "output_type": "stream",
     "text": [
      "\n",
      " 46%|████▌     | 117/253 [21:30<19:41,  8.69s/it]\u001b[A"
     ]
    },
    {
     "name": "stdout",
     "output_type": "stream",
     "text": [
      "Skipping another useless render (1568)\n",
      "Skipping another useless render (1569)\n",
      "Skipping another useless render (1570)\n",
      "Skipping another useless render (1571)\n",
      "Skipping another useless render (1572)\n",
      "Skipping another useless render (1573)\n",
      "Skipping another useless render (1574)\n",
      "Skipping another useless render (1575)\n",
      "Skipping another useless render (1576)\n",
      "Skipping another useless render (1577)\n"
     ]
    },
    {
     "name": "stderr",
     "output_type": "stream",
     "text": [
      "\n",
      " 47%|████▋     | 118/253 [21:38<19:27,  8.65s/it]\u001b[A"
     ]
    },
    {
     "name": "stdout",
     "output_type": "stream",
     "text": [
      "Skipping another useless render (1578)\n",
      "Skipping another useless render (1579)\n",
      "Skipping another useless render (1580)\n",
      "Skipping another useless render (1581)\n",
      "Skipping another useless render (1582)\n",
      "Skipping another useless render (1583)\n",
      "Skipping another useless render (1584)\n",
      "Skipping another useless render (1585)\n",
      "Skipping another useless render (1586)\n",
      "Skipping another useless render (1587)\n",
      "Skipping another useless render (1588)\n",
      "Skipping another useless render (1589)\n",
      "Skipping another useless render (1590)\n",
      "Skipping another useless render (1591)\n",
      "Skipping another useless render (1592)\n",
      "Skipping another useless render (1593)\n",
      "Skipping another useless render (1594)\n",
      "Skipping another useless render (1595)\n",
      "Skipping another useless render (1596)\n",
      "Skipping another useless render (1597)\n",
      "Skipping another useless render (1598)\n",
      "Skipping another useless render (1599)\n",
      "Skipping another useless render (1600)\n",
      "Skipping another useless render (1601)\n",
      "Skipping another useless render (1602)\n",
      "Skipping another useless render (1603)\n",
      "Skipping another useless render (1604)\n",
      "Skipping another useless render (1605)\n",
      "Skipping another useless render (1606)\n",
      "Skipping another useless render (1607)\n",
      "Skipping another useless render (1608)\n",
      "Skipping another useless render (1609)\n"
     ]
    },
    {
     "name": "stderr",
     "output_type": "stream",
     "text": [
      "\n",
      " 47%|████▋     | 119/253 [22:04<30:38, 13.72s/it]\u001b[A"
     ]
    },
    {
     "name": "stdout",
     "output_type": "stream",
     "text": [
      "Skipping another useless render (1610)\n",
      "Skipping another useless render (1611)\n"
     ]
    },
    {
     "name": "stderr",
     "output_type": "stream",
     "text": [
      "\n",
      " 47%|████▋     | 120/253 [22:06<22:43, 10.25s/it]\u001b[A"
     ]
    },
    {
     "name": "stdout",
     "output_type": "stream",
     "text": [
      "Skipping another useless render (1612)\n",
      "Skipping another useless render (1613)\n",
      "Skipping another useless render (1614)\n",
      "Skipping another useless render (1615)\n",
      "Skipping another useless render (1616)\n",
      "Skipping another useless render (1617)\n",
      "Skipping another useless render (1618)\n",
      "Skipping another useless render (1619)\n",
      "Skipping another useless render (1620)\n",
      "Skipping another useless render (1621)\n"
     ]
    },
    {
     "name": "stderr",
     "output_type": "stream",
     "text": [
      "\n",
      " 48%|████▊     | 121/253 [22:15<21:30,  9.77s/it]\u001b[A"
     ]
    },
    {
     "name": "stdout",
     "output_type": "stream",
     "text": [
      "Skipping another useless render (1622)\n",
      "Skipping another useless render (1623)\n",
      "Skipping another useless render (1624)\n",
      "Skipping another useless render (1625)\n",
      "Skipping another useless render (1626)\n",
      "Skipping another useless render (1627)\n",
      "Skipping another useless render (1628)\n"
     ]
    },
    {
     "name": "stderr",
     "output_type": "stream",
     "text": [
      "\n",
      " 48%|████▊     | 122/253 [22:21<18:52,  8.64s/it]\u001b[A"
     ]
    },
    {
     "name": "stdout",
     "output_type": "stream",
     "text": [
      "Skipping another useless render (1629)\n",
      "Skipping another useless render (1630)\n",
      "Skipping another useless render (1631)\n",
      "Skipping another useless render (1632)\n",
      "Skipping another useless render (1633)\n",
      "Skipping another useless render (1634)\n",
      "Skipping another useless render (1635)\n",
      "Skipping another useless render (1636)\n",
      "Skipping another useless render (1637)\n",
      "Skipping another useless render (1638)\n",
      "Skipping another useless render (1639)\n",
      "Skipping another useless render (1640)\n",
      "Skipping another useless render (1641)\n",
      "Skipping another useless render (1642)\n",
      "Skipping another useless render (1643)\n",
      "Skipping another useless render (1644)\n",
      "Skipping another useless render (1645)\n"
     ]
    },
    {
     "name": "stderr",
     "output_type": "stream",
     "text": [
      "\n",
      " 49%|████▊     | 123/253 [22:34<21:59, 10.15s/it]\u001b[A"
     ]
    },
    {
     "name": "stdout",
     "output_type": "stream",
     "text": [
      "Skipping another useless render (1646)\n"
     ]
    },
    {
     "name": "stderr",
     "output_type": "stream",
     "text": [
      "\n",
      " 49%|████▉     | 124/253 [22:36<16:13,  7.55s/it]\u001b[A"
     ]
    },
    {
     "name": "stdout",
     "output_type": "stream",
     "text": [
      "Skipping another useless render (1647)\n",
      "Skipping another useless render (1648)\n",
      "Skipping another useless render (1649)\n",
      "Skipping another useless render (1650)\n",
      "Skipping another useless render (1651)\n",
      "Skipping another useless render (1652)\n"
     ]
    },
    {
     "name": "stderr",
     "output_type": "stream",
     "text": [
      "\n",
      " 49%|████▉     | 125/253 [22:41<14:47,  6.93s/it]\u001b[A"
     ]
    },
    {
     "name": "stdout",
     "output_type": "stream",
     "text": [
      "Skipping another useless render (1653)\n",
      "Skipping another useless render (1654)\n",
      "Skipping another useless render (1655)\n",
      "Skipping another useless render (1656)\n",
      "Skipping another useless render (1657)\n",
      "Skipping another useless render (1658)\n"
     ]
    },
    {
     "name": "stderr",
     "output_type": "stream",
     "text": [
      "\n",
      " 50%|████▉     | 126/253 [22:47<13:43,  6.48s/it]\u001b[A"
     ]
    },
    {
     "name": "stdout",
     "output_type": "stream",
     "text": [
      "Skipping another useless render (1659)\n",
      "Skipping another useless render (1660)\n",
      "Skipping another useless render (1661)\n",
      "Skipping another useless render (1662)\n",
      "Skipping another useless render (1663)\n",
      "Skipping another useless render (1664)\n",
      "Skipping another useless render (1665)\n",
      "Skipping another useless render (1666)\n",
      "Skipping another useless render (1667)\n",
      "Skipping another useless render (1668)\n",
      "Skipping another useless render (1669)\n",
      "Skipping another useless render (1670)\n",
      "Skipping another useless render (1671)\n",
      "Skipping another useless render (1672)\n",
      "Skipping another useless render (1673)\n",
      "Skipping another useless render (1674)\n",
      "Skipping another useless render (1675)\n",
      "Skipping another useless render (1676)\n",
      "Skipping another useless render (1677)\n",
      "Skipping another useless render (1678)\n",
      "Skipping another useless render (1679)\n",
      "Skipping another useless render (1680)\n",
      "Skipping another useless render (1681)\n",
      "Skipping another useless render (1682)\n",
      "Skipping another useless render (1683)\n",
      "Skipping another useless render (1684)\n",
      "Skipping another useless render (1685)\n",
      "Skipping another useless render (1686)\n",
      "Skipping another useless render (1687)\n"
     ]
    },
    {
     "name": "stderr",
     "output_type": "stream",
     "text": [
      "\n",
      " 50%|█████     | 127/253 [23:11<24:38, 11.74s/it]\u001b[A"
     ]
    },
    {
     "name": "stdout",
     "output_type": "stream",
     "text": [
      "Skipping another useless render (1688)\n",
      "Skipping another useless render (1689)\n",
      "Skipping another useless render (1690)\n",
      "Skipping another useless render (1691)\n",
      "Skipping another useless render (1692)\n",
      "Skipping another useless render (1693)\n",
      "Skipping another useless render (1694)\n",
      "Skipping another useless render (1695)\n",
      "Skipping another useless render (1696)\n"
     ]
    },
    {
     "name": "stderr",
     "output_type": "stream",
     "text": [
      "\n",
      " 51%|█████     | 128/253 [23:19<22:12, 10.66s/it]\u001b[A"
     ]
    },
    {
     "name": "stdout",
     "output_type": "stream",
     "text": [
      "Skipping another useless render (1697)\n",
      "Skipping another useless render (1698)\n",
      "Skipping another useless render (1699)\n",
      "Skipping another useless render (1700)\n",
      "Skipping another useless render (1701)\n"
     ]
    },
    {
     "name": "stderr",
     "output_type": "stream",
     "text": [
      "\n",
      " 51%|█████     | 129/253 [23:23<18:16,  8.84s/it]\u001b[A"
     ]
    },
    {
     "name": "stdout",
     "output_type": "stream",
     "text": [
      "Skipping another useless render (1702)\n",
      "Skipping another useless render (1703)\n"
     ]
    },
    {
     "name": "stderr",
     "output_type": "stream",
     "text": [
      "\n",
      " 51%|█████▏    | 130/253 [23:26<14:11,  6.93s/it]\u001b[A"
     ]
    },
    {
     "name": "stdout",
     "output_type": "stream",
     "text": [
      "Skipping another useless render (1704)\n",
      "Skipping another useless render (1705)\n"
     ]
    },
    {
     "name": "stderr",
     "output_type": "stream",
     "text": [
      "\n",
      " 52%|█████▏    | 131/253 [23:28<11:09,  5.48s/it]\u001b[A"
     ]
    },
    {
     "name": "stdout",
     "output_type": "stream",
     "text": [
      "Skipping another useless render (1706)\n",
      "Skipping another useless render (1707)\n",
      "Skipping another useless render (1708)\n",
      "Skipping another useless render (1709)\n",
      "Skipping another useless render (1710)\n"
     ]
    },
    {
     "name": "stderr",
     "output_type": "stream",
     "text": [
      "\n",
      " 52%|█████▏    | 132/253 [23:33<10:43,  5.32s/it]\u001b[A"
     ]
    },
    {
     "name": "stdout",
     "output_type": "stream",
     "text": [
      "Skipping another useless render (1711)\n",
      "Skipping another useless render (1712)\n",
      "Skipping another useless render (1713)\n",
      "Skipping another useless render (1714)\n",
      "Skipping another useless render (1715)\n",
      "Skipping another useless render (1716)\n",
      "Skipping another useless render (1717)\n",
      "Skipping another useless render (1718)\n",
      "Skipping another useless render (1719)\n",
      "Skipping another useless render (1720)\n",
      "Skipping another useless render (1721)\n",
      "Skipping another useless render (1722)\n",
      "Skipping another useless render (1723)\n",
      "Skipping another useless render (1724)\n",
      "Skipping another useless render (1725)\n",
      "Skipping another useless render (1726)\n",
      "Skipping another useless render (1727)\n",
      "Skipping another useless render (1728)\n",
      "Skipping another useless render (1729)\n",
      "Skipping another useless render (1730)\n",
      "Skipping another useless render (1731)\n",
      "Skipping another useless render (1732)\n",
      "Skipping another useless render (1733)\n",
      "Skipping another useless render (1734)\n",
      "Skipping another useless render (1735)\n",
      "Skipping another useless render (1736)\n",
      "Skipping another useless render (1737)\n",
      "Skipping another useless render (1738)\n",
      "Skipping another useless render (1739)\n",
      "Skipping another useless render (1740)\n",
      "Skipping another useless render (1741)\n",
      "Skipping another useless render (1742)\n",
      "Skipping another useless render (1743)\n"
     ]
    },
    {
     "name": "stderr",
     "output_type": "stream",
     "text": [
      "\n",
      " 53%|█████▎    | 133/253 [24:00<23:32, 11.77s/it]\u001b[A"
     ]
    },
    {
     "name": "stdout",
     "output_type": "stream",
     "text": [
      "Skipping another useless render (1744)\n",
      "Skipping another useless render (1745)\n",
      "Skipping another useless render (1746)\n",
      "Skipping another useless render (1747)\n",
      "Skipping another useless render (1748)\n",
      "Skipping another useless render (1749)\n",
      "Skipping another useless render (1750)\n",
      "Skipping another useless render (1751)\n",
      "Skipping another useless render (1752)\n",
      "Skipping another useless render (1753)\n",
      "Skipping another useless render (1754)\n",
      "Skipping another useless render (1755)\n",
      "Skipping another useless render (1756)\n",
      "Skipping another useless render (1757)\n",
      "Skipping another useless render (1758)\n"
     ]
    },
    {
     "name": "stderr",
     "output_type": "stream",
     "text": [
      "\n",
      " 53%|█████▎    | 134/253 [24:12<23:56, 12.07s/it]\u001b[A\n",
      " 53%|█████▎    | 135/253 [24:13<17:06,  8.70s/it]\u001b[A"
     ]
    },
    {
     "name": "stdout",
     "output_type": "stream",
     "text": [
      "Skipping another useless render (1759)\n",
      "Skipping another useless render (1760)\n",
      "Skipping another useless render (1761)\n",
      "Skipping another useless render (1762)\n",
      "Skipping another useless render (1763)\n",
      "Skipping another useless render (1764)\n"
     ]
    },
    {
     "name": "stderr",
     "output_type": "stream",
     "text": [
      "\n",
      " 54%|█████▍    | 136/253 [24:19<15:12,  7.80s/it]\u001b[A"
     ]
    },
    {
     "name": "stdout",
     "output_type": "stream",
     "text": [
      "Skipping another useless render (1765)\n",
      "Skipping another useless render (1766)\n",
      "Skipping another useless render (1767)\n",
      "Skipping another useless render (1768)\n"
     ]
    },
    {
     "name": "stderr",
     "output_type": "stream",
     "text": [
      "\n",
      " 54%|█████▍    | 137/253 [24:23<12:54,  6.67s/it]\u001b[A\n",
      " 55%|█████▍    | 138/253 [24:24<09:26,  4.92s/it]\u001b[A\n",
      " 55%|█████▍    | 139/253 [24:25<06:56,  3.65s/it]\u001b[A"
     ]
    },
    {
     "name": "stdout",
     "output_type": "stream",
     "text": [
      "Skipping another useless render (1769)\n",
      "Skipping another useless render (1770)\n",
      "Skipping another useless render (1771)\n",
      "Skipping another useless render (1772)\n",
      "Skipping another useless render (1773)\n",
      "Skipping another useless render (1774)\n",
      "Skipping another useless render (1775)\n",
      "Skipping another useless render (1776)\n",
      "Skipping another useless render (1777)\n",
      "Skipping another useless render (1778)\n",
      "Skipping another useless render (1779)\n",
      "Skipping another useless render (1780)\n",
      "Skipping another useless render (1781)\n",
      "Skipping another useless render (1782)\n",
      "Skipping another useless render (1783)\n",
      "Skipping another useless render (1784)\n",
      "Skipping another useless render (1785)\n",
      "Skipping another useless render (1786)\n",
      "Skipping another useless render (1787)\n",
      "Skipping another useless render (1788)\n",
      "Skipping another useless render (1789)\n",
      "Skipping another useless render (1790)\n",
      "Skipping another useless render (1791)\n",
      "Skipping another useless render (1792)\n",
      "Skipping another useless render (1793)\n",
      "Skipping another useless render (1794)\n",
      "Skipping another useless render (1795)\n",
      "Skipping another useless render (1796)\n",
      "Skipping another useless render (1797)\n",
      "Skipping another useless render (1798)\n",
      "Skipping another useless render (1799)\n",
      "Skipping another useless render (1800)\n",
      "Skipping another useless render (1801)\n",
      "Skipping another useless render (1802)\n",
      "Skipping another useless render (1803)\n",
      "Skipping another useless render (1804)\n",
      "Skipping another useless render (1805)\n",
      "Skipping another useless render (1806)\n",
      "Skipping another useless render (1807)\n"
     ]
    },
    {
     "name": "stderr",
     "output_type": "stream",
     "text": [
      "\n",
      " 55%|█████▌    | 140/253 [24:56<22:34, 11.98s/it]\u001b[A"
     ]
    },
    {
     "name": "stdout",
     "output_type": "stream",
     "text": [
      "Skipping another useless render (1808)\n",
      "Skipping another useless render (1809)\n",
      "Skipping another useless render (1810)\n",
      "Skipping another useless render (1811)\n",
      "Skipping another useless render (1812)\n"
     ]
    },
    {
     "name": "stderr",
     "output_type": "stream",
     "text": [
      "\n",
      " 56%|█████▌    | 141/253 [25:01<18:12,  9.76s/it]\u001b[A"
     ]
    },
    {
     "name": "stdout",
     "output_type": "stream",
     "text": [
      "Skipping another useless render (1813)\n",
      "Skipping another useless render (1814)\n",
      "Skipping another useless render (1815)\n",
      "Skipping another useless render (1816)\n",
      "Skipping another useless render (1817)\n",
      "Skipping another useless render (1818)\n",
      "Skipping another useless render (1819)\n",
      "Skipping another useless render (1820)\n",
      "Skipping another useless render (1821)\n",
      "Skipping another useless render (1822)\n",
      "Skipping another useless render (1823)\n",
      "Skipping another useless render (1824)\n",
      "Skipping another useless render (1825)\n"
     ]
    },
    {
     "name": "stderr",
     "output_type": "stream",
     "text": [
      "\n",
      " 56%|█████▌    | 142/253 [25:11<18:27,  9.98s/it]\u001b[A"
     ]
    },
    {
     "name": "stdout",
     "output_type": "stream",
     "text": [
      "Skipping another useless render (1826)\n",
      "Skipping another useless render (1827)\n",
      "Skipping another useless render (1828)\n",
      "Skipping another useless render (1829)\n",
      "Skipping another useless render (1830)\n",
      "Skipping another useless render (1831)\n",
      "Skipping another useless render (1832)\n",
      "Skipping another useless render (1833)\n"
     ]
    },
    {
     "name": "stderr",
     "output_type": "stream",
     "text": [
      "\n",
      " 57%|█████▋    | 143/253 [25:18<16:44,  9.13s/it]\u001b[A"
     ]
    },
    {
     "name": "stdout",
     "output_type": "stream",
     "text": [
      "Skipping another useless render (1834)\n",
      "Skipping another useless render (1835)\n",
      "Skipping another useless render (1836)\n",
      "Skipping another useless render (1837)\n",
      "Skipping another useless render (1838)\n",
      "Skipping another useless render (1839)\n",
      "Skipping another useless render (1840)\n",
      "Skipping another useless render (1841)\n",
      "Skipping another useless render (1842)\n",
      "Skipping another useless render (1843)\n",
      "Skipping another useless render (1844)\n",
      "Skipping another useless render (1845)\n",
      "Skipping another useless render (1846)\n",
      "Skipping another useless render (1847)\n",
      "Skipping another useless render (1848)\n",
      "Skipping another useless render (1849)\n",
      "Skipping another useless render (1850)\n",
      "Skipping another useless render (1851)\n",
      "Skipping another useless render (1852)\n",
      "Skipping another useless render (1853)\n",
      "Skipping another useless render (1854)\n"
     ]
    },
    {
     "name": "stderr",
     "output_type": "stream",
     "text": [
      "\n",
      " 57%|█████▋    | 144/253 [25:35<20:43, 11.40s/it]\u001b[A"
     ]
    },
    {
     "name": "stdout",
     "output_type": "stream",
     "text": [
      "Skipping another useless render (1855)\n"
     ]
    },
    {
     "name": "stderr",
     "output_type": "stream",
     "text": [
      "\n",
      " 57%|█████▋    | 145/253 [25:37<15:15,  8.48s/it]\u001b[A\n",
      " 58%|█████▊    | 146/253 [25:37<11:00,  6.17s/it]\u001b[A"
     ]
    },
    {
     "name": "stdout",
     "output_type": "stream",
     "text": [
      "Skipping another useless render (1856)\n",
      "Skipping another useless render (1857)\n",
      "Skipping another useless render (1858)\n"
     ]
    },
    {
     "name": "stderr",
     "output_type": "stream",
     "text": [
      "\n",
      " 58%|█████▊    | 147/253 [25:40<09:12,  5.21s/it]\u001b[A"
     ]
    },
    {
     "name": "stdout",
     "output_type": "stream",
     "text": [
      "Skipping another useless render (1859)\n",
      "Skipping another useless render (1860)\n",
      "Skipping another useless render (1861)\n",
      "Skipping another useless render (1862)\n",
      "Skipping another useless render (1863)\n",
      "Skipping another useless render (1864)\n",
      "Skipping another useless render (1865)\n",
      "Skipping another useless render (1866)\n",
      "Skipping another useless render (1867)\n",
      "Skipping another useless render (1868)\n",
      "Skipping another useless render (1869)\n",
      "Skipping another useless render (1870)\n",
      "Skipping another useless render (1871)\n",
      "Skipping another useless render (1872)\n"
     ]
    },
    {
     "name": "stderr",
     "output_type": "stream",
     "text": [
      "\n",
      " 58%|█████▊    | 148/253 [25:52<12:28,  7.13s/it]\u001b[A"
     ]
    },
    {
     "name": "stdout",
     "output_type": "stream",
     "text": [
      "Skipping another useless render (1873)\n",
      "Skipping another useless render (1874)\n",
      "Skipping another useless render (1875)\n",
      "Skipping another useless render (1876)\n",
      "Skipping another useless render (1877)\n",
      "Skipping another useless render (1878)\n",
      "Skipping another useless render (1879)\n",
      "Skipping another useless render (1880)\n",
      "Skipping another useless render (1881)\n",
      "Skipping another useless render (1882)\n"
     ]
    },
    {
     "name": "stderr",
     "output_type": "stream",
     "text": [
      "\n",
      " 59%|█████▉    | 149/253 [26:00<12:52,  7.43s/it]\u001b[A"
     ]
    },
    {
     "name": "stdout",
     "output_type": "stream",
     "text": [
      "Skipping another useless render (1883)\n",
      "Skipping another useless render (1884)\n",
      "Skipping another useless render (1885)\n",
      "Skipping another useless render (1886)\n",
      "Skipping another useless render (1887)\n",
      "Skipping another useless render (1888)\n",
      "Skipping another useless render (1889)\n",
      "Skipping another useless render (1890)\n",
      "Skipping another useless render (1891)\n",
      "Skipping another useless render (1892)\n",
      "Skipping another useless render (1893)\n",
      "Skipping another useless render (1894)\n",
      "Skipping another useless render (1895)\n",
      "Skipping another useless render (1896)\n"
     ]
    },
    {
     "name": "stderr",
     "output_type": "stream",
     "text": [
      "\n",
      " 59%|█████▉    | 150/253 [26:12<14:57,  8.71s/it]\u001b[A"
     ]
    },
    {
     "name": "stdout",
     "output_type": "stream",
     "text": [
      "Skipping another useless render (1897)\n",
      "Skipping another useless render (1898)\n",
      "Skipping another useless render (1899)\n"
     ]
    },
    {
     "name": "stderr",
     "output_type": "stream",
     "text": [
      "\n",
      " 60%|█████▉    | 151/253 [26:15<11:48,  6.94s/it]\u001b[A"
     ]
    },
    {
     "name": "stdout",
     "output_type": "stream",
     "text": [
      "Skipping another useless render (1900)\n",
      "Skipping another useless render (1901)\n",
      "Skipping another useless render (1902)\n",
      "Skipping another useless render (1903)\n",
      "Skipping another useless render (1904)\n",
      "Skipping another useless render (1905)\n",
      "Skipping another useless render (1906)\n",
      "Skipping another useless render (1907)\n",
      "Skipping another useless render (1908)\n",
      "Skipping another useless render (1909)\n",
      "Skipping another useless render (1910)\n",
      "Skipping another useless render (1911)\n",
      "Skipping another useless render (1912)\n",
      "Skipping another useless render (1913)\n",
      "Skipping another useless render (1914)\n",
      "Skipping another useless render (1915)\n",
      "Skipping another useless render (1916)\n",
      "Skipping another useless render (1917)\n",
      "Skipping another useless render (1918)\n",
      "Skipping another useless render (1919)\n",
      "Skipping another useless render (1920)\n",
      "Skipping another useless render (1921)\n",
      "Skipping another useless render (1922)\n",
      "Skipping another useless render (1923)\n",
      "Skipping another useless render (1924)\n",
      "Skipping another useless render (1925)\n",
      "Skipping another useless render (1926)\n",
      "Skipping another useless render (1927)\n",
      "Skipping another useless render (1928)\n",
      "Skipping another useless render (1929)\n",
      "Skipping another useless render (1930)\n",
      "Skipping another useless render (1931)\n",
      "Skipping another useless render (1932)\n",
      "Skipping another useless render (1933)\n",
      "Skipping another useless render (1934)\n",
      "Skipping another useless render (1935)\n",
      "Skipping another useless render (1936)\n",
      "Skipping another useless render (1937)\n",
      "Skipping another useless render (1938)\n",
      "Skipping another useless render (1939)\n",
      "Skipping another useless render (1940)\n",
      "Skipping another useless render (1941)\n",
      "Skipping another useless render (1942)\n",
      "Skipping another useless render (1943)\n",
      "Skipping another useless render (1944)\n",
      "Skipping another useless render (1945)\n"
     ]
    },
    {
     "name": "stderr",
     "output_type": "stream",
     "text": [
      "\n",
      " 60%|██████    | 152/253 [26:50<26:19, 15.64s/it]\u001b[A\n",
      " 60%|██████    | 153/253 [26:51<18:39, 11.19s/it]\u001b[A"
     ]
    },
    {
     "name": "stdout",
     "output_type": "stream",
     "text": [
      "Skipping another useless render (1946)\n",
      "Skipping another useless render (1947)\n",
      "Skipping another useless render (1948)\n",
      "Skipping another useless render (1949)\n",
      "Skipping another useless render (1950)\n",
      "Skipping another useless render (1951)\n"
     ]
    },
    {
     "name": "stderr",
     "output_type": "stream",
     "text": [
      "\n",
      " 61%|██████    | 154/253 [26:57<15:36,  9.46s/it]\u001b[A"
     ]
    },
    {
     "name": "stdout",
     "output_type": "stream",
     "text": [
      "Skipping another useless render (1952)\n",
      "Skipping another useless render (1953)\n",
      "Skipping another useless render (1954)\n",
      "Skipping another useless render (1955)\n",
      "Skipping another useless render (1956)\n",
      "Skipping another useless render (1957)\n",
      "Skipping another useless render (1958)\n",
      "Skipping another useless render (1959)\n",
      "Skipping another useless render (1960)\n",
      "Skipping another useless render (1961)\n",
      "Skipping another useless render (1962)\n",
      "Skipping another useless render (1963)\n",
      "Skipping another useless render (1964)\n",
      "Skipping another useless render (1965)\n",
      "Skipping another useless render (1966)\n",
      "Skipping another useless render (1967)\n",
      "Skipping another useless render (1968)\n",
      "Skipping another useless render (1969)\n"
     ]
    },
    {
     "name": "stderr",
     "output_type": "stream",
     "text": [
      "\n",
      " 61%|██████▏   | 155/253 [27:12<18:05, 11.08s/it]\u001b[A"
     ]
    },
    {
     "name": "stdout",
     "output_type": "stream",
     "text": [
      "Skipping another useless render (1970)\n",
      "Skipping another useless render (1971)\n",
      "Skipping another useless render (1972)\n",
      "Skipping another useless render (1973)\n",
      "Skipping another useless render (1974)\n",
      "Skipping another useless render (1975)\n",
      "Skipping another useless render (1976)\n",
      "Skipping another useless render (1977)\n",
      "Skipping another useless render (1978)\n",
      "Skipping another useless render (1979)\n",
      "Skipping another useless render (1980)\n",
      "Skipping another useless render (1981)\n",
      "Skipping another useless render (1982)\n",
      "Skipping another useless render (1983)\n",
      "Skipping another useless render (1984)\n",
      "Skipping another useless render (1985)\n",
      "Skipping another useless render (1986)\n",
      "Skipping another useless render (1987)\n",
      "Skipping another useless render (1988)\n",
      "Skipping another useless render (1989)\n",
      "Skipping another useless render (1990)\n",
      "Skipping another useless render (1991)\n",
      "Skipping another useless render (1992)\n",
      "Skipping another useless render (1993)\n",
      "Skipping another useless render (1994)\n",
      "Skipping another useless render (1995)\n",
      "Skipping another useless render (1996)\n",
      "Skipping another useless render (1997)\n",
      "Skipping another useless render (1998)\n",
      "Skipping another useless render (1999)\n",
      "Skipping another useless render (2000)\n",
      "Skipping another useless render (2001)\n",
      "Skipping another useless render (2002)\n",
      "Skipping another useless render (2003)\n",
      "Skipping another useless render (2004)\n"
     ]
    },
    {
     "name": "stderr",
     "output_type": "stream",
     "text": [
      "\n",
      " 62%|██████▏   | 156/253 [27:40<26:29, 16.39s/it]\u001b[A"
     ]
    },
    {
     "name": "stdout",
     "output_type": "stream",
     "text": [
      "Skipping another useless render (2005)\n",
      "Skipping another useless render (2006)\n",
      "Skipping another useless render (2007)\n",
      "Skipping another useless render (2008)\n",
      "Skipping another useless render (2009)\n",
      "Skipping another useless render (2010)\n",
      "Skipping another useless render (2011)\n",
      "Skipping another useless render (2012)\n",
      "Skipping another useless render (2013)\n",
      "Skipping another useless render (2014)\n",
      "Skipping another useless render (2015)\n",
      "Skipping another useless render (2016)\n",
      "Skipping another useless render (2017)\n",
      "Skipping another useless render (2018)\n",
      "Skipping another useless render (2019)\n",
      "Skipping another useless render (2020)\n",
      "Skipping another useless render (2021)\n",
      "Skipping another useless render (2022)\n",
      "Skipping another useless render (2023)\n",
      "Skipping another useless render (2024)\n",
      "Skipping another useless render (2025)\n",
      "Skipping another useless render (2026)\n",
      "Skipping another useless render (2027)\n",
      "Skipping another useless render (2028)\n",
      "Skipping another useless render (2029)\n",
      "Skipping another useless render (2030)\n",
      "Skipping another useless render (2031)\n",
      "Skipping another useless render (2032)\n",
      "Skipping another useless render (2033)\n"
     ]
    },
    {
     "name": "stderr",
     "output_type": "stream",
     "text": [
      "\n",
      " 62%|██████▏   | 157/253 [28:03<29:09, 18.22s/it]\u001b[A"
     ]
    },
    {
     "name": "stdout",
     "output_type": "stream",
     "text": [
      "Skipping another useless render (2034)\n",
      "Skipping another useless render (2035)\n",
      "Skipping another useless render (2036)\n",
      "Skipping another useless render (2037)\n",
      "Skipping another useless render (2038)\n",
      "Skipping another useless render (2039)\n",
      "Skipping another useless render (2040)\n",
      "Skipping another useless render (2041)\n",
      "Skipping another useless render (2042)\n",
      "Skipping another useless render (2043)\n",
      "Skipping another useless render (2044)\n",
      "Skipping another useless render (2045)\n",
      "Skipping another useless render (2046)\n",
      "Skipping another useless render (2047)\n"
     ]
    },
    {
     "name": "stderr",
     "output_type": "stream",
     "text": [
      "\n",
      " 62%|██████▏   | 158/253 [28:14<25:23, 16.04s/it]\u001b[A"
     ]
    },
    {
     "name": "stdout",
     "output_type": "stream",
     "text": [
      "Skipping another useless render (2048)\n",
      "Skipping another useless render (2049)\n"
     ]
    },
    {
     "name": "stderr",
     "output_type": "stream",
     "text": [
      "\n",
      " 63%|██████▎   | 159/253 [28:16<18:40, 11.92s/it]\u001b[A\n",
      " 63%|██████▎   | 160/253 [28:17<13:16,  8.57s/it]\u001b[A"
     ]
    },
    {
     "name": "stdout",
     "output_type": "stream",
     "text": [
      "Skipping another useless render (2050)\n",
      "Skipping another useless render (2051)\n",
      "Skipping another useless render (2052)\n",
      "Skipping another useless render (2053)\n",
      "Skipping another useless render (2054)\n",
      "Skipping another useless render (2055)\n",
      "Skipping another useless render (2056)\n",
      "Skipping another useless render (2057)\n"
     ]
    },
    {
     "name": "stderr",
     "output_type": "stream",
     "text": [
      "\n",
      " 64%|██████▎   | 161/253 [28:24<12:19,  8.04s/it]\u001b[A"
     ]
    },
    {
     "name": "stdout",
     "output_type": "stream",
     "text": [
      "Skipping another useless render (2058)\n",
      "Skipping another useless render (2059)\n",
      "Skipping another useless render (2060)\n",
      "Skipping another useless render (2061)\n",
      "Skipping another useless render (2062)\n",
      "Skipping another useless render (2063)\n"
     ]
    },
    {
     "name": "stderr",
     "output_type": "stream",
     "text": [
      "\n",
      " 64%|██████▍   | 162/253 [28:29<11:04,  7.30s/it]\u001b[A"
     ]
    },
    {
     "name": "stdout",
     "output_type": "stream",
     "text": [
      "Skipping another useless render (2064)\n",
      "Skipping another useless render (2065)\n"
     ]
    },
    {
     "name": "stderr",
     "output_type": "stream",
     "text": [
      "\n",
      " 64%|██████▍   | 163/253 [28:31<08:31,  5.69s/it]\u001b[A"
     ]
    },
    {
     "name": "stdout",
     "output_type": "stream",
     "text": [
      "Skipping another useless render (2066)\n",
      "Skipping another useless render (2067)\n",
      "Skipping another useless render (2068)\n",
      "Skipping another useless render (2069)\n",
      "Skipping another useless render (2070)\n",
      "Skipping another useless render (2071)\n",
      "Skipping another useless render (2072)\n",
      "Skipping another useless render (2073)\n",
      "Skipping another useless render (2074)\n",
      "Skipping another useless render (2075)\n",
      "Skipping another useless render (2076)\n",
      "Skipping another useless render (2077)\n",
      "Skipping another useless render (2078)\n",
      "Skipping another useless render (2079)\n",
      "Skipping another useless render (2080)\n",
      "Skipping another useless render (2081)\n",
      "Skipping another useless render (2082)\n",
      "Skipping another useless render (2083)\n",
      "Skipping another useless render (2084)\n",
      "Skipping another useless render (2085)\n",
      "Skipping another useless render (2086)\n",
      "Skipping another useless render (2087)\n",
      "Skipping another useless render (2088)\n",
      "Skipping another useless render (2089)\n",
      "Skipping another useless render (2090)\n",
      "Skipping another useless render (2091)\n",
      "Skipping another useless render (2092)\n",
      "Skipping another useless render (2093)\n",
      "Skipping another useless render (2094)\n"
     ]
    },
    {
     "name": "stderr",
     "output_type": "stream",
     "text": [
      "\n",
      " 65%|██████▍   | 164/253 [28:54<15:51, 10.69s/it]\u001b[A\n",
      " 65%|██████▌   | 165/253 [28:54<11:20,  7.74s/it]\u001b[A"
     ]
    },
    {
     "name": "stdout",
     "output_type": "stream",
     "text": [
      "Skipping another useless render (2095)\n",
      "Skipping another useless render (2096)\n",
      "Skipping another useless render (2097)\n",
      "Skipping another useless render (2098)\n"
     ]
    },
    {
     "name": "stderr",
     "output_type": "stream",
     "text": [
      "\n",
      " 66%|██████▌   | 166/253 [28:58<09:26,  6.52s/it]\u001b[A"
     ]
    },
    {
     "name": "stdout",
     "output_type": "stream",
     "text": [
      "Skipping another useless render (2099)\n",
      "Skipping another useless render (2100)\n",
      "Skipping another useless render (2101)\n",
      "Skipping another useless render (2102)\n",
      "Skipping another useless render (2103)\n",
      "Skipping another useless render (2104)\n",
      "Skipping another useless render (2105)\n",
      "Skipping another useless render (2106)\n",
      "Skipping another useless render (2107)\n",
      "Skipping another useless render (2108)\n",
      "Skipping another useless render (2109)\n",
      "Skipping another useless render (2110)\n",
      "Skipping another useless render (2111)\n",
      "Skipping another useless render (2112)\n",
      "Skipping another useless render (2113)\n",
      "Skipping another useless render (2114)\n",
      "Skipping another useless render (2115)\n",
      "Skipping another useless render (2116)\n",
      "Skipping another useless render (2117)\n"
     ]
    },
    {
     "name": "stderr",
     "output_type": "stream",
     "text": [
      "\n",
      " 66%|██████▌   | 167/253 [29:14<13:24,  9.35s/it]\u001b[A"
     ]
    },
    {
     "name": "stdout",
     "output_type": "stream",
     "text": [
      "Skipping another useless render (2118)\n",
      "Skipping another useless render (2119)\n",
      "Skipping another useless render (2120)\n",
      "Skipping another useless render (2121)\n",
      "Skipping another useless render (2122)\n",
      "Skipping another useless render (2123)\n",
      "Skipping another useless render (2124)\n",
      "Skipping another useless render (2125)\n",
      "Skipping another useless render (2126)\n",
      "Skipping another useless render (2127)\n",
      "Skipping another useless render (2128)\n",
      "Skipping another useless render (2129)\n",
      "Skipping another useless render (2130)\n",
      "Skipping another useless render (2131)\n",
      "Skipping another useless render (2132)\n",
      "Skipping another useless render (2133)\n",
      "Skipping another useless render (2134)\n"
     ]
    },
    {
     "name": "stderr",
     "output_type": "stream",
     "text": [
      "\n",
      " 66%|██████▋   | 168/253 [29:28<15:05, 10.65s/it]\u001b[A"
     ]
    },
    {
     "name": "stdout",
     "output_type": "stream",
     "text": [
      "Skipping another useless render (2135)\n"
     ]
    },
    {
     "name": "stderr",
     "output_type": "stream",
     "text": [
      "\n",
      " 67%|██████▋   | 169/253 [29:29<11:11,  8.00s/it]\u001b[A"
     ]
    },
    {
     "name": "stdout",
     "output_type": "stream",
     "text": [
      "Skipping another useless render (2136)\n",
      "Skipping another useless render (2137)\n",
      "Skipping another useless render (2138)\n",
      "Skipping another useless render (2139)\n",
      "Skipping another useless render (2140)\n",
      "Skipping another useless render (2141)\n",
      "Skipping another useless render (2142)\n",
      "Skipping another useless render (2143)\n",
      "Skipping another useless render (2144)\n",
      "Skipping another useless render (2145)\n",
      "Skipping another useless render (2146)\n",
      "Skipping another useless render (2147)\n",
      "Skipping another useless render (2148)\n",
      "Skipping another useless render (2149)\n",
      "Skipping another useless render (2150)\n",
      "Skipping another useless render (2151)\n",
      "Skipping another useless render (2152)\n",
      "Skipping another useless render (2153)\n",
      "Skipping another useless render (2154)\n",
      "Skipping another useless render (2155)\n",
      "Skipping another useless render (2156)\n",
      "Skipping another useless render (2157)\n",
      "Skipping another useless render (2158)\n",
      "Skipping another useless render (2159)\n",
      "Skipping another useless render (2160)\n"
     ]
    },
    {
     "name": "stderr",
     "output_type": "stream",
     "text": [
      "\n",
      " 67%|██████▋   | 170/253 [29:49<15:54, 11.50s/it]\u001b[A"
     ]
    },
    {
     "name": "stdout",
     "output_type": "stream",
     "text": [
      "Skipping another useless render (2161)\n",
      "Skipping another useless render (2162)\n",
      "Skipping another useless render (2163)\n",
      "Skipping another useless render (2164)\n",
      "Skipping another useless render (2165)\n",
      "Skipping another useless render (2166)\n",
      "Skipping another useless render (2167)\n",
      "Skipping another useless render (2168)\n",
      "Skipping another useless render (2169)\n",
      "Skipping another useless render (2170)\n"
     ]
    },
    {
     "name": "stderr",
     "output_type": "stream",
     "text": [
      "\n",
      " 68%|██████▊   | 171/253 [29:58<14:33, 10.65s/it]\u001b[A"
     ]
    },
    {
     "name": "stdout",
     "output_type": "stream",
     "text": [
      "Skipping another useless render (2171)\n",
      "Skipping another useless render (2172)\n",
      "Skipping another useless render (2173)\n",
      "Skipping another useless render (2174)\n",
      "Skipping another useless render (2175)\n",
      "Skipping another useless render (2176)\n",
      "Skipping another useless render (2177)\n",
      "Skipping another useless render (2178)\n",
      "Skipping another useless render (2179)\n",
      "Skipping another useless render (2180)\n",
      "Skipping another useless render (2181)\n",
      "Skipping another useless render (2182)\n",
      "Skipping another useless render (2183)\n",
      "Skipping another useless render (2184)\n",
      "Skipping another useless render (2185)\n",
      "Skipping another useless render (2186)\n",
      "Skipping another useless render (2187)\n",
      "Skipping another useless render (2188)\n",
      "Skipping another useless render (2189)\n",
      "Skipping another useless render (2190)\n",
      "Skipping another useless render (2191)\n",
      "Skipping another useless render (2192)\n",
      "Skipping another useless render (2193)\n",
      "Skipping another useless render (2194)\n",
      "Skipping another useless render (2195)\n",
      "Skipping another useless render (2196)\n",
      "Skipping another useless render (2197)\n",
      "Skipping another useless render (2198)\n",
      "Skipping another useless render (2199)\n",
      "Skipping another useless render (2200)\n",
      "Skipping another useless render (2201)\n",
      "Skipping another useless render (2202)\n",
      "Skipping another useless render (2203)\n",
      "Skipping another useless render (2204)\n",
      "Skipping another useless render (2205)\n",
      "Skipping another useless render (2206)\n",
      "Skipping another useless render (2207)\n",
      "Skipping another useless render (2208)\n",
      "Skipping another useless render (2209)\n",
      "Skipping another useless render (2210)\n",
      "Skipping another useless render (2211)\n",
      "Skipping another useless render (2212)\n",
      "Skipping another useless render (2213)\n",
      "Skipping another useless render (2214)\n",
      "Skipping another useless render (2215)\n"
     ]
    },
    {
     "name": "stderr",
     "output_type": "stream",
     "text": [
      "\n",
      " 68%|██████▊   | 172/253 [30:32<24:02, 17.81s/it]\u001b[A"
     ]
    },
    {
     "name": "stdout",
     "output_type": "stream",
     "text": [
      "Skipping another useless render (2216)\n",
      "Skipping another useless render (2217)\n",
      "Skipping another useless render (2218)\n",
      "Skipping another useless render (2219)\n",
      "Skipping another useless render (2220)\n",
      "Skipping another useless render (2221)\n",
      "Skipping another useless render (2222)\n",
      "Skipping another useless render (2223)\n",
      "Skipping another useless render (2224)\n",
      "Skipping another useless render (2225)\n",
      "Skipping another useless render (2226)\n",
      "Skipping another useless render (2227)\n",
      "Skipping another useless render (2228)\n",
      "Skipping another useless render (2229)\n",
      "Skipping another useless render (2230)\n",
      "Skipping another useless render (2231)\n",
      "Skipping another useless render (2232)\n",
      "Skipping another useless render (2233)\n",
      "Skipping another useless render (2234)\n",
      "Skipping another useless render (2235)\n",
      "Skipping another useless render (2236)\n",
      "Skipping another useless render (2237)\n",
      "Skipping another useless render (2238)\n",
      "Skipping another useless render (2239)\n",
      "Skipping another useless render (2240)\n",
      "Skipping another useless render (2241)\n"
     ]
    },
    {
     "name": "stderr",
     "output_type": "stream",
     "text": [
      "\n",
      " 68%|██████▊   | 173/253 [30:53<24:47, 18.59s/it]\u001b[A"
     ]
    },
    {
     "name": "stdout",
     "output_type": "stream",
     "text": [
      "Skipping another useless render (2242)\n",
      "Skipping another useless render (2243)\n",
      "Skipping another useless render (2244)\n",
      "Skipping another useless render (2245)\n",
      "Skipping another useless render (2246)\n",
      "Skipping another useless render (2247)\n",
      "Skipping another useless render (2248)\n",
      "Skipping another useless render (2249)\n",
      "Skipping another useless render (2250)\n"
     ]
    },
    {
     "name": "stderr",
     "output_type": "stream",
     "text": [
      "\n",
      " 69%|██████▉   | 174/253 [31:01<20:18, 15.42s/it]\u001b[A"
     ]
    },
    {
     "name": "stdout",
     "output_type": "stream",
     "text": [
      "Skipping another useless render (2251)\n",
      "Skipping another useless render (2252)\n",
      "Skipping another useless render (2253)\n",
      "Skipping another useless render (2254)\n",
      "Skipping another useless render (2255)\n",
      "Skipping another useless render (2256)\n",
      "Skipping another useless render (2257)\n"
     ]
    },
    {
     "name": "stderr",
     "output_type": "stream",
     "text": [
      "\n",
      " 69%|██████▉   | 175/253 [31:07<16:35, 12.76s/it]\u001b[A"
     ]
    },
    {
     "name": "stdout",
     "output_type": "stream",
     "text": [
      "Skipping another useless render (2258)\n"
     ]
    },
    {
     "name": "stderr",
     "output_type": "stream",
     "text": [
      "\n",
      " 70%|██████▉   | 176/253 [31:09<12:04,  9.42s/it]\u001b[A"
     ]
    },
    {
     "name": "stdout",
     "output_type": "stream",
     "text": [
      "Skipping another useless render (2259)\n",
      "Skipping another useless render (2260)\n",
      "Skipping another useless render (2261)\n",
      "Skipping another useless render (2262)\n",
      "Skipping another useless render (2263)\n",
      "Skipping another useless render (2264)\n",
      "Skipping another useless render (2265)\n",
      "Skipping another useless render (2266)\n",
      "Skipping another useless render (2267)\n",
      "Skipping another useless render (2268)\n",
      "Skipping another useless render (2269)\n",
      "Skipping another useless render (2270)\n",
      "Skipping another useless render (2271)\n",
      "Skipping another useless render (2272)\n",
      "Skipping another useless render (2273)\n"
     ]
    },
    {
     "name": "stderr",
     "output_type": "stream",
     "text": [
      "\n",
      " 70%|██████▉   | 177/253 [31:21<12:53, 10.17s/it]\u001b[A"
     ]
    },
    {
     "name": "stdout",
     "output_type": "stream",
     "text": [
      "Skipping another useless render (2274)\n",
      "Skipping another useless render (2275)\n",
      "Skipping another useless render (2276)\n",
      "Skipping another useless render (2277)\n",
      "Skipping another useless render (2278)\n",
      "Skipping another useless render (2279)\n",
      "Skipping another useless render (2280)\n",
      "Skipping another useless render (2281)\n",
      "Skipping another useless render (2282)\n",
      "Skipping another useless render (2283)\n",
      "Skipping another useless render (2284)\n",
      "Skipping another useless render (2285)\n",
      "Skipping another useless render (2286)\n",
      "Skipping another useless render (2287)\n",
      "Skipping another useless render (2288)\n",
      "Skipping another useless render (2289)\n",
      "Skipping another useless render (2290)\n",
      "Skipping another useless render (2291)\n",
      "Skipping another useless render (2292)\n",
      "Skipping another useless render (2293)\n",
      "Skipping another useless render (2294)\n",
      "Skipping another useless render (2295)\n",
      "Skipping another useless render (2296)\n",
      "Skipping another useless render (2297)\n",
      "Skipping another useless render (2298)\n",
      "Skipping another useless render (2299)\n",
      "Skipping another useless render (2300)\n",
      "Skipping another useless render (2301)\n",
      "Skipping another useless render (2302)\n",
      "Skipping another useless render (2303)\n",
      "Skipping another useless render (2304)\n",
      "Skipping another useless render (2305)\n",
      "Skipping another useless render (2306)\n",
      "Skipping another useless render (2307)\n",
      "Skipping another useless render (2308)\n"
     ]
    },
    {
     "name": "stderr",
     "output_type": "stream",
     "text": [
      "\n",
      " 70%|███████   | 178/253 [31:48<19:11, 15.35s/it]\u001b[A"
     ]
    },
    {
     "name": "stdout",
     "output_type": "stream",
     "text": [
      "Skipping another useless render (2309)\n",
      "Skipping another useless render (2310)\n",
      "Skipping another useless render (2311)\n",
      "Skipping another useless render (2312)\n",
      "Skipping another useless render (2313)\n",
      "Skipping another useless render (2314)\n",
      "Skipping another useless render (2315)\n",
      "Skipping another useless render (2316)\n",
      "Skipping another useless render (2317)\n",
      "Skipping another useless render (2318)\n",
      "Skipping another useless render (2319)\n",
      "Skipping another useless render (2320)\n",
      "Skipping another useless render (2321)\n",
      "Skipping another useless render (2322)\n",
      "Skipping another useless render (2323)\n",
      "Skipping another useless render (2324)\n",
      "Skipping another useless render (2325)\n",
      "Skipping another useless render (2326)\n",
      "Skipping another useless render (2327)\n",
      "Skipping another useless render (2328)\n",
      "Skipping another useless render (2329)\n",
      "Skipping another useless render (2330)\n",
      "Skipping another useless render (2331)\n",
      "Skipping another useless render (2332)\n",
      "Skipping another useless render (2333)\n",
      "Skipping another useless render (2334)\n",
      "Skipping another useless render (2335)\n",
      "Skipping another useless render (2336)\n",
      "Skipping another useless render (2337)\n",
      "Skipping another useless render (2338)\n",
      "Skipping another useless render (2339)\n",
      "Skipping another useless render (2340)\n",
      "Skipping another useless render (2341)\n",
      "Skipping another useless render (2342)\n",
      "Skipping another useless render (2343)\n",
      "Skipping another useless render (2344)\n",
      "Skipping another useless render (2345)\n",
      "Skipping another useless render (2346)\n",
      "Skipping another useless render (2347)\n",
      "Skipping another useless render (2348)\n",
      "Skipping another useless render (2349)\n",
      "Skipping another useless render (2350)\n",
      "Skipping another useless render (2351)\n",
      "Skipping another useless render (2352)\n",
      "Skipping another useless render (2353)\n",
      "Skipping another useless render (2354)\n"
     ]
    },
    {
     "name": "stderr",
     "output_type": "stream",
     "text": [
      "\n",
      " 71%|███████   | 179/253 [32:24<26:21, 21.38s/it]\u001b[A"
     ]
    },
    {
     "name": "stdout",
     "output_type": "stream",
     "text": [
      "Skipping another useless render (2355)\n",
      "Skipping another useless render (2356)\n",
      "Skipping another useless render (2357)\n",
      "Skipping another useless render (2358)\n",
      "Skipping another useless render (2359)\n",
      "Skipping another useless render (2360)\n",
      "Skipping another useless render (2361)\n"
     ]
    },
    {
     "name": "stderr",
     "output_type": "stream",
     "text": [
      "\n",
      " 71%|███████   | 180/253 [32:30<20:21, 16.73s/it]\u001b[A"
     ]
    },
    {
     "name": "stdout",
     "output_type": "stream",
     "text": [
      "Skipping another useless render (2362)\n",
      "Skipping another useless render (2363)\n",
      "Skipping another useless render (2364)\n",
      "Skipping another useless render (2365)\n",
      "Skipping another useless render (2366)\n",
      "Skipping another useless render (2367)\n",
      "Skipping another useless render (2368)\n",
      "Skipping another useless render (2369)\n",
      "Skipping another useless render (2370)\n",
      "Skipping another useless render (2371)\n",
      "Skipping another useless render (2372)\n",
      "Skipping another useless render (2373)\n",
      "Skipping another useless render (2374)\n",
      "Skipping another useless render (2375)\n",
      "Skipping another useless render (2376)\n",
      "Skipping another useless render (2377)\n",
      "Skipping another useless render (2378)\n",
      "Skipping another useless render (2379)\n",
      "Skipping another useless render (2380)\n",
      "Skipping another useless render (2381)\n",
      "Skipping another useless render (2382)\n",
      "Skipping another useless render (2383)\n",
      "Skipping another useless render (2384)\n",
      "Skipping another useless render (2385)\n",
      "Skipping another useless render (2386)\n",
      "Skipping another useless render (2387)\n",
      "Skipping another useless render (2388)\n",
      "Skipping another useless render (2389)\n",
      "Skipping another useless render (2390)\n",
      "Skipping another useless render (2391)\n",
      "Skipping another useless render (2392)\n",
      "Skipping another useless render (2393)\n",
      "Skipping another useless render (2394)\n",
      "Skipping another useless render (2395)\n",
      "Skipping another useless render (2396)\n",
      "Skipping another useless render (2397)\n",
      "Skipping another useless render (2398)\n",
      "Skipping another useless render (2399)\n",
      "Skipping another useless render (2400)\n",
      "Skipping another useless render (2401)\n",
      "Skipping another useless render (2402)\n",
      "Skipping another useless render (2403)\n",
      "Skipping another useless render (2404)\n",
      "Skipping another useless render (2405)\n",
      "Skipping another useless render (2406)\n",
      "Skipping another useless render (2407)\n",
      "Skipping another useless render (2408)\n",
      "Skipping another useless render (2409)\n",
      "Skipping another useless render (2410)\n",
      "Skipping another useless render (2411)\n",
      "Skipping another useless render (2412)\n"
     ]
    },
    {
     "name": "stderr",
     "output_type": "stream",
     "text": [
      "\n",
      " 72%|███████▏  | 181/253 [33:09<28:07, 23.44s/it]\u001b[A"
     ]
    },
    {
     "name": "stdout",
     "output_type": "stream",
     "text": [
      "Skipping another useless render (2413)\n"
     ]
    },
    {
     "name": "stderr",
     "output_type": "stream",
     "text": [
      "\n",
      " 72%|███████▏  | 182/253 [33:11<20:02, 16.94s/it]\u001b[A"
     ]
    },
    {
     "name": "stdout",
     "output_type": "stream",
     "text": [
      "Skipping another useless render (2414)\n",
      "Skipping another useless render (2415)\n",
      "Skipping another useless render (2416)\n",
      "Skipping another useless render (2417)\n"
     ]
    },
    {
     "name": "stderr",
     "output_type": "stream",
     "text": [
      "\n",
      " 72%|███████▏  | 183/253 [33:14<15:08, 12.98s/it]\u001b[A"
     ]
    },
    {
     "name": "stdout",
     "output_type": "stream",
     "text": [
      "Skipping another useless render (2418)\n",
      "Skipping another useless render (2419)\n",
      "Skipping another useless render (2420)\n",
      "Skipping another useless render (2421)\n",
      "Skipping another useless render (2422)\n",
      "Skipping another useless render (2423)\n",
      "Skipping another useless render (2424)\n",
      "Skipping another useless render (2425)\n",
      "Skipping another useless render (2426)\n",
      "Skipping another useless render (2427)\n",
      "Skipping another useless render (2428)\n",
      "Skipping another useless render (2429)\n",
      "Skipping another useless render (2430)\n",
      "Skipping another useless render (2431)\n"
     ]
    },
    {
     "name": "stderr",
     "output_type": "stream",
     "text": [
      "\n",
      " 73%|███████▎  | 184/253 [33:25<14:08, 12.29s/it]\u001b[A"
     ]
    },
    {
     "name": "stdout",
     "output_type": "stream",
     "text": [
      "Skipping another useless render (2432)\n",
      "Skipping another useless render (2433)\n",
      "Skipping another useless render (2434)\n",
      "Skipping another useless render (2435)\n",
      "Skipping another useless render (2436)\n",
      "Skipping another useless render (2437)\n",
      "Skipping another useless render (2438)\n",
      "Skipping another useless render (2439)\n",
      "Skipping another useless render (2440)\n",
      "Skipping another useless render (2441)\n",
      "Skipping another useless render (2442)\n",
      "Skipping another useless render (2443)\n",
      "Skipping another useless render (2444)\n",
      "Skipping another useless render (2445)\n",
      "Skipping another useless render (2446)\n",
      "Skipping another useless render (2447)\n"
     ]
    },
    {
     "name": "stderr",
     "output_type": "stream",
     "text": [
      "\n",
      " 73%|███████▎  | 185/253 [33:38<14:12, 12.53s/it]\u001b[A\n",
      " 74%|███████▎  | 186/253 [33:39<10:02,  9.00s/it]\u001b[A"
     ]
    },
    {
     "name": "stdout",
     "output_type": "stream",
     "text": [
      "Skipping another useless render (2448)\n",
      "Skipping another useless render (2449)\n",
      "Skipping another useless render (2450)\n",
      "Skipping another useless render (2451)\n",
      "Skipping another useless render (2452)\n",
      "Skipping another useless render (2453)\n",
      "Skipping another useless render (2454)\n",
      "Skipping another useless render (2455)\n",
      "Skipping another useless render (2456)\n",
      "Skipping another useless render (2457)\n",
      "Skipping another useless render (2458)\n",
      "Skipping another useless render (2459)\n",
      "Skipping another useless render (2460)\n",
      "Skipping another useless render (2461)\n"
     ]
    },
    {
     "name": "stderr",
     "output_type": "stream",
     "text": [
      "\n",
      " 74%|███████▍  | 187/253 [33:51<10:52,  9.89s/it]\u001b[A"
     ]
    },
    {
     "name": "stdout",
     "output_type": "stream",
     "text": [
      "Skipping another useless render (2462)\n",
      "Skipping another useless render (2463)\n",
      "Skipping another useless render (2464)\n",
      "Skipping another useless render (2465)\n",
      "Skipping another useless render (2466)\n",
      "Skipping another useless render (2467)\n",
      "Skipping another useless render (2468)\n",
      "Skipping another useless render (2469)\n",
      "Skipping another useless render (2470)\n",
      "Skipping another useless render (2471)\n",
      "Skipping another useless render (2472)\n",
      "Skipping another useless render (2473)\n",
      "Skipping another useless render (2474)\n",
      "Skipping another useless render (2475)\n",
      "Skipping another useless render (2476)\n",
      "Skipping another useless render (2477)\n",
      "Skipping another useless render (2478)\n",
      "Skipping another useless render (2479)\n",
      "Skipping another useless render (2480)\n",
      "Skipping another useless render (2481)\n",
      "Skipping another useless render (2482)\n",
      "Skipping another useless render (2483)\n",
      "Skipping another useless render (2484)\n",
      "Skipping another useless render (2485)\n",
      "Skipping another useless render (2486)\n",
      "Skipping another useless render (2487)\n",
      "Skipping another useless render (2488)\n",
      "Skipping another useless render (2489)\n",
      "Skipping another useless render (2490)\n",
      "Skipping another useless render (2491)\n",
      "Skipping another useless render (2492)\n",
      "Skipping another useless render (2493)\n",
      "Skipping another useless render (2494)\n",
      "Skipping another useless render (2495)\n",
      "Skipping another useless render (2496)\n",
      "Skipping another useless render (2497)\n"
     ]
    },
    {
     "name": "stderr",
     "output_type": "stream",
     "text": [
      "\n",
      " 74%|███████▍  | 188/253 [34:19<16:35, 15.32s/it]\u001b[A"
     ]
    },
    {
     "name": "stdout",
     "output_type": "stream",
     "text": [
      "Skipping another useless render (2498)\n",
      "Skipping another useless render (2499)\n",
      "Skipping another useless render (2500)\n",
      "Skipping another useless render (2501)\n",
      "Skipping another useless render (2502)\n",
      "Skipping another useless render (2503)\n",
      "Skipping another useless render (2504)\n",
      "Skipping another useless render (2505)\n"
     ]
    },
    {
     "name": "stderr",
     "output_type": "stream",
     "text": [
      "\n",
      " 75%|███████▍  | 189/253 [34:25<13:30, 12.66s/it]\u001b[A"
     ]
    },
    {
     "name": "stdout",
     "output_type": "stream",
     "text": [
      "Skipping another useless render (2506)\n",
      "Skipping another useless render (2507)\n",
      "Skipping another useless render (2508)\n",
      "Skipping another useless render (2509)\n",
      "Skipping another useless render (2510)\n",
      "Skipping another useless render (2511)\n",
      "Skipping another useless render (2512)\n",
      "Skipping another useless render (2513)\n",
      "Skipping another useless render (2514)\n",
      "Skipping another useless render (2515)\n",
      "Skipping another useless render (2516)\n",
      "Skipping another useless render (2517)\n",
      "Skipping another useless render (2518)\n",
      "Skipping another useless render (2519)\n",
      "Skipping another useless render (2520)\n",
      "Skipping another useless render (2521)\n",
      "Skipping another useless render (2522)\n",
      "Skipping another useless render (2523)\n",
      "Skipping another useless render (2524)\n",
      "Skipping another useless render (2525)\n",
      "Skipping another useless render (2526)\n",
      "Skipping another useless render (2527)\n",
      "Skipping another useless render (2528)\n",
      "Skipping another useless render (2529)\n",
      "Skipping another useless render (2530)\n",
      "Skipping another useless render (2531)\n",
      "Skipping another useless render (2532)\n",
      "Skipping another useless render (2533)\n",
      "Skipping another useless render (2534)\n",
      "Skipping another useless render (2535)\n",
      "Skipping another useless render (2536)\n",
      "Skipping another useless render (2537)\n",
      "Skipping another useless render (2538)\n",
      "Skipping another useless render (2539)\n",
      "Skipping another useless render (2540)\n",
      "Skipping another useless render (2541)\n",
      "Skipping another useless render (2542)\n",
      "Skipping another useless render (2543)\n",
      "Skipping another useless render (2544)\n",
      "Skipping another useless render (2545)\n",
      "Skipping another useless render (2546)\n",
      "Skipping another useless render (2547)\n",
      "Skipping another useless render (2548)\n",
      "Skipping another useless render (2549)\n",
      "Skipping another useless render (2550)\n",
      "Skipping another useless render (2551)\n",
      "Skipping another useless render (2552)\n",
      "Skipping another useless render (2553)\n",
      "Skipping another useless render (2554)\n",
      "Skipping another useless render (2555)\n",
      "Skipping another useless render (2556)\n",
      "Skipping another useless render (2557)\n",
      "Skipping another useless render (2558)\n",
      "Skipping another useless render (2559)\n",
      "Skipping another useless render (2560)\n",
      "Skipping another useless render (2561)\n",
      "Skipping another useless render (2562)\n",
      "Skipping another useless render (2563)\n",
      "Skipping another useless render (2564)\n",
      "Skipping another useless render (2565)\n",
      "Skipping another useless render (2566)\n",
      "Skipping another useless render (2567)\n",
      "Skipping another useless render (2568)\n",
      "Skipping another useless render (2569)\n",
      "Skipping another useless render (2570)\n"
     ]
    },
    {
     "name": "stderr",
     "output_type": "stream",
     "text": [
      "\n",
      " 75%|███████▌  | 190/253 [35:16<25:22, 24.16s/it]\u001b[A"
     ]
    },
    {
     "name": "stdout",
     "output_type": "stream",
     "text": [
      "Skipping another useless render (2571)\n",
      "Skipping another useless render (2572)\n",
      "Skipping another useless render (2573)\n",
      "Skipping another useless render (2574)\n",
      "Skipping another useless render (2575)\n",
      "Skipping another useless render (2576)\n",
      "Skipping another useless render (2577)\n",
      "Skipping another useless render (2578)\n",
      "Skipping another useless render (2579)\n",
      "Skipping another useless render (2580)\n",
      "Skipping another useless render (2581)\n",
      "Skipping another useless render (2582)\n",
      "Skipping another useless render (2583)\n",
      "Skipping another useless render (2584)\n",
      "Skipping another useless render (2585)\n",
      "Skipping another useless render (2586)\n",
      "Skipping another useless render (2587)\n",
      "Skipping another useless render (2588)\n",
      "Skipping another useless render (2589)\n",
      "Skipping another useless render (2590)\n",
      "Skipping another useless render (2591)\n",
      "Skipping another useless render (2592)\n"
     ]
    },
    {
     "name": "stderr",
     "output_type": "stream",
     "text": [
      "\n",
      " 75%|███████▌  | 191/253 [35:34<22:58, 22.23s/it]\u001b[A"
     ]
    },
    {
     "name": "stdout",
     "output_type": "stream",
     "text": [
      "Skipping another useless render (2593)\n",
      "Skipping another useless render (2594)\n",
      "Skipping another useless render (2595)\n"
     ]
    },
    {
     "name": "stderr",
     "output_type": "stream",
     "text": [
      "\n",
      " 76%|███████▌  | 192/253 [35:37<16:47, 16.51s/it]\u001b[A"
     ]
    },
    {
     "name": "stdout",
     "output_type": "stream",
     "text": [
      "Skipping another useless render (2596)\n",
      "Skipping another useless render (2597)\n",
      "Skipping another useless render (2598)\n",
      "Skipping another useless render (2599)\n",
      "Skipping another useless render (2600)\n"
     ]
    },
    {
     "name": "stderr",
     "output_type": "stream",
     "text": [
      "\n",
      " 76%|███████▋  | 193/253 [35:42<12:59, 13.00s/it]\u001b[A"
     ]
    },
    {
     "name": "stdout",
     "output_type": "stream",
     "text": [
      "Skipping another useless render (2601)\n",
      "Skipping another useless render (2602)\n",
      "Skipping another useless render (2603)\n",
      "Skipping another useless render (2604)\n",
      "Skipping another useless render (2605)\n",
      "Skipping another useless render (2606)\n",
      "Skipping another useless render (2607)\n",
      "Skipping another useless render (2608)\n",
      "Skipping another useless render (2609)\n",
      "Skipping another useless render (2610)\n",
      "Skipping another useless render (2611)\n",
      "Skipping another useless render (2612)\n",
      "Skipping another useless render (2613)\n",
      "Skipping another useless render (2614)\n",
      "Skipping another useless render (2615)\n",
      "Skipping another useless render (2616)\n",
      "Skipping another useless render (2617)\n",
      "Skipping another useless render (2618)\n",
      "Skipping another useless render (2619)\n",
      "Skipping another useless render (2620)\n",
      "Skipping another useless render (2621)\n",
      "Skipping another useless render (2622)\n",
      "Skipping another useless render (2623)\n",
      "Skipping another useless render (2624)\n"
     ]
    },
    {
     "name": "stderr",
     "output_type": "stream",
     "text": [
      "\n",
      " 77%|███████▋  | 194/253 [36:01<14:32, 14.79s/it]\u001b[A"
     ]
    },
    {
     "name": "stdout",
     "output_type": "stream",
     "text": [
      "Skipping another useless render (2625)\n"
     ]
    },
    {
     "name": "stderr",
     "output_type": "stream",
     "text": [
      "\n",
      " 77%|███████▋  | 195/253 [36:03<10:30, 10.86s/it]\u001b[A"
     ]
    },
    {
     "name": "stdout",
     "output_type": "stream",
     "text": [
      "Skipping another useless render (2626)\n",
      "Skipping another useless render (2627)\n",
      "Skipping another useless render (2628)\n",
      "Skipping another useless render (2629)\n",
      "Skipping another useless render (2630)\n",
      "Skipping another useless render (2631)\n",
      "Skipping another useless render (2632)\n",
      "Skipping another useless render (2633)\n",
      "Skipping another useless render (2634)\n",
      "Skipping another useless render (2635)\n",
      "Skipping another useless render (2636)\n",
      "Skipping another useless render (2637)\n",
      "Skipping another useless render (2638)\n",
      "Skipping another useless render (2639)\n",
      "Skipping another useless render (2640)\n",
      "Skipping another useless render (2641)\n"
     ]
    },
    {
     "name": "stderr",
     "output_type": "stream",
     "text": [
      "\n",
      " 77%|███████▋  | 196/253 [36:16<10:56, 11.53s/it]\u001b[A\n",
      " 78%|███████▊  | 197/253 [36:17<07:47,  8.35s/it]\u001b[A"
     ]
    },
    {
     "name": "stdout",
     "output_type": "stream",
     "text": [
      "Skipping another useless render (2642)\n"
     ]
    },
    {
     "name": "stderr",
     "output_type": "stream",
     "text": [
      "\n",
      " 78%|███████▊  | 198/253 [36:18<05:44,  6.26s/it]\u001b[A"
     ]
    },
    {
     "name": "stdout",
     "output_type": "stream",
     "text": [
      "Skipping another useless render (2643)\n",
      "Skipping another useless render (2644)\n",
      "Skipping another useless render (2645)\n",
      "Skipping another useless render (2646)\n",
      "Skipping another useless render (2647)\n",
      "Skipping another useless render (2648)\n",
      "Skipping another useless render (2649)\n",
      "Skipping another useless render (2650)\n"
     ]
    },
    {
     "name": "stderr",
     "output_type": "stream",
     "text": [
      "\n",
      " 79%|███████▊  | 199/253 [36:25<05:50,  6.50s/it]\u001b[A"
     ]
    },
    {
     "name": "stdout",
     "output_type": "stream",
     "text": [
      "Skipping another useless render (2651)\n",
      "Skipping another useless render (2652)\n",
      "Skipping another useless render (2653)\n",
      "Skipping another useless render (2654)\n"
     ]
    },
    {
     "name": "stderr",
     "output_type": "stream",
     "text": [
      "\n",
      " 79%|███████▉  | 200/253 [36:29<05:07,  5.79s/it]\u001b[A"
     ]
    },
    {
     "name": "stdout",
     "output_type": "stream",
     "text": [
      "Skipping another useless render (2655)\n",
      "Skipping another useless render (2656)\n",
      "Skipping another useless render (2657)\n",
      "Skipping another useless render (2658)\n",
      "Skipping another useless render (2659)\n",
      "Skipping another useless render (2660)\n",
      "Skipping another useless render (2661)\n",
      "Skipping another useless render (2662)\n",
      "Skipping another useless render (2663)\n",
      "Skipping another useless render (2664)\n",
      "Skipping another useless render (2665)\n",
      "Skipping another useless render (2666)\n",
      "Skipping another useless render (2667)\n",
      "Skipping another useless render (2668)\n",
      "Skipping another useless render (2669)\n",
      "Skipping another useless render (2670)\n",
      "Skipping another useless render (2671)\n",
      "Skipping another useless render (2672)\n",
      "Skipping another useless render (2673)\n",
      "Skipping another useless render (2674)\n",
      "Skipping another useless render (2675)\n",
      "Skipping another useless render (2676)\n",
      "Skipping another useless render (2677)\n",
      "Skipping another useless render (2678)\n"
     ]
    },
    {
     "name": "stderr",
     "output_type": "stream",
     "text": [
      "\n",
      " 79%|███████▉  | 201/253 [36:48<08:26,  9.75s/it]\u001b[A"
     ]
    },
    {
     "name": "stdout",
     "output_type": "stream",
     "text": [
      "Skipping another useless render (2679)\n",
      "Skipping another useless render (2680)\n",
      "Skipping another useless render (2681)\n",
      "Skipping another useless render (2682)\n",
      "Skipping another useless render (2683)\n",
      "Skipping another useless render (2684)\n",
      "Skipping another useless render (2685)\n",
      "Skipping another useless render (2686)\n",
      "Skipping another useless render (2687)\n",
      "Skipping another useless render (2688)\n",
      "Skipping another useless render (2689)\n",
      "Skipping another useless render (2690)\n",
      "Skipping another useless render (2691)\n",
      "Skipping another useless render (2692)\n",
      "Skipping another useless render (2693)\n",
      "Skipping another useless render (2694)\n",
      "Skipping another useless render (2695)\n",
      "Skipping another useless render (2696)\n",
      "Skipping another useless render (2697)\n",
      "Skipping another useless render (2698)\n",
      "Skipping another useless render (2699)\n",
      "Skipping another useless render (2700)\n",
      "Skipping another useless render (2701)\n",
      "Skipping another useless render (2702)\n"
     ]
    },
    {
     "name": "stderr",
     "output_type": "stream",
     "text": [
      "\n",
      " 80%|███████▉  | 202/253 [37:07<10:40, 12.55s/it]\u001b[A"
     ]
    },
    {
     "name": "stdout",
     "output_type": "stream",
     "text": [
      "Skipping another useless render (2703)\n",
      "Skipping another useless render (2704)\n",
      "Skipping another useless render (2705)\n",
      "Skipping another useless render (2706)\n",
      "Skipping another useless render (2707)\n",
      "Skipping another useless render (2708)\n",
      "Skipping another useless render (2709)\n",
      "Skipping another useless render (2710)\n",
      "Skipping another useless render (2711)\n",
      "Skipping another useless render (2712)\n",
      "Skipping another useless render (2713)\n",
      "Skipping another useless render (2714)\n",
      "Skipping another useless render (2715)\n",
      "Skipping another useless render (2716)\n",
      "Skipping another useless render (2717)\n",
      "Skipping another useless render (2718)\n"
     ]
    },
    {
     "name": "stderr",
     "output_type": "stream",
     "text": [
      "\n",
      " 80%|████████  | 203/253 [37:21<10:39, 12.79s/it]\u001b[A"
     ]
    },
    {
     "name": "stdout",
     "output_type": "stream",
     "text": [
      "Skipping another useless render (2719)\n",
      "Skipping another useless render (2720)\n",
      "Skipping another useless render (2721)\n",
      "Skipping another useless render (2722)\n",
      "Skipping another useless render (2723)\n",
      "Skipping another useless render (2724)\n",
      "Skipping another useless render (2725)\n",
      "Skipping another useless render (2726)\n",
      "Skipping another useless render (2727)\n",
      "Skipping another useless render (2728)\n",
      "Skipping another useless render (2729)\n",
      "Skipping another useless render (2730)\n",
      "Skipping another useless render (2731)\n",
      "Skipping another useless render (2732)\n",
      "Skipping another useless render (2733)\n",
      "Skipping another useless render (2734)\n",
      "Skipping another useless render (2735)\n",
      "Skipping another useless render (2736)\n",
      "Skipping another useless render (2737)\n",
      "Skipping another useless render (2738)\n",
      "Skipping another useless render (2739)\n",
      "Skipping another useless render (2740)\n",
      "Skipping another useless render (2741)\n",
      "Skipping another useless render (2742)\n",
      "Skipping another useless render (2743)\n",
      "Skipping another useless render (2744)\n",
      "Skipping another useless render (2745)\n",
      "Skipping another useless render (2746)\n",
      "Skipping another useless render (2747)\n",
      "Skipping another useless render (2748)\n",
      "Skipping another useless render (2749)\n",
      "Skipping another useless render (2750)\n",
      "Skipping another useless render (2751)\n"
     ]
    },
    {
     "name": "stderr",
     "output_type": "stream",
     "text": [
      "\n",
      " 81%|████████  | 204/253 [37:47<13:52, 16.99s/it]\u001b[A"
     ]
    },
    {
     "name": "stdout",
     "output_type": "stream",
     "text": [
      "Skipping another useless render (2752)\n",
      "Skipping another useless render (2753)\n",
      "Skipping another useless render (2754)\n",
      "Skipping another useless render (2755)\n",
      "Skipping another useless render (2756)\n",
      "Skipping another useless render (2757)\n",
      "Skipping another useless render (2758)\n",
      "Skipping another useless render (2759)\n",
      "Skipping another useless render (2760)\n",
      "Skipping another useless render (2761)\n",
      "Skipping another useless render (2762)\n",
      "Skipping another useless render (2763)\n",
      "Skipping another useless render (2764)\n",
      "Skipping another useless render (2765)\n",
      "Skipping another useless render (2766)\n",
      "Skipping another useless render (2767)\n",
      "Skipping another useless render (2768)\n",
      "Skipping another useless render (2769)\n",
      "Skipping another useless render (2770)\n",
      "Skipping another useless render (2771)\n",
      "Skipping another useless render (2772)\n",
      "Skipping another useless render (2773)\n",
      "Skipping another useless render (2774)\n",
      "Skipping another useless render (2775)\n",
      "Skipping another useless render (2776)\n",
      "Skipping another useless render (2777)\n",
      "Skipping another useless render (2778)\n",
      "Skipping another useless render (2779)\n",
      "Skipping another useless render (2780)\n",
      "Skipping another useless render (2781)\n",
      "Skipping another useless render (2782)\n",
      "Skipping another useless render (2783)\n",
      "Skipping another useless render (2784)\n",
      "Skipping another useless render (2785)\n",
      "Skipping another useless render (2786)\n",
      "Skipping another useless render (2787)\n",
      "Skipping another useless render (2788)\n",
      "Skipping another useless render (2789)\n",
      "Skipping another useless render (2790)\n",
      "Skipping another useless render (2791)\n",
      "Skipping another useless render (2792)\n",
      "Skipping another useless render (2793)\n",
      "Skipping another useless render (2794)\n",
      "Skipping another useless render (2795)\n",
      "Skipping another useless render (2796)\n",
      "Skipping another useless render (2797)\n",
      "Skipping another useless render (2798)\n",
      "Skipping another useless render (2799)\n",
      "Skipping another useless render (2800)\n",
      "Skipping another useless render (2801)\n",
      "Skipping another useless render (2802)\n",
      "Skipping another useless render (2803)\n",
      "Skipping another useless render (2804)\n",
      "Skipping another useless render (2805)\n",
      "Skipping another useless render (2806)\n",
      "Skipping another useless render (2807)\n",
      "Skipping another useless render (2808)\n",
      "Skipping another useless render (2809)\n",
      "Skipping another useless render (2810)\n",
      "Skipping another useless render (2811)\n",
      "Skipping another useless render (2812)\n",
      "Skipping another useless render (2813)\n",
      "Skipping another useless render (2814)\n",
      "Skipping another useless render (2815)\n",
      "Skipping another useless render (2816)\n",
      "Skipping another useless render (2817)\n",
      "Skipping another useless render (2818)\n",
      "Skipping another useless render (2819)\n",
      "Skipping another useless render (2820)\n",
      "Skipping another useless render (2821)\n",
      "Skipping another useless render (2822)\n",
      "Skipping another useless render (2823)\n",
      "Skipping another useless render (2824)\n",
      "Skipping another useless render (2825)\n",
      "Skipping another useless render (2826)\n",
      "Skipping another useless render (2827)\n",
      "Skipping another useless render (2828)\n",
      "Skipping another useless render (2829)\n",
      "Skipping another useless render (2830)\n",
      "Skipping another useless render (2831)\n",
      "Skipping another useless render (2832)\n",
      "Skipping another useless render (2833)\n",
      "Skipping another useless render (2834)\n",
      "Skipping another useless render (2835)\n",
      "Skipping another useless render (2836)\n",
      "Skipping another useless render (2837)\n",
      "Skipping another useless render (2838)\n",
      "Skipping another useless render (2839)\n",
      "Skipping another useless render (2840)\n",
      "Skipping another useless render (2841)\n",
      "Skipping another useless render (2842)\n",
      "Skipping another useless render (2843)\n",
      "Skipping another useless render (2844)\n",
      "Skipping another useless render (2845)\n",
      "Skipping another useless render (2846)\n",
      "Skipping another useless render (2847)\n",
      "Skipping another useless render (2848)\n",
      "Skipping another useless render (2849)\n",
      "Skipping another useless render (2850)\n",
      "Skipping another useless render (2851)\n",
      "Skipping another useless render (2852)\n",
      "Skipping another useless render (2853)\n",
      "Skipping another useless render (2854)\n",
      "Skipping another useless render (2855)\n",
      "Skipping another useless render (2856)\n",
      "Skipping another useless render (2857)\n",
      "Skipping another useless render (2858)\n",
      "Skipping another useless render (2859)\n",
      "Skipping another useless render (2860)\n",
      "Skipping another useless render (2861)\n",
      "Skipping another useless render (2862)\n",
      "Skipping another useless render (2863)\n",
      "Skipping another useless render (2864)\n",
      "Skipping another useless render (2865)\n",
      "Skipping another useless render (2866)\n"
     ]
    },
    {
     "name": "stderr",
     "output_type": "stream",
     "text": [
      "\n",
      " 81%|████████  | 205/253 [39:16<30:45, 38.44s/it]\u001b[A"
     ]
    },
    {
     "name": "stdout",
     "output_type": "stream",
     "text": [
      "Skipping another useless render (2867)\n",
      "Skipping another useless render (2868)\n",
      "Skipping another useless render (2869)\n",
      "Skipping another useless render (2870)\n",
      "Skipping another useless render (2871)\n",
      "Skipping another useless render (2872)\n",
      "Skipping another useless render (2873)\n"
     ]
    },
    {
     "name": "stderr",
     "output_type": "stream",
     "text": [
      "\n",
      " 81%|████████▏ | 206/253 [39:22<22:29, 28.71s/it]\u001b[A"
     ]
    },
    {
     "name": "stdout",
     "output_type": "stream",
     "text": [
      "Skipping another useless render (2874)\n",
      "Skipping another useless render (2875)\n"
     ]
    },
    {
     "name": "stderr",
     "output_type": "stream",
     "text": [
      "\n",
      " 82%|████████▏ | 207/253 [39:24<15:55, 20.77s/it]\u001b[A"
     ]
    },
    {
     "name": "stdout",
     "output_type": "stream",
     "text": [
      "Skipping another useless render (2876)\n",
      "Skipping another useless render (2877)\n",
      "Skipping another useless render (2878)\n",
      "Skipping another useless render (2879)\n",
      "Skipping another useless render (2880)\n",
      "Skipping another useless render (2881)\n",
      "Skipping another useless render (2882)\n",
      "Skipping another useless render (2883)\n",
      "Skipping another useless render (2884)\n",
      "Skipping another useless render (2885)\n"
     ]
    },
    {
     "name": "stderr",
     "output_type": "stream",
     "text": [
      "\n",
      " 82%|████████▏ | 208/253 [39:32<12:46, 17.04s/it]\u001b[A"
     ]
    },
    {
     "name": "stdout",
     "output_type": "stream",
     "text": [
      "Skipping another useless render (2886)\n",
      "Skipping another useless render (2887)\n",
      "Skipping another useless render (2888)\n",
      "Skipping another useless render (2889)\n",
      "Skipping another useless render (2890)\n",
      "Skipping another useless render (2891)\n",
      "Skipping another useless render (2892)\n",
      "Skipping another useless render (2893)\n",
      "Skipping another useless render (2894)\n",
      "Skipping another useless render (2895)\n",
      "Skipping another useless render (2896)\n",
      "Skipping another useless render (2897)\n",
      "Skipping another useless render (2898)\n",
      "Skipping another useless render (2899)\n",
      "Skipping another useless render (2900)\n",
      "Skipping another useless render (2901)\n",
      "Skipping another useless render (2902)\n",
      "Skipping another useless render (2903)\n",
      "Skipping another useless render (2904)\n",
      "Skipping another useless render (2905)\n",
      "Skipping another useless render (2906)\n",
      "Skipping another useless render (2907)\n",
      "Skipping another useless render (2908)\n",
      "Skipping another useless render (2909)\n"
     ]
    },
    {
     "name": "stderr",
     "output_type": "stream",
     "text": [
      "\n",
      " 83%|████████▎ | 209/253 [39:51<12:50, 17.52s/it]\u001b[A"
     ]
    },
    {
     "name": "stdout",
     "output_type": "stream",
     "text": [
      "Skipping another useless render (2910)\n",
      "Skipping another useless render (2911)\n",
      "Skipping another useless render (2912)\n",
      "Skipping another useless render (2913)\n",
      "Skipping another useless render (2914)\n",
      "Skipping another useless render (2915)\n",
      "Skipping another useless render (2916)\n",
      "Skipping another useless render (2917)\n",
      "Skipping another useless render (2918)\n",
      "Skipping another useless render (2919)\n",
      "Skipping another useless render (2920)\n",
      "Skipping another useless render (2921)\n",
      "Skipping another useless render (2922)\n",
      "Skipping another useless render (2923)\n",
      "Skipping another useless render (2924)\n",
      "Skipping another useless render (2925)\n",
      "Skipping another useless render (2926)\n",
      "Skipping another useless render (2927)\n",
      "Skipping another useless render (2928)\n",
      "Skipping another useless render (2929)\n",
      "Skipping another useless render (2930)\n",
      "Skipping another useless render (2931)\n",
      "Skipping another useless render (2932)\n",
      "Skipping another useless render (2933)\n",
      "Skipping another useless render (2934)\n",
      "Skipping another useless render (2935)\n",
      "Skipping another useless render (2936)\n",
      "Skipping another useless render (2937)\n"
     ]
    },
    {
     "name": "stderr",
     "output_type": "stream",
     "text": [
      "\n",
      " 83%|████████▎ | 210/253 [40:14<13:39, 19.05s/it]\u001b[A"
     ]
    },
    {
     "name": "stdout",
     "output_type": "stream",
     "text": [
      "Skipping another useless render (2938)\n"
     ]
    },
    {
     "name": "stderr",
     "output_type": "stream",
     "text": [
      "\n",
      " 83%|████████▎ | 211/253 [40:15<09:38, 13.77s/it]\u001b[A"
     ]
    },
    {
     "name": "stdout",
     "output_type": "stream",
     "text": [
      "Skipping another useless render (2939)\n"
     ]
    },
    {
     "name": "stderr",
     "output_type": "stream",
     "text": [
      "\n",
      " 84%|████████▍ | 212/253 [40:17<06:52, 10.07s/it]\u001b[A"
     ]
    },
    {
     "name": "stdout",
     "output_type": "stream",
     "text": [
      "Skipping another useless render (2940)\n"
     ]
    },
    {
     "name": "stderr",
     "output_type": "stream",
     "text": [
      "\n",
      " 84%|████████▍ | 213/253 [40:18<05:00,  7.51s/it]\u001b[A"
     ]
    },
    {
     "name": "stdout",
     "output_type": "stream",
     "text": [
      "Skipping another useless render (2941)\n",
      "Skipping another useless render (2942)\n",
      "Skipping another useless render (2943)\n",
      "Skipping another useless render (2944)\n",
      "Skipping another useless render (2945)\n",
      "Skipping another useless render (2946)\n",
      "Skipping another useless render (2947)\n",
      "Skipping another useless render (2948)\n",
      "Skipping another useless render (2949)\n",
      "Skipping another useless render (2950)\n",
      "Skipping another useless render (2951)\n",
      "Skipping another useless render (2952)\n",
      "Skipping another useless render (2953)\n",
      "Skipping another useless render (2954)\n",
      "Skipping another useless render (2955)\n",
      "Skipping another useless render (2956)\n",
      "Skipping another useless render (2957)\n",
      "Skipping another useless render (2958)\n",
      "Skipping another useless render (2959)\n",
      "Skipping another useless render (2960)\n",
      "Skipping another useless render (2961)\n",
      "Skipping another useless render (2962)\n"
     ]
    },
    {
     "name": "stderr",
     "output_type": "stream",
     "text": [
      "\n",
      " 85%|████████▍ | 214/253 [40:36<06:59, 10.76s/it]\u001b[A"
     ]
    },
    {
     "name": "stdout",
     "output_type": "stream",
     "text": [
      "Skipping another useless render (2963)\n",
      "Skipping another useless render (2964)\n",
      "Skipping another useless render (2965)\n"
     ]
    },
    {
     "name": "stderr",
     "output_type": "stream",
     "text": [
      "\n",
      " 85%|████████▍ | 215/253 [40:39<05:19,  8.40s/it]\u001b[A"
     ]
    },
    {
     "name": "stdout",
     "output_type": "stream",
     "text": [
      "Skipping another useless render (2966)\n",
      "Skipping another useless render (2967)\n",
      "Skipping another useless render (2968)\n",
      "Skipping another useless render (2969)\n",
      "Skipping another useless render (2970)\n",
      "Skipping another useless render (2971)\n",
      "Skipping another useless render (2972)\n",
      "Skipping another useless render (2973)\n",
      "Skipping another useless render (2974)\n"
     ]
    },
    {
     "name": "stderr",
     "output_type": "stream",
     "text": [
      "\n",
      " 85%|████████▌ | 216/253 [40:47<05:02,  8.17s/it]\u001b[A"
     ]
    },
    {
     "name": "stdout",
     "output_type": "stream",
     "text": [
      "Skipping another useless render (2975)\n",
      "Skipping another useless render (2976)\n"
     ]
    },
    {
     "name": "stderr",
     "output_type": "stream",
     "text": [
      "\n",
      " 86%|████████▌ | 217/253 [40:49<03:50,  6.41s/it]\u001b[A"
     ]
    },
    {
     "name": "stdout",
     "output_type": "stream",
     "text": [
      "Skipping another useless render (2977)\n",
      "Skipping another useless render (2978)\n",
      "Skipping another useless render (2979)\n",
      "Skipping another useless render (2980)\n",
      "Skipping another useless render (2981)\n",
      "Skipping another useless render (2982)\n",
      "Skipping another useless render (2983)\n",
      "Skipping another useless render (2984)\n",
      "Skipping another useless render (2985)\n",
      "Skipping another useless render (2986)\n",
      "Skipping another useless render (2987)\n",
      "Skipping another useless render (2988)\n",
      "Skipping another useless render (2989)\n",
      "Skipping another useless render (2990)\n",
      "Skipping another useless render (2991)\n",
      "Skipping another useless render (2992)\n",
      "Skipping another useless render (2993)\n",
      "Skipping another useless render (2994)\n",
      "Skipping another useless render (2995)\n",
      "Skipping another useless render (2996)\n"
     ]
    },
    {
     "name": "stderr",
     "output_type": "stream",
     "text": [
      "\n",
      " 86%|████████▌ | 218/253 [41:06<05:28,  9.39s/it]\u001b[A"
     ]
    },
    {
     "name": "stdout",
     "output_type": "stream",
     "text": [
      "Skipping another useless render (2997)\n",
      "Skipping another useless render (2998)\n",
      "Skipping another useless render (2999)\n",
      "Skipping another useless render (3000)\n",
      "Skipping another useless render (3001)\n",
      "Skipping another useless render (3002)\n",
      "Skipping another useless render (3003)\n",
      "Skipping another useless render (3004)\n",
      "Skipping another useless render (3005)\n",
      "Skipping another useless render (3006)\n",
      "Skipping another useless render (3007)\n",
      "Skipping another useless render (3008)\n",
      "Skipping another useless render (3009)\n",
      "Skipping another useless render (3010)\n",
      "Skipping another useless render (3011)\n",
      "Skipping another useless render (3012)\n",
      "Skipping another useless render (3013)\n",
      "Skipping another useless render (3014)\n",
      "Skipping another useless render (3015)\n",
      "Skipping another useless render (3016)\n",
      "Skipping another useless render (3017)\n",
      "Skipping another useless render (3018)\n",
      "Skipping another useless render (3019)\n",
      "Skipping another useless render (3020)\n",
      "Skipping another useless render (3021)\n",
      "Skipping another useless render (3022)\n",
      "Skipping another useless render (3023)\n",
      "Skipping another useless render (3024)\n",
      "Skipping another useless render (3025)\n",
      "Skipping another useless render (3026)\n",
      "Skipping another useless render (3027)\n",
      "Skipping another useless render (3028)\n"
     ]
    },
    {
     "name": "stderr",
     "output_type": "stream",
     "text": [
      "\n",
      " 87%|████████▋ | 219/253 [41:31<07:59, 14.10s/it]\u001b[A"
     ]
    },
    {
     "name": "stdout",
     "output_type": "stream",
     "text": [
      "Skipping another useless render (3029)\n",
      "Skipping another useless render (3030)\n",
      "Skipping another useless render (3031)\n",
      "Skipping another useless render (3032)\n",
      "Skipping another useless render (3033)\n",
      "Skipping another useless render (3034)\n",
      "Skipping another useless render (3035)\n",
      "Skipping another useless render (3036)\n",
      "Skipping another useless render (3037)\n"
     ]
    },
    {
     "name": "stderr",
     "output_type": "stream",
     "text": [
      "\n",
      " 87%|████████▋ | 220/253 [41:39<06:44, 12.26s/it]\u001b[A"
     ]
    },
    {
     "name": "stdout",
     "output_type": "stream",
     "text": [
      "Skipping another useless render (3038)\n"
     ]
    },
    {
     "name": "stderr",
     "output_type": "stream",
     "text": [
      "\n",
      " 87%|████████▋ | 221/253 [41:40<04:49,  9.03s/it]\u001b[A"
     ]
    },
    {
     "name": "stdout",
     "output_type": "stream",
     "text": [
      "Skipping another useless render (3039)\n",
      "Skipping another useless render (3040)\n",
      "Skipping another useless render (3041)\n",
      "Skipping another useless render (3042)\n",
      "Skipping another useless render (3043)\n",
      "Skipping another useless render (3044)\n",
      "Skipping another useless render (3045)\n",
      "Skipping another useless render (3046)\n",
      "Skipping another useless render (3047)\n",
      "Skipping another useless render (3048)\n",
      "Skipping another useless render (3049)\n",
      "Skipping another useless render (3050)\n",
      "Skipping another useless render (3051)\n",
      "Skipping another useless render (3052)\n",
      "Skipping another useless render (3053)\n",
      "Skipping another useless render (3054)\n",
      "Skipping another useless render (3055)\n",
      "Skipping another useless render (3056)\n",
      "Skipping another useless render (3057)\n",
      "Skipping another useless render (3058)\n",
      "Skipping another useless render (3059)\n",
      "Skipping another useless render (3060)\n",
      "Skipping another useless render (3061)\n",
      "Skipping another useless render (3062)\n",
      "Skipping another useless render (3063)\n"
     ]
    },
    {
     "name": "stderr",
     "output_type": "stream",
     "text": [
      "\n",
      " 88%|████████▊ | 222/253 [42:01<06:25, 12.43s/it]\u001b[A"
     ]
    },
    {
     "name": "stdout",
     "output_type": "stream",
     "text": [
      "Skipping another useless render (3064)\n",
      "Skipping another useless render (3065)\n",
      "Skipping another useless render (3066)\n",
      "Skipping another useless render (3067)\n",
      "Skipping another useless render (3068)\n"
     ]
    },
    {
     "name": "stderr",
     "output_type": "stream",
     "text": [
      "\n",
      " 88%|████████▊ | 223/253 [42:05<05:00, 10.01s/it]\u001b[A"
     ]
    },
    {
     "name": "stdout",
     "output_type": "stream",
     "text": [
      "Skipping another useless render (3069)\n",
      "Skipping another useless render (3070)\n",
      "Skipping another useless render (3071)\n",
      "Skipping another useless render (3072)\n"
     ]
    },
    {
     "name": "stderr",
     "output_type": "stream",
     "text": [
      "\n",
      " 89%|████████▊ | 224/253 [42:09<03:55,  8.11s/it]\u001b[A"
     ]
    },
    {
     "name": "stdout",
     "output_type": "stream",
     "text": [
      "Skipping another useless render (3073)\n",
      "Skipping another useless render (3074)\n",
      "Skipping another useless render (3075)\n",
      "Skipping another useless render (3076)\n",
      "Skipping another useless render (3077)\n",
      "Skipping another useless render (3078)\n",
      "Skipping another useless render (3079)\n",
      "Skipping another useless render (3080)\n",
      "Skipping another useless render (3081)\n",
      "Skipping another useless render (3082)\n",
      "Skipping another useless render (3083)\n",
      "Skipping another useless render (3084)\n",
      "Skipping another useless render (3085)\n",
      "Skipping another useless render (3086)\n",
      "Skipping another useless render (3087)\n",
      "Skipping another useless render (3088)\n",
      "Skipping another useless render (3089)\n",
      "Skipping another useless render (3090)\n",
      "Skipping another useless render (3091)\n",
      "Skipping another useless render (3092)\n",
      "Skipping another useless render (3093)\n",
      "Skipping another useless render (3094)\n",
      "Skipping another useless render (3095)\n",
      "Skipping another useless render (3096)\n",
      "Skipping another useless render (3097)\n",
      "Skipping another useless render (3098)\n",
      "Skipping another useless render (3099)\n",
      "Skipping another useless render (3100)\n",
      "Skipping another useless render (3101)\n",
      "Skipping another useless render (3102)\n",
      "Skipping another useless render (3103)\n",
      "Skipping another useless render (3104)\n",
      "Skipping another useless render (3105)\n",
      "Skipping another useless render (3106)\n",
      "Skipping another useless render (3107)\n",
      "Skipping another useless render (3108)\n",
      "Skipping another useless render (3109)\n",
      "Skipping another useless render (3110)\n",
      "Skipping another useless render (3111)\n",
      "Skipping another useless render (3112)\n",
      "Skipping another useless render (3113)\n",
      "Skipping another useless render (3114)\n",
      "Skipping another useless render (3115)\n",
      "Skipping another useless render (3116)\n",
      "Skipping another useless render (3117)\n",
      "Skipping another useless render (3118)\n",
      "Skipping another useless render (3119)\n",
      "Skipping another useless render (3120)\n",
      "Skipping another useless render (3121)\n",
      "Skipping another useless render (3122)\n",
      "Skipping another useless render (3123)\n",
      "Skipping another useless render (3124)\n",
      "Skipping another useless render (3125)\n",
      "Skipping another useless render (3126)\n",
      "Skipping another useless render (3127)\n",
      "Skipping another useless render (3128)\n",
      "Skipping another useless render (3129)\n",
      "Skipping another useless render (3130)\n",
      "Skipping another useless render (3131)\n",
      "Skipping another useless render (3132)\n",
      "Skipping another useless render (3133)\n",
      "Skipping another useless render (3134)\n",
      "Skipping another useless render (3135)\n",
      "Skipping another useless render (3136)\n",
      "Skipping another useless render (3137)\n",
      "Skipping another useless render (3138)\n",
      "Skipping another useless render (3139)\n",
      "Skipping another useless render (3140)\n"
     ]
    },
    {
     "name": "stderr",
     "output_type": "stream",
     "text": [
      "\n",
      " 89%|████████▉ | 225/253 [43:01<10:02, 21.51s/it]\u001b[A"
     ]
    },
    {
     "name": "stdout",
     "output_type": "stream",
     "text": [
      "Skipping another useless render (3141)\n",
      "Skipping another useless render (3142)\n",
      "Skipping another useless render (3143)\n",
      "Skipping another useless render (3144)\n",
      "Skipping another useless render (3145)\n",
      "Skipping another useless render (3146)\n",
      "Skipping another useless render (3147)\n",
      "Skipping another useless render (3148)\n",
      "Skipping another useless render (3149)\n",
      "Skipping another useless render (3150)\n",
      "Skipping another useless render (3151)\n",
      "Skipping another useless render (3152)\n",
      "Skipping another useless render (3153)\n",
      "Skipping another useless render (3154)\n",
      "Skipping another useless render (3155)\n",
      "Skipping another useless render (3156)\n"
     ]
    },
    {
     "name": "stderr",
     "output_type": "stream",
     "text": [
      "\n",
      " 89%|████████▉ | 226/253 [43:14<08:30, 18.92s/it]\u001b[A"
     ]
    },
    {
     "name": "stdout",
     "output_type": "stream",
     "text": [
      "Skipping another useless render (3157)\n",
      "Skipping another useless render (3158)\n",
      "Skipping another useless render (3159)\n",
      "Skipping another useless render (3160)\n",
      "Skipping another useless render (3161)\n",
      "Skipping another useless render (3162)\n",
      "Skipping another useless render (3163)\n",
      "Skipping another useless render (3164)\n",
      "Skipping another useless render (3165)\n",
      "Skipping another useless render (3166)\n",
      "Skipping another useless render (3167)\n",
      "Skipping another useless render (3168)\n",
      "Skipping another useless render (3169)\n",
      "Skipping another useless render (3170)\n",
      "Skipping another useless render (3171)\n",
      "Skipping another useless render (3172)\n",
      "Skipping another useless render (3173)\n",
      "Skipping another useless render (3174)\n",
      "Skipping another useless render (3175)\n",
      "Skipping another useless render (3176)\n",
      "Skipping another useless render (3177)\n",
      "Skipping another useless render (3178)\n",
      "Skipping another useless render (3179)\n",
      "Skipping another useless render (3180)\n",
      "Skipping another useless render (3181)\n"
     ]
    },
    {
     "name": "stderr",
     "output_type": "stream",
     "text": [
      "\n",
      " 90%|████████▉ | 227/253 [43:35<08:28, 19.57s/it]\u001b[A"
     ]
    },
    {
     "name": "stdout",
     "output_type": "stream",
     "text": [
      "Skipping another useless render (3182)\n",
      "Skipping another useless render (3183)\n",
      "Skipping another useless render (3184)\n",
      "Skipping another useless render (3185)\n",
      "Skipping another useless render (3186)\n",
      "Skipping another useless render (3187)\n",
      "Skipping another useless render (3188)\n",
      "Skipping another useless render (3189)\n",
      "Skipping another useless render (3190)\n",
      "Skipping another useless render (3191)\n",
      "Skipping another useless render (3192)\n",
      "Skipping another useless render (3193)\n",
      "Skipping another useless render (3194)\n",
      "Skipping another useless render (3195)\n",
      "Skipping another useless render (3196)\n",
      "Skipping another useless render (3197)\n",
      "Skipping another useless render (3198)\n",
      "Skipping another useless render (3199)\n",
      "Skipping another useless render (3200)\n",
      "Skipping another useless render (3201)\n",
      "Skipping another useless render (3202)\n",
      "Skipping another useless render (3203)\n",
      "Skipping another useless render (3204)\n",
      "Skipping another useless render (3205)\n",
      "Skipping another useless render (3206)\n",
      "Skipping another useless render (3207)\n",
      "Skipping another useless render (3208)\n",
      "Skipping another useless render (3209)\n"
     ]
    },
    {
     "name": "stderr",
     "output_type": "stream",
     "text": [
      "\n",
      " 90%|█████████ | 228/253 [43:58<08:32, 20.51s/it]\u001b[A"
     ]
    },
    {
     "name": "stdout",
     "output_type": "stream",
     "text": [
      "Skipping another useless render (3210)\n",
      "Skipping another useless render (3211)\n",
      "Skipping another useless render (3212)\n",
      "Skipping another useless render (3213)\n",
      "Skipping another useless render (3214)\n",
      "Skipping another useless render (3215)\n"
     ]
    },
    {
     "name": "stderr",
     "output_type": "stream",
     "text": [
      "\n",
      " 91%|█████████ | 229/253 [44:03<06:22, 15.92s/it]\u001b[A"
     ]
    },
    {
     "name": "stdout",
     "output_type": "stream",
     "text": [
      "Skipping another useless render (3216)\n",
      "Skipping another useless render (3217)\n",
      "Skipping another useless render (3218)\n",
      "Skipping another useless render (3219)\n",
      "Skipping another useless render (3220)\n",
      "Skipping another useless render (3221)\n",
      "Skipping another useless render (3222)\n",
      "Skipping another useless render (3223)\n",
      "Skipping another useless render (3224)\n",
      "Skipping another useless render (3225)\n",
      "Skipping another useless render (3226)\n",
      "Skipping another useless render (3227)\n",
      "Skipping another useless render (3228)\n",
      "Skipping another useless render (3229)\n",
      "Skipping another useless render (3230)\n",
      "Skipping another useless render (3231)\n",
      "Skipping another useless render (3232)\n",
      "Skipping another useless render (3233)\n",
      "Skipping another useless render (3234)\n",
      "Skipping another useless render (3235)\n",
      "Skipping another useless render (3236)\n",
      "Skipping another useless render (3237)\n",
      "Skipping another useless render (3238)\n",
      "Skipping another useless render (3239)\n",
      "Skipping another useless render (3240)\n",
      "Skipping another useless render (3241)\n"
     ]
    },
    {
     "name": "stderr",
     "output_type": "stream",
     "text": [
      "\n",
      " 91%|█████████ | 230/253 [44:24<06:42, 17.49s/it]\u001b[A"
     ]
    },
    {
     "name": "stdout",
     "output_type": "stream",
     "text": [
      "Skipping another useless render (3242)\n",
      "Skipping another useless render (3243)\n",
      "Skipping another useless render (3244)\n",
      "Skipping another useless render (3245)\n",
      "Skipping another useless render (3246)\n",
      "Skipping another useless render (3247)\n",
      "Skipping another useless render (3248)\n",
      "Skipping another useless render (3249)\n",
      "Skipping another useless render (3250)\n",
      "Skipping another useless render (3251)\n",
      "Skipping another useless render (3252)\n",
      "Skipping another useless render (3253)\n"
     ]
    },
    {
     "name": "stderr",
     "output_type": "stream",
     "text": [
      "\n",
      " 91%|█████████▏| 231/253 [44:34<05:35, 15.27s/it]\u001b[A"
     ]
    },
    {
     "name": "stdout",
     "output_type": "stream",
     "text": [
      "Skipping another useless render (3254)\n",
      "Skipping another useless render (3255)\n",
      "Skipping another useless render (3256)\n"
     ]
    },
    {
     "name": "stderr",
     "output_type": "stream",
     "text": [
      "\n",
      " 92%|█████████▏| 232/253 [44:37<04:02, 11.52s/it]\u001b[A"
     ]
    },
    {
     "name": "stdout",
     "output_type": "stream",
     "text": [
      "Skipping another useless render (3257)\n",
      "Skipping another useless render (3258)\n",
      "Skipping another useless render (3259)\n",
      "Skipping another useless render (3260)\n",
      "Skipping another useless render (3261)\n",
      "Skipping another useless render (3262)\n",
      "Skipping another useless render (3263)\n",
      "Skipping another useless render (3264)\n",
      "Skipping another useless render (3265)\n",
      "Skipping another useless render (3266)\n",
      "Skipping another useless render (3267)\n",
      "Skipping another useless render (3268)\n",
      "Skipping another useless render (3269)\n",
      "Skipping another useless render (3270)\n",
      "Skipping another useless render (3271)\n",
      "Skipping another useless render (3272)\n",
      "Skipping another useless render (3273)\n",
      "Skipping another useless render (3274)\n",
      "Skipping another useless render (3275)\n",
      "Skipping another useless render (3276)\n",
      "Skipping another useless render (3277)\n",
      "Skipping another useless render (3278)\n",
      "Skipping another useless render (3279)\n",
      "Skipping another useless render (3280)\n",
      "Skipping another useless render (3281)\n",
      "Skipping another useless render (3282)\n",
      "Skipping another useless render (3283)\n",
      "Skipping another useless render (3284)\n",
      "Skipping another useless render (3285)\n",
      "Skipping another useless render (3286)\n",
      "Skipping another useless render (3287)\n",
      "Skipping another useless render (3288)\n",
      "Skipping another useless render (3289)\n",
      "Skipping another useless render (3290)\n",
      "Skipping another useless render (3291)\n",
      "Skipping another useless render (3292)\n",
      "Skipping another useless render (3293)\n",
      "Skipping another useless render (3294)\n",
      "Skipping another useless render (3295)\n",
      "Skipping another useless render (3296)\n",
      "Skipping another useless render (3297)\n",
      "Skipping another useless render (3298)\n"
     ]
    },
    {
     "name": "stderr",
     "output_type": "stream",
     "text": [
      "\n",
      " 92%|█████████▏| 233/253 [45:10<05:55, 17.80s/it]\u001b[A"
     ]
    },
    {
     "name": "stdout",
     "output_type": "stream",
     "text": [
      "Skipping another useless render (3299)\n"
     ]
    },
    {
     "name": "stderr",
     "output_type": "stream",
     "text": [
      "\n",
      " 92%|█████████▏| 234/253 [45:11<04:05, 12.92s/it]\u001b[A"
     ]
    },
    {
     "name": "stdout",
     "output_type": "stream",
     "text": [
      "Skipping another useless render (3300)\n",
      "Skipping another useless render (3301)\n"
     ]
    },
    {
     "name": "stderr",
     "output_type": "stream",
     "text": [
      "\n",
      " 93%|█████████▎| 235/253 [45:14<02:55,  9.74s/it]\u001b[A"
     ]
    },
    {
     "name": "stdout",
     "output_type": "stream",
     "text": [
      "Skipping another useless render (3302)\n",
      "Skipping another useless render (3303)\n",
      "Skipping another useless render (3304)\n",
      "Skipping another useless render (3305)\n",
      "Skipping another useless render (3306)\n",
      "Skipping another useless render (3307)\n",
      "Skipping another useless render (3308)\n",
      "Skipping another useless render (3309)\n",
      "Skipping another useless render (3310)\n",
      "Skipping another useless render (3311)\n",
      "Skipping another useless render (3312)\n",
      "Skipping another useless render (3313)\n",
      "Skipping another useless render (3314)\n",
      "Skipping another useless render (3315)\n",
      "Skipping another useless render (3316)\n",
      "Skipping another useless render (3317)\n",
      "Skipping another useless render (3318)\n",
      "Skipping another useless render (3319)\n",
      "Skipping another useless render (3320)\n",
      "Skipping another useless render (3321)\n",
      "Skipping another useless render (3322)\n"
     ]
    },
    {
     "name": "stderr",
     "output_type": "stream",
     "text": [
      "\n",
      " 93%|█████████▎| 236/253 [45:30<03:20, 11.80s/it]\u001b[A"
     ]
    },
    {
     "name": "stdout",
     "output_type": "stream",
     "text": [
      "Skipping another useless render (3323)\n",
      "Skipping another useless render (3324)\n"
     ]
    }
   ],
   "source": [
    "raycaster = None\n",
    "skips = 0\n",
    "visibilities = []\n",
    "for v in trange(N_VOLUMES):\n",
    "    item = ds[v]\n",
    "    vol = make_4d(item['vol']).float().to('cuda')\n",
    "    nam = item['name']\n",
    "    ti.reset()\n",
    "    del raycaster\n",
    "    raycaster = Raycaster(vol.shape[-3:], (W, H), TF_RES, \n",
    "        sampling_rate=SR, near=0.1, far=5.0, max_samples=1, ti_kwargs={'device_memory_fraction':0.5})\n",
    "    for i in trange(N_ITEMS // N_VOLUMES):\n",
    "        while True:\n",
    "            lf = get_rand_pos(1).float().to('cuda')\n",
    "            tf = tex_from_pts(tfgen.generate()).float().to('cuda')\n",
    "            rgbad = raycaster.raycast_nondiff(vol, tf, lf, sampling_rate=SR).squeeze(0)\n",
    "            hst = torch.histc(rgbad[3], BINS, min=0.0, max=1.0)\n",
    "            vis = hst[1:-1].sum()/rgbad[3].numel() # Visibility as in % of pixels with 0.02 < a < 0.9\n",
    "            if (rgbad[3] > 0.0).float().mean() < 0.1 and (rgbad[4] > 0.0).float().mean() < 0.1:\n",
    "                skips += 1\n",
    "                print(f'Skipping another useless render ({skips})')\n",
    "                continue\n",
    "            else:\n",
    "                visibilities.append(vis.cpu().float())\n",
    "                torch.save({\n",
    "                    'vol': nam,\n",
    "                    'tf': tf.squeeze(0).cpu().float(),\n",
    "                    'look_from': lf.squeeze(0).cpu().float(),\n",
    "                    'rgba': rgbad[:4].cpu().half(),\n",
    "                    'wysiwyp1': rgbad[[4]].cpu().half(),\n",
    "                    'wysiwyp2': rgbad[[5]].cpu().half(),\n",
    "                    'wysiwyp3': rgbad[[6]].cpu().half(),\n",
    "                    'alpha1': rgbad[[7]].cpu().half(),\n",
    "                    'alpha2': rgbad[[8]].cpu().half(),\n",
    "                    'alpha3': rgbad[[9]].cpu().half(),\n",
    "                    'visibility': vis.cpu().float()\n",
    "                }, out_dir/f'{nam}_{i}.pt')\n",
    "                break\n",
    "print(f'Average visibility in the dataset: {torch.stack(visibilitieslities).mean():.1%}')"
   ]
  },
  {
   "cell_type": "code",
   "execution_count": null,
   "id": "616be987",
   "metadata": {},
   "outputs": [],
   "source": []
  }
 ],
 "metadata": {
  "kernelspec": {
   "display_name": "Python 3",
   "language": "python",
   "name": "python3"
  },
  "language_info": {
   "codemirror_mode": {
    "name": "ipython",
    "version": 3
   },
   "file_extension": ".py",
   "mimetype": "text/x-python",
   "name": "python",
   "nbconvert_exporter": "python",
   "pygments_lexer": "ipython3",
   "version": "3.9.7"
  },
  "toc": {
   "base_numbering": 1,
   "nav_menu": {},
   "number_sections": true,
   "sideBar": true,
   "skip_h1_title": false,
   "title_cell": "Table of Contents",
   "title_sidebar": "Contents",
   "toc_cell": false,
   "toc_position": {},
   "toc_section_display": true,
   "toc_window_display": false
  },
  "varInspector": {
   "cols": {
    "lenName": 16,
    "lenType": 16,
    "lenVar": 40
   },
   "kernels_config": {
    "python": {
     "delete_cmd_postfix": "",
     "delete_cmd_prefix": "del ",
     "library": "var_list.py",
     "varRefreshCmd": "print(var_dic_list())"
    },
    "r": {
     "delete_cmd_postfix": ") ",
     "delete_cmd_prefix": "rm(",
     "library": "var_list.r",
     "varRefreshCmd": "cat(var_dic_list()) "
    }
   },
   "types_to_exclude": [
    "module",
    "function",
    "builtin_function_or_method",
    "instance",
    "_Feature"
   ],
   "window_display": false
  }
 },
 "nbformat": 4,
 "nbformat_minor": 5
}
