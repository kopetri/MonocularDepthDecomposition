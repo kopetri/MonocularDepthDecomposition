{
 "cells": [
  {
   "cell_type": "code",
   "execution_count": 1,
   "id": "ba751520",
   "metadata": {
    "ExecuteTime": {
     "end_time": "2022-03-25T05:19:27.084605Z",
     "start_time": "2022-03-25T05:19:20.207121Z"
    }
   },
   "outputs": [
    {
     "name": "stdout",
     "output_type": "stream",
     "text": [
      "[Taichi] version 0.8.1, llvm 10.0.0, commit cc2dd342, linux, python 3.9.7\n",
      "[TaiGLSL] version 0.0.11\n"
     ]
    }
   ],
   "source": [
    "from pathlib import Path\n",
    "import torch\n",
    "import taichi as ti\n",
    "\n",
    "from torchvtk.datasets import TorchDataset\n",
    "from torchvtk.utils import make_4d, tex_from_pts, TFGenerator\n",
    "from torchvtk.rendering import plot_tf\n",
    "\n",
    "from differender.utils import get_tf, in_circles, get_rand_pos\n",
    "from differender.volume_raycaster import Raycaster, Mode\n",
    "import matplotlib.pyplot as plt"
   ]
  },
  {
   "cell_type": "code",
   "execution_count": 2,
   "id": "39f48a72",
   "metadata": {
    "ExecuteTime": {
     "end_time": "2022-03-25T05:21:47.358728Z",
     "start_time": "2022-03-25T05:21:47.354221Z"
    }
   },
   "outputs": [],
   "source": [
    "ivw_export = Path('/home/dome/Dev/SemiTransparentDepth/test_data/inviwo_export')\n",
    "pred_path = ivw_export.parent/'predictions'"
   ]
  },
  {
   "cell_type": "code",
   "execution_count": 5,
   "id": "55e7259d",
   "metadata": {
    "ExecuteTime": {
     "end_time": "2022-03-25T05:22:55.466404Z",
     "start_time": "2022-03-25T05:22:55.461647Z"
    }
   },
   "outputs": [],
   "source": [
    "fns = list(ivw_export.rglob('*.npy'))\n"
   ]
  },
  {
   "cell_type": "code",
   "execution_count": 6,
   "id": "7e5ad29d",
   "metadata": {
    "ExecuteTime": {
     "end_time": "2022-03-25T05:22:55.801409Z",
     "start_time": "2022-03-25T05:22:55.792557Z"
    }
   },
   "outputs": [
    {
     "data": {
      "text/plain": [
       "[]"
      ]
     },
     "execution_count": 6,
     "metadata": {},
     "output_type": "execute_result"
    }
   ],
   "source": [
    "fns"
   ]
  }
 ],
 "metadata": {
  "kernelspec": {
   "display_name": "Python [conda env:stdepth] *",
   "language": "python",
   "name": "conda-env-stdepth-py"
  },
  "language_info": {
   "codemirror_mode": {
    "name": "ipython",
    "version": 3
   },
   "file_extension": ".py",
   "mimetype": "text/x-python",
   "name": "python",
   "nbconvert_exporter": "python",
   "pygments_lexer": "ipython3",
   "version": "3.9.7"
  },
  "toc": {
   "base_numbering": 1,
   "nav_menu": {},
   "number_sections": true,
   "sideBar": true,
   "skip_h1_title": false,
   "title_cell": "Table of Contents",
   "title_sidebar": "Contents",
   "toc_cell": false,
   "toc_position": {},
   "toc_section_display": true,
   "toc_window_display": false
  },
  "varInspector": {
   "cols": {
    "lenName": 16,
    "lenType": 16,
    "lenVar": 40
   },
   "kernels_config": {
    "python": {
     "delete_cmd_postfix": "",
     "delete_cmd_prefix": "del ",
     "library": "var_list.py",
     "varRefreshCmd": "print(var_dic_list())"
    },
    "r": {
     "delete_cmd_postfix": ") ",
     "delete_cmd_prefix": "rm(",
     "library": "var_list.r",
     "varRefreshCmd": "cat(var_dic_list()) "
    }
   },
   "types_to_exclude": [
    "module",
    "function",
    "builtin_function_or_method",
    "instance",
    "_Feature"
   ],
   "window_display": false
  }
 },
 "nbformat": 4,
 "nbformat_minor": 5
}
